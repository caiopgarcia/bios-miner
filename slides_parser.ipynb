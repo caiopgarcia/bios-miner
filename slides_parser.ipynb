{
 "cells": [
  {
   "cell_type": "markdown",
   "id": "ed697b32",
   "metadata": {
    "slideshow": {
     "slide_type": "slide"
    }
   },
   "source": [
    "# <h1 style=\"color:#d82036\">Bios Slides Parser</h1>"
   ]
  },
  {
   "cell_type": "markdown",
   "id": "47602ae2",
   "metadata": {
    "slideshow": {
     "slide_type": "subslide"
    }
   },
   "source": [
    "**Example of a Bio:**\n",
    "\n",
    "![Example of a Bio](bio.png \"Example of a Bio\")"
   ]
  },
  {
   "cell_type": "markdown",
   "id": "a2d4a323",
   "metadata": {
    "slideshow": {
     "slide_type": "slide"
    }
   },
   "source": [
    "### Desired Data ouput"
   ]
  },
  {
   "cell_type": "markdown",
   "id": "13894f6a",
   "metadata": {
    "slideshow": {
     "slide_type": "subslide"
    }
   },
   "source": [
    "```json\n",
    "{\n",
    "    \"user_id\": \"\"\n",
    "    \"user_name\": \"\"\n",
    "    \"overview\": \"\"\n",
    "    \"core_focus\": \"\"\n",
    "    \"experiences\": {\"org\": \"\", \"role\":\"\", \"description\": \"\"}\n",
    "    \"key_skills\": \"\"[]\n",
    "    \"tech_stack\": \"\"[]\n",
    "    \"key_clients\": \"\"\n",
    "}\n",
    "```"
   ]
  },
  {
   "cell_type": "markdown",
   "id": "ef03f77a",
   "metadata": {
    "slideshow": {
     "slide_type": "slide"
    }
   },
   "source": [
    "### Importing libraries"
   ]
  },
  {
   "cell_type": "code",
   "execution_count": 5,
   "id": "0beacf0c",
   "metadata": {
    "slideshow": {
     "slide_type": "subslide"
    }
   },
   "outputs": [
    {
     "name": "stdout",
     "output_type": "stream",
     "text": [
      "Intel MKL WARNING: Support of Intel(R) Streaming SIMD Extensions 4.2 (Intel(R) SSE4.2) enabled only processors has been deprecated. Intel oneAPI Math Kernel Library 2025.0 will require Intel(R) Advanced Vector Extensions (Intel(R) AVX) instructions.\n",
      "Intel MKL WARNING: Support of Intel(R) Streaming SIMD Extensions 4.2 (Intel(R) SSE4.2) enabled only processors has been deprecated. Intel oneAPI Math Kernel Library 2025.0 will require Intel(R) Advanced Vector Extensions (Intel(R) AVX) instructions.\n"
     ]
    }
   ],
   "source": [
    "import pandas as pd\n",
    "import json\n",
    "from uuid import uuid4"
   ]
  },
  {
   "cell_type": "markdown",
   "id": "46a66b67",
   "metadata": {
    "slideshow": {
     "slide_type": "subslide"
    }
   },
   "source": [
    "Import slides' JSON"
   ]
  },
  {
   "cell_type": "markdown",
   "id": "7614a82f",
   "metadata": {
    "slideshow": {
     "slide_type": "notes"
    }
   },
   "source": [
    "In future we would like to directly integrate to google slides api"
   ]
  },
  {
   "cell_type": "code",
   "execution_count": 6,
   "id": "a4d09037",
   "metadata": {
    "slideshow": {
     "slide_type": "subslide"
    }
   },
   "outputs": [],
   "source": [
    "with open('./slides-13.09.json') as t:\n",
    "    data = json.load(t)"
   ]
  },
  {
   "cell_type": "markdown",
   "id": "6f270897",
   "metadata": {
    "slideshow": {
     "slide_type": "slide"
    }
   },
   "source": [
    "### Slide Function"
   ]
  },
  {
   "cell_type": "code",
   "execution_count": 7,
   "id": "20d7129d",
   "metadata": {
    "slideshow": {
     "slide_type": "subslide"
    }
   },
   "outputs": [],
   "source": [
    "def slides_parser(raw_presentation):\n",
    "    slides = pd.DataFrame(raw_presentation)\n",
    "    return slides"
   ]
  },
  {
   "cell_type": "markdown",
   "id": "8aa9753b",
   "metadata": {
    "slideshow": {
     "slide_type": "subslide"
    }
   },
   "source": [
    "Processing of slides + Deletion of skipped slides"
   ]
  },
  {
   "cell_type": "code",
   "execution_count": 11,
   "id": "3cb0e167",
   "metadata": {
    "slideshow": {
     "slide_type": "subslide"
    }
   },
   "outputs": [
    {
     "name": "stdout",
     "output_type": "stream",
     "text": [
      "No. of objects: \u001b[1m404\n"
     ]
    }
   ],
   "source": [
    "temp_slides = slides_parser(data['slides'])\n",
    "ids = []\n",
    "for ind, i in enumerate(temp_slides['slideProperties']):\n",
    "    try:\n",
    "        if i['isSkipped'] == True:\n",
    "            ids.append(ind)\n",
    "    except:\n",
    "        continue\n",
    "\n",
    "slides = temp_slides.drop(ids)\n",
    "print(\"No. of objects: \" + \"\\033[1m\"+str(slides.size))"
   ]
  },
  {
   "cell_type": "markdown",
   "id": "440297fe",
   "metadata": {
    "slideshow": {
     "slide_type": "slide"
    }
   },
   "source": [
    "\n",
    "### Slide parser function"
   ]
  },
  {
   "cell_type": "code",
   "execution_count": 142,
   "id": "5683536b",
   "metadata": {
    "slideshow": {
     "slide_type": "fragment"
    }
   },
   "outputs": [],
   "source": [
    "bio_objects = {}"
   ]
  },
  {
   "cell_type": "code",
   "execution_count": 143,
   "id": "eaeb108c",
   "metadata": {
    "slideshow": {
     "slide_type": "subslide"
    }
   },
   "outputs": [],
   "source": [
    "def text_element_parser(text_elements, page_element_no, slide_no):\n",
    "    bio_objects[str(slide_no)][str(page_element_no)] = []\n",
    "    for i in text_elements:\n",
    "        try:\n",
    "            bio_objects[str(slide_no)][str(page_element_no)].append(str(i['textRun']['content']))\n",
    "        except:\n",
    "            continue\n",
    "\n",
    "def page_elements_parser(slide_page_elements, slide_no):\n",
    "    bio_objects[str(slide_no)] = {}\n",
    "    for idx, i in enumerate(slide_page_elements):\n",
    "        try:\n",
    "            text_element_parser(i['shape']['text']['textElements'], idx, slide_no)\n",
    "        except:\n",
    "            continue"
   ]
  },
  {
   "cell_type": "code",
   "execution_count": 144,
   "id": "f7a99b20",
   "metadata": {
    "slideshow": {
     "slide_type": "subslide"
    }
   },
   "outputs": [
    {
     "name": "stdout",
     "output_type": "stream",
     "text": [
      "\u001b[1m101 slides\n"
     ]
    }
   ],
   "source": [
    "for ind in slides.index:\n",
    "    try:\n",
    "        page_elements_parser(slides['pageElements'][ind], ind)\n",
    "    except:\n",
    "        continue\n",
    "print(\"\\033[1m\"+ str(len(bio_objects))+ \" slides\")"
   ]
  },
  {
   "cell_type": "markdown",
   "id": "7da232ba",
   "metadata": {},
   "source": [
    "#### Removal of non Bio slides"
   ]
  },
  {
   "cell_type": "code",
   "execution_count": 145,
   "id": "662fb833",
   "metadata": {},
   "outputs": [
    {
     "name": "stdout",
     "output_type": "stream",
     "text": [
      "\u001b[1m90 slides\n"
     ]
    }
   ],
   "source": [
    "for i in bio_objects.copy().keys():\n",
    "    if len(bio_objects[i]) < 5 or i == '2':\n",
    "        del bio_objects[i]\n",
    "print(\"\\033[1m\"+ str(len(bio_objects))+ \" slides\")"
   ]
  },
  {
   "cell_type": "markdown",
   "id": "a7bd70c0",
   "metadata": {},
   "source": [
    "### Data cleaning"
   ]
  },
  {
   "cell_type": "code",
   "execution_count": 16,
   "id": "d254fe49",
   "metadata": {},
   "outputs": [],
   "source": [
    "def bios_cleaner(bios_argument):\n",
    "    bios = {}\n",
    "    for slide in bios_argument:\n",
    "        bios[slide] = {}\n",
    "        try:\n",
    "            for element in bios_argument[slide]:\n",
    "                bios[slide][element] = []\n",
    "                try:\n",
    "                    for ind, j in enumerate(bios_argument[slide][element]):\n",
    "                        if j.strip().replace('|','').replace('-','') == '':\n",
    "                            continue\n",
    "                        else:\n",
    "                            bios[slide][element].append(''.join(j.strip().replace(\"|\",\"\").replace(\"-\",\"\").lower()).split())\n",
    "                except:\n",
    "                    if bios[slide][element][0].strip().replace('|','').replace('-','') == '':\n",
    "                        del bios[slide][element]\n",
    "                    else:\n",
    "                        bios[slide][element].append(''.join(bios[slide][element][0].strip().replace(\"|\",\"\").replace(\"-\",\"\").lower()).split())\n",
    "        except:\n",
    "            raise Exception('Wrong slide structure!')\n",
    "    return bios"
   ]
  },
  {
   "cell_type": "code",
   "execution_count": 18,
   "id": "689e5d80",
   "metadata": {
    "scrolled": false
   },
   "outputs": [],
   "source": [
    "# bio_objects = bios_cleaner(bio_objects)\n"
   ]
  },
  {
   "cell_type": "code",
   "execution_count": 129,
   "id": "e7609b89",
   "metadata": {},
   "outputs": [
    {
     "data": {
      "text/plain": [
       "dict_keys(['4', '5', '6', '7', '8', '9', '11', '13', '14', '15', '16', '17', '18', '19', '20', '22', '23', '24', '25', '26', '27', '28', '29', '30', '32', '33', '34', '35', '36', '37', '38', '40', '41', '42', '43', '44', '45', '46', '47', '48', '50', '51', '52', '54', '55', '56', '57', '58', '59', '60', '61', '62', '64', '65', '66', '67', '68', '69', '70', '72', '74', '75', '76', '78', '79', '80', '81', '82', '83', '84', '85', '86', '87', '88', '89', '90', '91', '92', '93', '94', '95', '96', '99', '100', '101', '102', '103', '104', '105', '106'])"
      ]
     },
     "execution_count": 129,
     "metadata": {},
     "output_type": "execute_result"
    }
   ],
   "source": [
    "bio_objects.keys()"
   ]
  },
  {
   "cell_type": "code",
   "execution_count": null,
   "id": "1902a024",
   "metadata": {},
   "outputs": [],
   "source": []
  },
  {
   "cell_type": "code",
   "execution_count": null,
   "id": "5583ac4d",
   "metadata": {},
   "outputs": [],
   "source": []
  },
  {
   "cell_type": "code",
   "execution_count": null,
   "id": "ee349ec6",
   "metadata": {},
   "outputs": [],
   "source": []
  },
  {
   "cell_type": "code",
   "execution_count": null,
   "id": "4be344ab",
   "metadata": {},
   "outputs": [],
   "source": []
  },
  {
   "cell_type": "code",
   "execution_count": null,
   "id": "1c8087c8",
   "metadata": {},
   "outputs": [],
   "source": []
  },
  {
   "cell_type": "code",
   "execution_count": null,
   "id": "02a6d056",
   "metadata": {},
   "outputs": [],
   "source": []
  },
  {
   "cell_type": "code",
   "execution_count": null,
   "id": "d97b2f7c",
   "metadata": {},
   "outputs": [],
   "source": []
  },
  {
   "cell_type": "code",
   "execution_count": null,
   "id": "0bf5101f",
   "metadata": {},
   "outputs": [],
   "source": []
  },
  {
   "cell_type": "code",
   "execution_count": 147,
   "id": "1ead2324",
   "metadata": {},
   "outputs": [],
   "source": [
    "#slide 4\n",
    "train_data['role_and_title'] = bio_objects['4']['0']\n",
    "train_data['overview'] = bio_objects['4']['1']\n",
    "train_data['key_skills'] = bio_objects['4']['2']\n",
    "train_data['core_focus'] = bio_objects['4']['3']\n",
    "train_data['clients'] = bio_objects['4']['4']\n",
    "train_data['industries'] = bio_objects['4']['5']\n",
    "train_data['tech_stack'] = bio_objects['4']['6']\n",
    "train_data['name'] = bio_objects['4']['7']\n",
    "train_data['experiences'] = [bio_objects['4']['9']]\n",
    "train_data['experiences'].append(bio_objects['4']['10'])\n",
    "train_data['experiences'].append(bio_objects['4']['11'])"
   ]
  },
  {
   "cell_type": "code",
   "execution_count": 148,
   "id": "b175b5f9",
   "metadata": {},
   "outputs": [
    {
     "data": {
      "text/plain": [
       "{'role_and_title': ['Squad Lead AND Board Game Geek\\n'],\n",
       " 'overview': ['Technical delivery lead and Agile coach with over 10 years of experience in digital and professional services\\n'],\n",
       " 'key_skills': ['Agile Coaching and Delivery Management\\n'],\n",
       " 'core_focus': ['Agile/Scrum, Coaching, Career Development, Delivery Management\\n'],\n",
       " 'clients': ['Avios\\n',\n",
       "  'Costa Coffee\\n',\n",
       "  'Diageo\\n',\n",
       "  'Expedia\\n',\n",
       "  'Ruffer\\n',\n",
       "  'Taylor & Francis\\n',\n",
       "  'Travis Perkins\\n'],\n",
       " 'industries': ['Academic Publishing\\n',\n",
       "  'B2B and B2C\\n',\n",
       "  'Financial Services\\n',\n",
       "  'Food and Drink\\n',\n",
       "  'Hospitality\\n',\n",
       "  'Real Estate\\n',\n",
       "  'Retail\\n',\n",
       "  'Travel\\n'],\n",
       " 'tech_stack': ['Scrum @ Scale Certified Practitioner\\n',\n",
       "  'Professional Scrum Master I Certified\\n',\n",
       "  'Jira\\n',\n",
       "  '\\n'],\n",
       " 'name': ['Alex Minssieux\\n'],\n",
       " 'experiences': [['Agile Coach and Scrum Master\\n',\n",
       "   'Ruffer\\n',\n",
       "   '\\n',\n",
       "   'Alex provided Agile coaching and support across 7 dev teams, which included developing and delivering an 8-week Agile training series.\\n',\n",
       "   '\\n',\n",
       "   'In addition, Alex stepped in as the hands-on Scrum Master for a struggling team, turning around team morale and doubling velocity by implementing new Agile ways of working.\\n'],\n",
       "  ['Delivery Lead and Senior Analyst\\n',\n",
       "   'Avios\\n',\n",
       "   '\\n',\n",
       "   'Alex led a cross-functional team to define and implement an API strategy for the business.\\n',\n",
       "   '\\n',\n",
       "   'Streamlined business processes\\n',\n",
       "   'Created and delivered API education training\\n',\n",
       "   'Improved the experience for API users\\n'],\n",
       "  ['Product Owner\\n',\n",
       "   'Travis Perkins\\n',\n",
       "   '\\n',\n",
       "   'As the Product Owner for the Online Checkout team, Alex managed the product roadmap and prioritised the backlog across two scrum teams. He also created the product vision and ensured alignment across business stakeholders and development teams.\\n',\n",
       "   '\\n',\n",
       "   'Alex reshaped the team’s ways of working to increase velocity and transparency, coaching team members on Agile best practices.\\n',\n",
       "   '\\n',\n",
       "   '\\n']]}"
      ]
     },
     "execution_count": 148,
     "metadata": {},
     "output_type": "execute_result"
    }
   ],
   "source": [
    "train_data"
   ]
  },
  {
   "cell_type": "markdown",
   "id": "6f9286df",
   "metadata": {},
   "source": [
    "### Learning"
   ]
  },
  {
   "cell_type": "markdown",
   "id": "3fff5759",
   "metadata": {},
   "source": [
    "Training data (manual approach)"
   ]
  },
  {
   "cell_type": "code",
   "execution_count": 146,
   "id": "64c4bd74",
   "metadata": {},
   "outputs": [],
   "source": [
    "train_data = {}"
   ]
  },
  {
   "cell_type": "code",
   "execution_count": 50,
   "id": "817533e2",
   "metadata": {},
   "outputs": [],
   "source": [
    "#slide 4\n",
    "train_data['role_and_title'] = bio_objects['4']['0']\n",
    "train_data['overview'] = bio_objects['4']['1']\n",
    "train_data['key_skills'] = bio_objects['4']['2']\n",
    "train_data['core_focus'] = bio_objects['4']['3']\n",
    "train_data['clients'] = bio_objects['4']['4']\n",
    "train_data['industries'] = bio_objects['4']['5']\n",
    "train_data['tech_stack'] = bio_objects['4']['6']\n",
    "train_data['name'] = bio_objects['4']['7']\n",
    "train_data['experiences'] = [bio_objects['4']['9']]\n",
    "train_data['experiences'].append(bio_objects['4']['10'])\n",
    "train_data['experiences'].append(bio_objects['4']['11'])\n",
    "\n",
    "#slide 11\n",
    "train_data['role_and_title'].append(bio_objects['11']['0'])\n",
    "train_data['overview'].append(bio_objects['11']['1'])\n",
    "train_data['core_focus'].append(bio_objects['11']['2'])\n",
    "train_data['key_skills'].append(bio_objects['11']['3'])\n",
    "train_data['clients'].append(bio_objects['11']['4'])\n",
    "train_data['industries'].append(bio_objects['11']['5'])\n",
    "train_data['tech_stack'].append(bio_objects['11']['6'])\n",
    "train_data['name'].append(bio_objects['11']['7'])\n",
    "train_data['experiences'].append([bio_objects['11']['9']])\n",
    "train_data['experiences'].append(bio_objects['11']['10'])\n",
    "train_data['experiences'].append(bio_objects['11']['11'])\n",
    "\n",
    "#slide 16\n",
    "train_data['role_and_title'].append(bio_objects['16']['0'])\n",
    "train_data['overview'].append(bio_objects['16']['1'])\n",
    "train_data['core_focus'].append(bio_objects['16']['2'])\n",
    "train_data['key_skills'].append(bio_objects['16']['3'])\n",
    "train_data['clients'].append(bio_objects['16']['4'])\n",
    "train_data['industries'].append(bio_objects['16']['5'])\n",
    "train_data['tech_stack'].append(bio_objects['16']['6'])\n",
    "train_data['name'].append(bio_objects['16']['7'])\n",
    "train_data['experiences'].append([bio_objects['16']['8']])\n",
    "train_data['experiences'].append(bio_objects['16']['9'])\n",
    "train_data['experiences'].append(bio_objects['16']['10'])\n",
    "\n",
    "#slide 28\n",
    "train_data['role_and_title'].append(bio_objects['28']['8'])\n",
    "train_data['overview'].append(bio_objects['28']['4'])\n",
    "train_data['key_skills'].append(bio_objects['28']['6'])\n",
    "train_data['core_focus'].append(bio_objects['28']['5'])\n",
    "train_data['clients'].append(bio_objects['28']['12'])\n",
    "train_data['industries'].append(bio_objects['28']['11'])\n",
    "train_data['tech_stack'].append(bio_objects['28']['7'])\n",
    "train_data['name'].append(bio_objects['28']['3'])\n",
    "train_data['experiences'].append([bio_objects['28']['0']])\n",
    "train_data['experiences'].append(bio_objects['28']['1'])\n",
    "train_data['experiences'].append(bio_objects['28']['2'])\n",
    "\n",
    "#slide 29\n",
    "train_data['role_and_title'].append(bio_objects['29']['9'])\n",
    "train_data['overview'].append(bio_objects['29']['7'])\n",
    "train_data['key_skills'].append(bio_objects['29']['10'])\n",
    "train_data['core_focus'].append(bio_objects['29']['11'])\n",
    "train_data['clients'].append(bio_objects['29']['0'])\n",
    "train_data['industries'].append(bio_objects['29']['1'])\n",
    "train_data['tech_stack'].append(bio_objects['29']['2'])\n",
    "train_data['name'].append(bio_objects['29']['8'])\n",
    "train_data['experiences'].append([bio_objects['29']['4']])\n",
    "train_data['experiences'].append(bio_objects['29']['5'])\n",
    "train_data['experiences'].append(bio_objects['29']['13'])\n",
    "\n",
    "#slide 33\n",
    "train_data['role_and_title'].append(bio_objects['33']['10'])\n",
    "train_data['overview'].append(bio_objects['33']['6'])\n",
    "train_data['key_skills'].append(bio_objects['33']['8'])\n",
    "train_data['core_focus'].append(bio_objects['33']['7'])\n",
    "train_data['clients'].append(bio_objects['33']['5'])\n",
    "train_data['industries'].append(bio_objects['33']['4'])\n",
    "train_data['tech_stack'].append(bio_objects['33']['3'])\n",
    "train_data['name'].append(bio_objects['33']['11'])\n",
    "train_data['experiences'].append([bio_objects['33']['0']])\n",
    "train_data['experiences'].append(bio_objects['33']['1'])\n",
    "train_data['experiences'].append(bio_objects['33']['2'])\n",
    "\n",
    "#slide 40\n",
    "train_data['role_and_title'].append(bio_objects['40']['0'])\n",
    "train_data['overview'].append(bio_objects['40']['1'])\n",
    "train_data['key_skills'].append(bio_objects['40']['3'])\n",
    "train_data['core_focus'].append(bio_objects['40']['2'])\n",
    "train_data['clients'].append(bio_objects['40']['4'])\n",
    "train_data['industries'].append(bio_objects['40']['5'])\n",
    "train_data['tech_stack'].append(bio_objects['40']['6'])\n",
    "train_data['name'].append(bio_objects['40']['7'])\n",
    "train_data['experiences'].append([bio_objects['40']['9']])\n",
    "train_data['experiences'].append(bio_objects['40']['10'])\n",
    "train_data['experiences'].append(bio_objects['40']['11'])\n",
    "\n",
    "#slide 65\n",
    "train_data['role_and_title'].append(bio_objects['65']['0'])\n",
    "train_data['overview'].append(bio_objects['65']['1'])\n",
    "train_data['key_skills'].append(bio_objects['65']['3'])\n",
    "train_data['core_focus'].append(bio_objects['65']['2'])\n",
    "train_data['clients'].append(bio_objects['65']['4'])\n",
    "train_data['industries'].append(bio_objects['65']['5'])\n",
    "train_data['tech_stack'].append(bio_objects['65']['6'])\n",
    "train_data['name'].append(bio_objects['65']['7'])\n",
    "train_data['experiences'].append([bio_objects['65']['9']])\n",
    "train_data['experiences'].append(bio_objects['65']['10'])\n",
    "train_data['experiences'].append(bio_objects['65']['11'])\n",
    "\n",
    "#slide 66\n",
    "train_data['role_and_title'].append(bio_objects['66']['10'])\n",
    "train_data['overview'].append(bio_objects['66']['11'])\n",
    "train_data['key_skills'].append(bio_objects['66']['13'])\n",
    "train_data['core_focus'].append(bio_objects['66']['12'])\n",
    "train_data['clients'].append(bio_objects['66']['6'])\n",
    "train_data['industries'].append(bio_objects['66']['7'])\n",
    "train_data['tech_stack'].append(bio_objects['66']['8'])\n",
    "train_data['name'].append(bio_objects['66']['9'])\n",
    "train_data['experiences'].append([bio_objects['66']['3']])\n",
    "train_data['experiences'].append(bio_objects['66']['4'])\n",
    "train_data['experiences'].append(bio_objects['66']['5'])\n",
    "\n",
    "#slide 72\n",
    "train_data['role_and_title'].append(bio_objects['72']['0'])\n",
    "train_data['overview'].append(bio_objects['72']['1'])\n",
    "train_data['key_skills'].append(bio_objects['72']['3'])\n",
    "train_data['core_focus'].append(bio_objects['72']['2'])\n",
    "train_data['clients'].append(bio_objects['72']['4'])\n",
    "train_data['industries'].append(bio_objects['72']['5'])\n",
    "train_data['tech_stack'].append(bio_objects['72']['6'])\n",
    "train_data['name'].append(bio_objects['72']['7'])\n",
    "train_data['experiences'].append([bio_objects['72']['9']])\n",
    "train_data['experiences'].append(bio_objects['72']['10'])\n",
    "train_data['experiences'].append(bio_objects['72']['11'])\n",
    "train_data['experiences'].append(bio_objects['72']['12'])\n",
    "\n",
    "#slide 84\n",
    "train_data['role_and_title'].append(bio_objects['84']['3'])\n",
    "train_data['overview'].append(bio_objects['84']['4'])\n",
    "train_data['key_skills'].append(bio_objects['84']['6'])\n",
    "train_data['core_focus'].append(bio_objects['84']['5'])\n",
    "train_data['clients'].append(bio_objects['84']['7'])\n",
    "train_data['industries'].append(bio_objects['84']['8'])\n",
    "train_data['tech_stack'].append(bio_objects['84']['9'])\n",
    "train_data['name'].append(bio_objects['84']['10'])\n",
    "train_data['experiences'].append([bio_objects['84']['0']])\n",
    "train_data['experiences'].append(bio_objects['84']['1'])\n",
    "train_data['experiences'].append(bio_objects['84']['2'])\n",
    "\n",
    "#slide 90\n",
    "train_data['role_and_title'].append(bio_objects['90']['10'])\n",
    "train_data['overview'].append(bio_objects['90']['11'])\n",
    "train_data['key_skills'].append(bio_objects['90']['13'])\n",
    "train_data['core_focus'].append(bio_objects['90']['12'])\n",
    "train_data['clients'].append(bio_objects['90']['6'])\n",
    "train_data['industries'].append(bio_objects['90']['7'])\n",
    "train_data['tech_stack'].append(bio_objects['90']['8'])\n",
    "train_data['name'].append(bio_objects['90']['9'])\n",
    "train_data['experiences'].append([bio_objects['90']['3']])\n",
    "train_data['experiences'].append(bio_objects['90']['4'])\n",
    "train_data['experiences'].append(bio_objects['90']['5'])\n",
    "\n",
    "#slide 91\n",
    "train_data['role_and_title'].append(bio_objects['91']['5'])\n",
    "train_data['overview'].append(bio_objects['91']['1'])\n",
    "train_data['key_skills'].append(bio_objects['91']['3'])\n",
    "train_data['core_focus'].append(bio_objects['91']['2'])\n",
    "train_data['clients'].append(bio_objects['91']['6'])\n",
    "train_data['industries'].append(bio_objects['91']['7'])\n",
    "train_data['tech_stack'].append(bio_objects['91']['8'])\n",
    "train_data['name'].append(bio_objects['91']['0'])\n",
    "train_data['experiences'].append([bio_objects['91']['9']])\n",
    "train_data['experiences'].append(bio_objects['91']['10'])\n",
    "train_data['experiences'].append(bio_objects['91']['11'])"
   ]
  },
  {
   "cell_type": "code",
   "execution_count": 51,
   "id": "5ce4d5f8",
   "metadata": {},
   "outputs": [],
   "source": [
    "key_clients = ['Squad', 'Whitbread', 'London\\n', 'Lloyds of London','Department', 'Azzurri\\n', 'Azzurri', 'Azzurri Group', 'Azzurri Group\\n', 'Loyds', 'Walters\\n', 'Openr\\n', 'Openr', 'OpenR', ' Oxford','Oxford','Aviva', 'Group', 'Home Office', 'Citi', 'S&P', 'AXA', 'TUI', 'Mopro', 'FWD', 'FinTech/InsurTech', 'e-Commerce', 'Ineos', 'Invesco', 'TFL', 'Taylor', 'Royal', 'Shawbrook', 'ByBits', 'Berry', 'Mporium', 'Lego', 'Nanopore', 'WorldRemit', 'WorldRemit', 'Lenio', 'Splink', 'HSSMI', 'Ironfly', 'Ford', 'Vida', 'MHHS', 'Jet', 'Cancer', 'Bharat', 'Idea', 'Audi', '\u000b",
    "Oxford Nanopore', 'Zenith', '\u000b",
    "Zenith', 'British', 'United', 'IAG', 'Wine', 'Dining', 'Solotel', 'Say', 'MOD', 'Bayswater', 'BNP', 'Honda', 'Rakuten', 'Automobile', 'RSA', 'BAE', 'Robert Walters  \\n', 'Walters', 'Robert', 'Titan', 'Digital']\n",
    "\n",
    "key_techs = ['Delivery', 'Product','Product Delivery','Agile/Scrum','AWS', 'Tech', 'Competitor Analysis', 'Analysis', 'Scrum', 'Agile', 'Figma', 'Full', 'Full-Stack', 'Jira\\n', 'Jira', 'Front', 'Front-End', 'Front-end', 'Frontend', 'Back', 'Back-end', 'Back-End', 'Backend', 'Engineer', 'Product', 'Engineer', 'End', 'Node.js\\n', 'Postgres\\n','Infrastructure', 'Experience', 'Strategic', 'UX', 'UI', 'Design', 'Figma', 'Finance', 'User', 'CMS', 'Marketing', 'Mobile', 'e-commerce', 'E-Commerce', 'E-commerce', 'Business', 'Address', 'Language', 'SQL', 'DevOps', 'Customer', 'NodeJS', 'INDUSTRY', 'Loyalty', 'KEY', 'B2B', 'Brand', 'CRM', 'Typescript', 'Kafka', 'Tester', 'eCommerce',  ' | Coaching', 'DevOps/SD/Product', 'Software', 'Web', 'Infrastructure,', 'NA', 'Automated', 'Machine', 'Node.js', 'Postgres', 'Card', 'Systems', 'Hi-Fi', 'design', 'Design', 'Associate', 'Product Analysis & Delivery', 'Digital', 'ideas', 'products', ' Product Developer AND Sudoku Solver']\n",
    "\n",
    "key_industries = ['Events\\n', 'Hospitality\\n', 'Hospitality','Music\\n', 'B2C\\n', 'Retail\\n', 'Retail', 'Casual', 'Telecommunications', 'Gambling', 'Gmabling\\n', 'Travel', 'Public', 'UK', 'FinTech', 'Media', 'Insurance', 'Defence', 'Banking', 'Health', 'Education', 'Healthcare', 'Real', 'Professional','Hotels', 'Insurtech', 'Games', 'International', 'Recruitment', 'Fintech', 'Financial', 'Pharmaceutical', 'Charity', 'Railway', 'Energy', 'Manufacturing', 'Oil', 'Aviation', 'Leisure', 'Aerospace', 'Military', 'Advertisement', 'Music']"
   ]
  },
  {
   "cell_type": "code",
   "execution_count": 52,
   "id": "76dd1d53",
   "metadata": {},
   "outputs": [],
   "source": [
    "train_data['clients'].append(key_clients)\n",
    "train_data['tech_stack'].append(key_techs)\n",
    "train_data['industries'].append(key_industries)"
   ]
  },
  {
   "cell_type": "code",
   "execution_count": 53,
   "id": "c81a103a",
   "metadata": {},
   "outputs": [
    {
     "data": {
      "text/plain": [
       "{'role_and_title': [],\n",
       " 'overview': [],\n",
       " 'key_skills': [],\n",
       " 'core_focus': [],\n",
       " 'clients': [],\n",
       " 'industries': [],\n",
       " 'tech_stack': [],\n",
       " 'name': [],\n",
       " 'experiences': []}"
      ]
     },
     "execution_count": 53,
     "metadata": {},
     "output_type": "execute_result"
    }
   ],
   "source": [
    "categories = ['role_and_title',\n",
    " 'overview',\n",
    " 'key_skills',\n",
    " 'core_focus',\n",
    " 'clients',\n",
    " 'industries',\n",
    " 'tech_stack',\n",
    " 'name',\n",
    " 'experiences']\n",
    "\n",
    "train_data_copy = {}\n",
    "\n",
    "for i in categories:\n",
    "    train_data_copy[i] = []\n",
    "\n",
    "train_data_copy"
   ]
  },
  {
   "cell_type": "code",
   "execution_count": 54,
   "id": "463491bf",
   "metadata": {},
   "outputs": [],
   "source": [
    "def list_cleaner(key):\n",
    "    for i in train_data[key]:\n",
    "        if type(i) == list:\n",
    "            try:\n",
    "                for n in i:\n",
    "                    if type(n) == list:\n",
    "                        for j in n:\n",
    "                            if len(j) > 1 and not (j.strip() == ''):\n",
    "                                train_data_copy[key].append(j.strip().lower())                            \n",
    "                    elif len(n) > 1 and not (n.strip() == ''):\n",
    "                        train_data_copy[key].append(n.strip().lower())\n",
    "            except:\n",
    "                continue\n",
    "        else:\n",
    "            if len(i) > 1 and not (i.strip() == ''):\n",
    "                train_data_copy[key].append(i.strip().lower())\n",
    "#     return train_data_copy[key]"
   ]
  },
  {
   "cell_type": "code",
   "execution_count": 55,
   "id": "fe97c6c1",
   "metadata": {},
   "outputs": [],
   "source": [
    "for i in categories:\n",
    "    list_cleaner(i)"
   ]
  },
  {
   "cell_type": "code",
   "execution_count": 56,
   "id": "69f53283",
   "metadata": {},
   "outputs": [],
   "source": [
    "train_data = train_data_copy"
   ]
  },
  {
   "cell_type": "markdown",
   "id": "86c5e9e0",
   "metadata": {},
   "source": [
    "## Learning algorithms"
   ]
  },
  {
   "cell_type": "code",
   "execution_count": 57,
   "id": "d8be3c1f",
   "metadata": {},
   "outputs": [],
   "source": [
    "import numpy as np\n",
    "from sklearn.model_selection import train_test_split\n",
    "from sklearn.feature_extraction.text import TfidfVectorizer\n",
    "from sklearn.naive_bayes import MultinomialNB\n",
    "from sklearn.metrics import accuracy_score, classification_report"
   ]
  },
  {
   "cell_type": "markdown",
   "id": "a8a59f81",
   "metadata": {},
   "source": [
    "### Combine text data and labels"
   ]
  },
  {
   "cell_type": "code",
   "execution_count": 58,
   "id": "9813250f",
   "metadata": {},
   "outputs": [],
   "source": [
    "del train_data['experiences']\n",
    "del train_data['name']\n",
    "del train_data['core_focus']\n",
    "del train_data['role_and_title']\n",
    "del train_data['key_skills']\n",
    "del train_data['overview']"
   ]
  },
  {
   "cell_type": "code",
   "execution_count": 59,
   "id": "b707ceaa",
   "metadata": {},
   "outputs": [],
   "source": [
    "# train_data"
   ]
  },
  {
   "cell_type": "code",
   "execution_count": 60,
   "id": "ea9283a6",
   "metadata": {},
   "outputs": [],
   "source": [
    "X = []\n",
    "y = []\n",
    "\n",
    "for category, texts in train_data.items():\n",
    "    X.extend(texts)\n",
    "    y.extend([category] * len(texts))"
   ]
  },
  {
   "cell_type": "code",
   "execution_count": null,
   "id": "f888ecd3",
   "metadata": {},
   "outputs": [],
   "source": []
  },
  {
   "cell_type": "markdown",
   "id": "2c8c90ae",
   "metadata": {},
   "source": [
    "### Split data into training and testing sets"
   ]
  },
  {
   "cell_type": "code",
   "execution_count": 61,
   "id": "a4f04dc5",
   "metadata": {},
   "outputs": [],
   "source": [
    "X_train, X_test, y_train, y_test = train_test_split(X,\n",
    "                                                    y,\n",
    "                                                    test_size=0.1,\n",
    "                                                    random_state=42)"
   ]
  },
  {
   "cell_type": "markdown",
   "id": "4d1365c7",
   "metadata": {},
   "source": [
    "### Vectorize text using TF-IDF"
   ]
  },
  {
   "cell_type": "code",
   "execution_count": 62,
   "id": "16ae03d9",
   "metadata": {},
   "outputs": [],
   "source": [
    "vectorizer = TfidfVectorizer()\n",
    "X_train_tfidf = vectorizer.fit_transform(X_train)\n",
    "X_test_tfidf = vectorizer.transform(X_test)"
   ]
  },
  {
   "cell_type": "code",
   "execution_count": 1,
   "id": "a9858cc5",
   "metadata": {},
   "outputs": [
    {
     "ename": "NameError",
     "evalue": "name 'X_train_tfidf' is not defined",
     "output_type": "error",
     "traceback": [
      "\u001b[0;31m---------------------------------------------------------------------------\u001b[0m",
      "\u001b[0;31mNameError\u001b[0m                                 Traceback (most recent call last)",
      "Cell \u001b[0;32mIn[1], line 1\u001b[0m\n\u001b[0;32m----> 1\u001b[0m \u001b[43mX_train_tfidf\u001b[49m()\n",
      "\u001b[0;31mNameError\u001b[0m: name 'X_train_tfidf' is not defined"
     ]
    }
   ],
   "source": [
    "X_train_tfidf"
   ]
  },
  {
   "cell_type": "markdown",
   "id": "81e19514",
   "metadata": {},
   "source": [
    "### Train a Multinomial Naive Bayes classifier"
   ]
  },
  {
   "cell_type": "code",
   "execution_count": 63,
   "id": "7a7aafc9",
   "metadata": {},
   "outputs": [
    {
     "data": {
      "text/html": [
       "<style>#sk-container-id-1 {color: black;background-color: white;}#sk-container-id-1 pre{padding: 0;}#sk-container-id-1 div.sk-toggleable {background-color: white;}#sk-container-id-1 label.sk-toggleable__label {cursor: pointer;display: block;width: 100%;margin-bottom: 0;padding: 0.3em;box-sizing: border-box;text-align: center;}#sk-container-id-1 label.sk-toggleable__label-arrow:before {content: \"▸\";float: left;margin-right: 0.25em;color: #696969;}#sk-container-id-1 label.sk-toggleable__label-arrow:hover:before {color: black;}#sk-container-id-1 div.sk-estimator:hover label.sk-toggleable__label-arrow:before {color: black;}#sk-container-id-1 div.sk-toggleable__content {max-height: 0;max-width: 0;overflow: hidden;text-align: left;background-color: #f0f8ff;}#sk-container-id-1 div.sk-toggleable__content pre {margin: 0.2em;color: black;border-radius: 0.25em;background-color: #f0f8ff;}#sk-container-id-1 input.sk-toggleable__control:checked~div.sk-toggleable__content {max-height: 200px;max-width: 100%;overflow: auto;}#sk-container-id-1 input.sk-toggleable__control:checked~label.sk-toggleable__label-arrow:before {content: \"▾\";}#sk-container-id-1 div.sk-estimator input.sk-toggleable__control:checked~label.sk-toggleable__label {background-color: #d4ebff;}#sk-container-id-1 div.sk-label input.sk-toggleable__control:checked~label.sk-toggleable__label {background-color: #d4ebff;}#sk-container-id-1 input.sk-hidden--visually {border: 0;clip: rect(1px 1px 1px 1px);clip: rect(1px, 1px, 1px, 1px);height: 1px;margin: -1px;overflow: hidden;padding: 0;position: absolute;width: 1px;}#sk-container-id-1 div.sk-estimator {font-family: monospace;background-color: #f0f8ff;border: 1px dotted black;border-radius: 0.25em;box-sizing: border-box;margin-bottom: 0.5em;}#sk-container-id-1 div.sk-estimator:hover {background-color: #d4ebff;}#sk-container-id-1 div.sk-parallel-item::after {content: \"\";width: 100%;border-bottom: 1px solid gray;flex-grow: 1;}#sk-container-id-1 div.sk-label:hover label.sk-toggleable__label {background-color: #d4ebff;}#sk-container-id-1 div.sk-serial::before {content: \"\";position: absolute;border-left: 1px solid gray;box-sizing: border-box;top: 0;bottom: 0;left: 50%;z-index: 0;}#sk-container-id-1 div.sk-serial {display: flex;flex-direction: column;align-items: center;background-color: white;padding-right: 0.2em;padding-left: 0.2em;position: relative;}#sk-container-id-1 div.sk-item {position: relative;z-index: 1;}#sk-container-id-1 div.sk-parallel {display: flex;align-items: stretch;justify-content: center;background-color: white;position: relative;}#sk-container-id-1 div.sk-item::before, #sk-container-id-1 div.sk-parallel-item::before {content: \"\";position: absolute;border-left: 1px solid gray;box-sizing: border-box;top: 0;bottom: 0;left: 50%;z-index: -1;}#sk-container-id-1 div.sk-parallel-item {display: flex;flex-direction: column;z-index: 1;position: relative;background-color: white;}#sk-container-id-1 div.sk-parallel-item:first-child::after {align-self: flex-end;width: 50%;}#sk-container-id-1 div.sk-parallel-item:last-child::after {align-self: flex-start;width: 50%;}#sk-container-id-1 div.sk-parallel-item:only-child::after {width: 0;}#sk-container-id-1 div.sk-dashed-wrapped {border: 1px dashed gray;margin: 0 0.4em 0.5em 0.4em;box-sizing: border-box;padding-bottom: 0.4em;background-color: white;}#sk-container-id-1 div.sk-label label {font-family: monospace;font-weight: bold;display: inline-block;line-height: 1.2em;}#sk-container-id-1 div.sk-label-container {text-align: center;}#sk-container-id-1 div.sk-container {/* jupyter's `normalize.less` sets `[hidden] { display: none; }` but bootstrap.min.css set `[hidden] { display: none !important; }` so we also need the `!important` here to be able to override the default hidden behavior on the sphinx rendered scikit-learn.org. See: https://github.com/scikit-learn/scikit-learn/issues/21755 */display: inline-block !important;position: relative;}#sk-container-id-1 div.sk-text-repr-fallback {display: none;}</style><div id=\"sk-container-id-1\" class=\"sk-top-container\"><div class=\"sk-text-repr-fallback\"><pre>MultinomialNB()</pre><b>In a Jupyter environment, please rerun this cell to show the HTML representation or trust the notebook. <br />On GitHub, the HTML representation is unable to render, please try loading this page with nbviewer.org.</b></div><div class=\"sk-container\" hidden><div class=\"sk-item\"><div class=\"sk-estimator sk-toggleable\"><input class=\"sk-toggleable__control sk-hidden--visually\" id=\"sk-estimator-id-1\" type=\"checkbox\" checked><label for=\"sk-estimator-id-1\" class=\"sk-toggleable__label sk-toggleable__label-arrow\">MultinomialNB</label><div class=\"sk-toggleable__content\"><pre>MultinomialNB()</pre></div></div></div></div></div>"
      ],
      "text/plain": [
       "MultinomialNB()"
      ]
     },
     "execution_count": 63,
     "metadata": {},
     "output_type": "execute_result"
    }
   ],
   "source": [
    "classifier = MultinomialNB()\n",
    "classifier.fit(X_train_tfidf, y_train)"
   ]
  },
  {
   "cell_type": "markdown",
   "id": "ef4a848e",
   "metadata": {},
   "source": [
    "### Make predictions"
   ]
  },
  {
   "cell_type": "code",
   "execution_count": 64,
   "id": "8d0737c0",
   "metadata": {},
   "outputs": [],
   "source": [
    "y_pred = classifier.predict(X_test_tfidf)"
   ]
  },
  {
   "cell_type": "markdown",
   "id": "0b85c20c",
   "metadata": {},
   "source": [
    "### Evaluate the model"
   ]
  },
  {
   "cell_type": "code",
   "execution_count": 65,
   "id": "ca3e7edb",
   "metadata": {},
   "outputs": [
    {
     "name": "stdout",
     "output_type": "stream",
     "text": [
      "Accuracy: 0.73\n",
      "Classification Report:\n",
      "              precision    recall  f1-score   support\n",
      "\n",
      "     clients       1.00      0.62      0.77        16\n",
      "  industries       1.00      0.44      0.62         9\n",
      "  tech_stack       0.59      1.00      0.74        16\n",
      "\n",
      "    accuracy                           0.73        41\n",
      "   macro avg       0.86      0.69      0.71        41\n",
      "weighted avg       0.84      0.73      0.73        41\n",
      "\n"
     ]
    }
   ],
   "source": [
    "accuracy = accuracy_score(y_test, y_pred)\n",
    "report = classification_report(y_test, y_pred)\n",
    "\n",
    "print(f'Accuracy: {accuracy:.2f}')\n",
    "print('Classification Report:')\n",
    "print(report)"
   ]
  },
  {
   "cell_type": "markdown",
   "id": "d3245c7a",
   "metadata": {},
   "source": [
    "### Model evaluation with random data"
   ]
  },
  {
   "cell_type": "code",
   "execution_count": 139,
   "id": "47d4ad05",
   "metadata": {},
   "outputs": [],
   "source": [
    "sample_data = ['Health']\n",
    "sample_data_tfid = vectorizer.transform(sample_data)"
   ]
  },
  {
   "cell_type": "code",
   "execution_count": 140,
   "id": "e5321baa",
   "metadata": {},
   "outputs": [],
   "source": [
    "sample_data_prediction = classifier.predict(sample_data_tfid)"
   ]
  },
  {
   "cell_type": "code",
   "execution_count": 141,
   "id": "2d04a5a9",
   "metadata": {},
   "outputs": [
    {
     "name": "stdout",
     "output_type": "stream",
     "text": [
      "Text: Health\n",
      "Predicted Label: industries\n",
      "\n"
     ]
    }
   ],
   "source": [
    "for text, predicted_label in zip(sample_data, sample_data_prediction):\n",
    "    print(\"Text: \" + str(text))\n",
    "    print(\"Predicted Label: \" +str(predicted_label))\n",
    "    print()"
   ]
  },
  {
   "cell_type": "markdown",
   "id": "20e689d1",
   "metadata": {},
   "source": [
    "### ANDi's Names"
   ]
  },
  {
   "cell_type": "code",
   "execution_count": 8,
   "id": "6ba3f2ee",
   "metadata": {},
   "outputs": [],
   "source": [
    "bio_objects = {}"
   ]
  },
  {
   "cell_type": "code",
   "execution_count": 12,
   "id": "c69e8579",
   "metadata": {},
   "outputs": [],
   "source": [
    "def text_element_parser(text_elements, page_element_no, slide_no):\n",
    "    bio_objects[str(slide_no)][str(page_element_no)] = []\n",
    "    for i in text_elements:\n",
    "        try:\n",
    "            bio_objects[str(slide_no)][str(page_element_no)].append(str(i['textRun']['content']))\n",
    "        except:\n",
    "            continue\n",
    "\n",
    "def page_elements_parser(slide_page_elements, slide_no):\n",
    "    bio_objects[str(slide_no)] = {}\n",
    "    for idx, i in enumerate(slide_page_elements):\n",
    "        try:\n",
    "            text_element_parser(i['shape']['text']['textElements'], idx, slide_no)\n",
    "        except:\n",
    "            continue"
   ]
  },
  {
   "cell_type": "code",
   "execution_count": 13,
   "id": "a0173d1a",
   "metadata": {},
   "outputs": [],
   "source": [
    "for ind in slides.index:\n",
    "    try:\n",
    "        page_elements_parser(slides['pageElements'][ind], ind)\n",
    "    except:\n",
    "        continue"
   ]
  },
  {
   "cell_type": "markdown",
   "id": "3a359a3b",
   "metadata": {},
   "source": [
    "Remove non Bio slides"
   ]
  },
  {
   "cell_type": "code",
   "execution_count": 14,
   "id": "3851635f",
   "metadata": {},
   "outputs": [],
   "source": [
    "for i in bio_objects.copy().keys():\n",
    "    if len(bio_objects[i]) < 5 or i == '2':\n",
    "        del bio_objects[i]"
   ]
  },
  {
   "cell_type": "markdown",
   "id": "13bc5bbc",
   "metadata": {},
   "source": [
    "Name identifier function"
   ]
  },
  {
   "cell_type": "code",
   "execution_count": 23,
   "id": "cdeaa5c2",
   "metadata": {},
   "outputs": [],
   "source": [
    "def name_identifier(bio_elements):\n",
    "    for i in bio_elements:\n",
    "        if len(bio_elements[i]) <= 4:\n",
    "            for j in bio_elements[i]:\n",
    "                if 'AND' not in j and len(j.split(' ')) < 5 and len(j.split('\\n')) < 4 and not j.isspace()\\\n",
    "                and ((len(set(key_clients) & set(j.split('\\n'))) == 0) and (len(set(key_techs) & set(j.split('\\n'))) == 0) and (len(set(key_industries) & set(j.split('\\n'))) == 0))\\\n",
    "                and ((len(set(key_clients) & set(j.split(' '))) == 0) and (len(set(key_techs) & set(j.split(' '))) == 0) and (len(set(key_industries) & set(j.split(' '))) == 0)) :\n",
    "                    return j\n",
    "        else:\n",
    "            continue"
   ]
  },
  {
   "cell_type": "markdown",
   "id": "dbacab36",
   "metadata": {},
   "source": [
    "AND Title Identifier"
   ]
  },
  {
   "cell_type": "code",
   "execution_count": 39,
   "id": "8a00fb5c",
   "metadata": {},
   "outputs": [],
   "source": [
    "def and_title_identifier(bio_elements):\n",
    "    for i in bio_elements:\n",
    "        if len(bio_elements[i]) <= 4:\n",
    "            for j in bio_elements[i]:\n",
    "                if 'AND' in j and 'AND Digital' not in j and len(j.split(' ')) <= 15 and not j.isspace():\n",
    "                    return j[j.find('AND'):].replace('\\n','')\n",
    "        else:\n",
    "            continue"
   ]
  },
  {
   "cell_type": "markdown",
   "id": "1e917335",
   "metadata": {},
   "source": [
    "User records"
   ]
  },
  {
   "cell_type": "code",
   "execution_count": null,
   "id": "56a58ad7",
   "metadata": {},
   "outputs": [],
   "source": []
  },
  {
   "cell_type": "code",
   "execution_count": 40,
   "id": "c5ee0b43",
   "metadata": {},
   "outputs": [],
   "source": [
    "users = []\n",
    "            \n",
    "for i in bio_objects.keys():\n",
    "    name = name_identifier(bio_objects[i]).rstrip().split('\\n')[0].split(' ')\n",
    "    full_name = name_identifier(bio_objects[i]).rstrip()\n",
    "    and_title = and_title_identifier(bio_objects[i])\n",
    "    temp_id = str(uuid4())\n",
    "    users.append({'key': 'USER#'+ temp_id,\n",
    "                  'id': 'USER#' + temp_id,\n",
    "                  'firstName': name[0],\n",
    "                  \"lastName\": name[-1],\n",
    "                  'name': full_name,\n",
    "                  'and_tile': and_title\n",
    "                 })\n",
    "    \n",
    "users = pd.DataFrame(users).drop_duplicates(subset=['name'])"
   ]
  },
  {
   "cell_type": "code",
   "execution_count": 46,
   "id": "cb9fb4cf",
   "metadata": {},
   "outputs": [
    {
     "data": {
      "text/html": [
       "<div>\n",
       "<style scoped>\n",
       "    .dataframe tbody tr th:only-of-type {\n",
       "        vertical-align: middle;\n",
       "    }\n",
       "\n",
       "    .dataframe tbody tr th {\n",
       "        vertical-align: top;\n",
       "    }\n",
       "\n",
       "    .dataframe thead th {\n",
       "        text-align: right;\n",
       "    }\n",
       "</style>\n",
       "<table border=\"1\" class=\"dataframe\">\n",
       "  <thead>\n",
       "    <tr style=\"text-align: right;\">\n",
       "      <th></th>\n",
       "      <th>key</th>\n",
       "      <th>id</th>\n",
       "      <th>firstName</th>\n",
       "      <th>lastName</th>\n",
       "      <th>name</th>\n",
       "      <th>and_tile</th>\n",
       "    </tr>\n",
       "  </thead>\n",
       "  <tbody>\n",
       "    <tr>\n",
       "      <th>40</th>\n",
       "      <td>USER#4dc1e101-08ea-45c7-9896-85e4ac64504b</td>\n",
       "      <td>USER#4dc1e101-08ea-45c7-9896-85e4ac64504b</td>\n",
       "      <td>Adam</td>\n",
       "      <td>Green</td>\n",
       "      <td>Adam Green</td>\n",
       "      <td>AND Friendly Host</td>\n",
       "    </tr>\n",
       "    <tr>\n",
       "      <th>41</th>\n",
       "      <td>USER#9a6548f9-d12b-4d8f-bc76-b36655047581</td>\n",
       "      <td>USER#9a6548f9-d12b-4d8f-bc76-b36655047581</td>\n",
       "      <td>George</td>\n",
       "      <td>Velimachitis</td>\n",
       "      <td>George Velimachitis</td>\n",
       "      <td>AND Table Tennis Enthusiast++</td>\n",
       "    </tr>\n",
       "    <tr>\n",
       "      <th>42</th>\n",
       "      <td>USER#161b7647-9a33-488f-bc81-22088a013c22</td>\n",
       "      <td>USER#161b7647-9a33-488f-bc81-22088a013c22</td>\n",
       "      <td>Vijay</td>\n",
       "      <td>Mistry</td>\n",
       "      <td>Vijay Mistry</td>\n",
       "      <td>AND Amateur Photographer</td>\n",
       "    </tr>\n",
       "    <tr>\n",
       "      <th>43</th>\n",
       "      <td>USER#eae1a428-33d7-4dca-93ca-33031ccdadf7</td>\n",
       "      <td>USER#eae1a428-33d7-4dca-93ca-33031ccdadf7</td>\n",
       "      <td>Catalin</td>\n",
       "      <td>Ghinescu</td>\n",
       "      <td>Catalin Ghinescu</td>\n",
       "      <td>AND Food Nerd</td>\n",
       "    </tr>\n",
       "    <tr>\n",
       "      <th>44</th>\n",
       "      <td>USER#f97bf21d-22af-421a-9beb-5859c7c1a4ab</td>\n",
       "      <td>USER#f97bf21d-22af-421a-9beb-5859c7c1a4ab</td>\n",
       "      <td>Ashraf</td>\n",
       "      <td>Nazar</td>\n",
       "      <td>Ashraf Nazar</td>\n",
       "      <td>AND Curious Questioner</td>\n",
       "    </tr>\n",
       "    <tr>\n",
       "      <th>45</th>\n",
       "      <td>USER#2c3bfad3-7d7e-4e3f-9a2a-ad2c5cfd0f50</td>\n",
       "      <td>USER#2c3bfad3-7d7e-4e3f-9a2a-ad2c5cfd0f50</td>\n",
       "      <td>Umair</td>\n",
       "      <td>Bashir</td>\n",
       "      <td>Umair Bashir</td>\n",
       "      <td>AND Volunteer</td>\n",
       "    </tr>\n",
       "    <tr>\n",
       "      <th>46</th>\n",
       "      <td>USER#4602378b-938e-43f2-a2c5-3fce8278b046</td>\n",
       "      <td>USER#4602378b-938e-43f2-a2c5-3fce8278b046</td>\n",
       "      <td>Kieran</td>\n",
       "      <td>Osgood</td>\n",
       "      <td>Kieran Osgood</td>\n",
       "      <td>AND Manga Reader</td>\n",
       "    </tr>\n",
       "    <tr>\n",
       "      <th>47</th>\n",
       "      <td>USER#3f6ac902-fc50-46c3-8170-bfac775fe992</td>\n",
       "      <td>USER#3f6ac902-fc50-46c3-8170-bfac775fe992</td>\n",
       "      <td>May</td>\n",
       "      <td>Ho</td>\n",
       "      <td>May Ho</td>\n",
       "      <td>AND Sneaker Head</td>\n",
       "    </tr>\n",
       "    <tr>\n",
       "      <th>48</th>\n",
       "      <td>USER#cc2b0f37-1412-4674-9516-16001863afa6</td>\n",
       "      <td>USER#cc2b0f37-1412-4674-9516-16001863afa6</td>\n",
       "      <td>Katia</td>\n",
       "      <td>Toboleva</td>\n",
       "      <td>Katia Toboleva</td>\n",
       "      <td>AND Binge Learner</td>\n",
       "    </tr>\n",
       "    <tr>\n",
       "      <th>49</th>\n",
       "      <td>USER#05ac3280-a263-4e40-88a1-4bcacf2cf521</td>\n",
       "      <td>USER#05ac3280-a263-4e40-88a1-4bcacf2cf521</td>\n",
       "      <td>Jorge</td>\n",
       "      <td>Baltazar</td>\n",
       "      <td>Jorge Baltazar</td>\n",
       "      <td>AND Joga Bonito Fan</td>\n",
       "    </tr>\n",
       "    <tr>\n",
       "      <th>50</th>\n",
       "      <td>USER#0f5252ac-100c-43d6-8d5c-175f74bd06b7</td>\n",
       "      <td>USER#0f5252ac-100c-43d6-8d5c-175f74bd06b7</td>\n",
       "      <td>Caio</td>\n",
       "      <td>Garcia</td>\n",
       "      <td>Caio Garcia</td>\n",
       "      <td>AND Almost Historian</td>\n",
       "    </tr>\n",
       "  </tbody>\n",
       "</table>\n",
       "</div>"
      ],
      "text/plain": [
       "                                          key  \\\n",
       "40  USER#4dc1e101-08ea-45c7-9896-85e4ac64504b   \n",
       "41  USER#9a6548f9-d12b-4d8f-bc76-b36655047581   \n",
       "42  USER#161b7647-9a33-488f-bc81-22088a013c22   \n",
       "43  USER#eae1a428-33d7-4dca-93ca-33031ccdadf7   \n",
       "44  USER#f97bf21d-22af-421a-9beb-5859c7c1a4ab   \n",
       "45  USER#2c3bfad3-7d7e-4e3f-9a2a-ad2c5cfd0f50   \n",
       "46  USER#4602378b-938e-43f2-a2c5-3fce8278b046   \n",
       "47  USER#3f6ac902-fc50-46c3-8170-bfac775fe992   \n",
       "48  USER#cc2b0f37-1412-4674-9516-16001863afa6   \n",
       "49  USER#05ac3280-a263-4e40-88a1-4bcacf2cf521   \n",
       "50  USER#0f5252ac-100c-43d6-8d5c-175f74bd06b7   \n",
       "\n",
       "                                           id firstName      lastName  \\\n",
       "40  USER#4dc1e101-08ea-45c7-9896-85e4ac64504b      Adam         Green   \n",
       "41  USER#9a6548f9-d12b-4d8f-bc76-b36655047581    George  Velimachitis   \n",
       "42  USER#161b7647-9a33-488f-bc81-22088a013c22     Vijay        Mistry   \n",
       "43  USER#eae1a428-33d7-4dca-93ca-33031ccdadf7   Catalin      Ghinescu   \n",
       "44  USER#f97bf21d-22af-421a-9beb-5859c7c1a4ab    Ashraf         Nazar   \n",
       "45  USER#2c3bfad3-7d7e-4e3f-9a2a-ad2c5cfd0f50     Umair        Bashir   \n",
       "46  USER#4602378b-938e-43f2-a2c5-3fce8278b046    Kieran        Osgood   \n",
       "47  USER#3f6ac902-fc50-46c3-8170-bfac775fe992       May            Ho   \n",
       "48  USER#cc2b0f37-1412-4674-9516-16001863afa6     Katia      Toboleva   \n",
       "49  USER#05ac3280-a263-4e40-88a1-4bcacf2cf521     Jorge      Baltazar   \n",
       "50  USER#0f5252ac-100c-43d6-8d5c-175f74bd06b7      Caio        Garcia   \n",
       "\n",
       "                   name                       and_tile  \n",
       "40           Adam Green              AND Friendly Host  \n",
       "41  George Velimachitis  AND Table Tennis Enthusiast++  \n",
       "42         Vijay Mistry       AND Amateur Photographer  \n",
       "43     Catalin Ghinescu                  AND Food Nerd  \n",
       "44         Ashraf Nazar         AND Curious Questioner  \n",
       "45         Umair Bashir                 AND Volunteer   \n",
       "46        Kieran Osgood               AND Manga Reader  \n",
       "47               May Ho              AND Sneaker Head   \n",
       "48       Katia Toboleva              AND Binge Learner  \n",
       "49       Jorge Baltazar            AND Joga Bonito Fan  \n",
       "50          Caio Garcia           AND Almost Historian  "
      ]
     },
     "execution_count": 46,
     "metadata": {},
     "output_type": "execute_result"
    }
   ],
   "source": [
    "users[37:48]"
   ]
  },
  {
   "cell_type": "code",
   "execution_count": 42,
   "id": "4f7b39a3",
   "metadata": {},
   "outputs": [
    {
     "data": {
      "text/html": [
       "<div>\n",
       "<style scoped>\n",
       "    .dataframe tbody tr th:only-of-type {\n",
       "        vertical-align: middle;\n",
       "    }\n",
       "\n",
       "    .dataframe tbody tr th {\n",
       "        vertical-align: top;\n",
       "    }\n",
       "\n",
       "    .dataframe thead th {\n",
       "        text-align: right;\n",
       "    }\n",
       "</style>\n",
       "<table border=\"1\" class=\"dataframe\">\n",
       "  <thead>\n",
       "    <tr style=\"text-align: right;\">\n",
       "      <th></th>\n",
       "      <th>key</th>\n",
       "      <th>id</th>\n",
       "      <th>firstName</th>\n",
       "      <th>lastName</th>\n",
       "      <th>name</th>\n",
       "      <th>and_tile</th>\n",
       "    </tr>\n",
       "  </thead>\n",
       "  <tbody>\n",
       "    <tr>\n",
       "      <th>54</th>\n",
       "      <td>USER#ea8aeb94-9107-47bd-b05d-4b21a2d7d7e6</td>\n",
       "      <td>USER#ea8aeb94-9107-47bd-b05d-4b21a2d7d7e6</td>\n",
       "      <td>Issy</td>\n",
       "      <td>Cameron</td>\n",
       "      <td>Issy Cameron</td>\n",
       "      <td>AND Wine Enthusiast</td>\n",
       "    </tr>\n",
       "    <tr>\n",
       "      <th>55</th>\n",
       "      <td>USER#9bbb4527-1a69-419b-bb70-b899ca8c5dd3</td>\n",
       "      <td>USER#9bbb4527-1a69-419b-bb70-b899ca8c5dd3</td>\n",
       "      <td>Harry</td>\n",
       "      <td>Wright</td>\n",
       "      <td>Harry Wright</td>\n",
       "      <td>AND Dancing Dad</td>\n",
       "    </tr>\n",
       "    <tr>\n",
       "      <th>56</th>\n",
       "      <td>USER#5acbe066-e19c-4524-8187-6764d6c563dd</td>\n",
       "      <td>USER#5acbe066-e19c-4524-8187-6764d6c563dd</td>\n",
       "      <td>Jon</td>\n",
       "      <td>Dwyer</td>\n",
       "      <td>Jon Dwyer</td>\n",
       "      <td>AND Maker</td>\n",
       "    </tr>\n",
       "    <tr>\n",
       "      <th>57</th>\n",
       "      <td>USER#beb7a024-8996-42c1-9217-43c34e8797e5</td>\n",
       "      <td>USER#beb7a024-8996-42c1-9217-43c34e8797e5</td>\n",
       "      <td>Patrick</td>\n",
       "      <td>Brown</td>\n",
       "      <td>Patrick Brown</td>\n",
       "      <td>AND Wild Swimmer</td>\n",
       "    </tr>\n",
       "    <tr>\n",
       "      <th>58</th>\n",
       "      <td>USER#9a31206f-67f7-4bc7-a5c4-3495a497bd63</td>\n",
       "      <td>USER#9a31206f-67f7-4bc7-a5c4-3495a497bd63</td>\n",
       "      <td>Sonia</td>\n",
       "      <td>Choudhury</td>\n",
       "      <td>Sonia Choudhury</td>\n",
       "      <td>AND Adventure Seeker</td>\n",
       "    </tr>\n",
       "    <tr>\n",
       "      <th>59</th>\n",
       "      <td>USER#24b7b068-fc30-47b7-a3e8-031107246f24</td>\n",
       "      <td>USER#24b7b068-fc30-47b7-a3e8-031107246f24</td>\n",
       "      <td>Permjit</td>\n",
       "      <td>Ghatorre</td>\n",
       "      <td>Permjit Singh Ghatorre</td>\n",
       "      <td>AND Accidental Hero</td>\n",
       "    </tr>\n",
       "    <tr>\n",
       "      <th>60</th>\n",
       "      <td>USER#bdbe7719-93af-4780-a10f-eec65d7788ba</td>\n",
       "      <td>USER#bdbe7719-93af-4780-a10f-eec65d7788ba</td>\n",
       "      <td>Mamta</td>\n",
       "      <td>Sharma</td>\n",
       "      <td>Mamta Sharma</td>\n",
       "      <td>AND Travel Enthusiast</td>\n",
       "    </tr>\n",
       "    <tr>\n",
       "      <th>61</th>\n",
       "      <td>USER#48131a75-52df-4125-b54c-dd728e7bb29d</td>\n",
       "      <td>USER#48131a75-52df-4125-b54c-dd728e7bb29d</td>\n",
       "      <td>Andrew</td>\n",
       "      <td>Ajube</td>\n",
       "      <td>Andrew Ajube</td>\n",
       "      <td>AND 400m Hurdler</td>\n",
       "    </tr>\n",
       "    <tr>\n",
       "      <th>62</th>\n",
       "      <td>USER#88c40614-e126-462a-ad07-2159e694d26e</td>\n",
       "      <td>USER#88c40614-e126-462a-ad07-2159e694d26e</td>\n",
       "      <td>Minhye</td>\n",
       "      <td>Lee</td>\n",
       "      <td>Minhye Lee</td>\n",
       "      <td>AND Matchmaker</td>\n",
       "    </tr>\n",
       "    <tr>\n",
       "      <th>63</th>\n",
       "      <td>USER#814afd31-3aa4-4b2c-b776-4fa5f2e4ecaa</td>\n",
       "      <td>USER#814afd31-3aa4-4b2c-b776-4fa5f2e4ecaa</td>\n",
       "      <td>Bruce</td>\n",
       "      <td>Horne</td>\n",
       "      <td>Bruce Horne</td>\n",
       "      <td>AND Hornebre</td>\n",
       "    </tr>\n",
       "    <tr>\n",
       "      <th>64</th>\n",
       "      <td>USER#10d8360c-a9cc-4f5f-9cba-d248fb94258b</td>\n",
       "      <td>USER#10d8360c-a9cc-4f5f-9cba-d248fb94258b</td>\n",
       "      <td>Abdula</td>\n",
       "      <td>Al-Ruman</td>\n",
       "      <td>Abdula Al-Ruman</td>\n",
       "      <td>AND Gaming Enthusiast</td>\n",
       "    </tr>\n",
       "    <tr>\n",
       "      <th>65</th>\n",
       "      <td>USER#abe15c84-bb9a-4158-8409-62a0c0e71bc2</td>\n",
       "      <td>USER#abe15c84-bb9a-4158-8409-62a0c0e71bc2</td>\n",
       "      <td>Alex</td>\n",
       "      <td>Satur</td>\n",
       "      <td>Alex Satur</td>\n",
       "      <td>AND Average Mini Golfer</td>\n",
       "    </tr>\n",
       "    <tr>\n",
       "      <th>66</th>\n",
       "      <td>USER#121e6a51-1d73-482a-89eb-5fb107646cfb</td>\n",
       "      <td>USER#121e6a51-1d73-482a-89eb-5fb107646cfb</td>\n",
       "      <td>Iqvinder</td>\n",
       "      <td>Rai</td>\n",
       "      <td>Iqvinder Rai</td>\n",
       "      <td>AND Discus Keeper</td>\n",
       "    </tr>\n",
       "    <tr>\n",
       "      <th>69</th>\n",
       "      <td>USER#cf52709c-f6c5-4f2b-97c2-908a4695f30c</td>\n",
       "      <td>USER#cf52709c-f6c5-4f2b-97c2-908a4695f30c</td>\n",
       "      <td>Jacques</td>\n",
       "      <td>Pagels</td>\n",
       "      <td>Jacques Pagels</td>\n",
       "      <td>AND Rock Climber</td>\n",
       "    </tr>\n",
       "    <tr>\n",
       "      <th>71</th>\n",
       "      <td>USER#be9701c1-14c0-463d-bb7f-27653885cb66</td>\n",
       "      <td>USER#be9701c1-14c0-463d-bb7f-27653885cb66</td>\n",
       "      <td>Jerome</td>\n",
       "      <td>Tosoni</td>\n",
       "      <td>Jerome Tosoni</td>\n",
       "      <td>AND Home Brewer</td>\n",
       "    </tr>\n",
       "  </tbody>\n",
       "</table>\n",
       "</div>"
      ],
      "text/plain": [
       "                                          key  \\\n",
       "54  USER#ea8aeb94-9107-47bd-b05d-4b21a2d7d7e6   \n",
       "55  USER#9bbb4527-1a69-419b-bb70-b899ca8c5dd3   \n",
       "56  USER#5acbe066-e19c-4524-8187-6764d6c563dd   \n",
       "57  USER#beb7a024-8996-42c1-9217-43c34e8797e5   \n",
       "58  USER#9a31206f-67f7-4bc7-a5c4-3495a497bd63   \n",
       "59  USER#24b7b068-fc30-47b7-a3e8-031107246f24   \n",
       "60  USER#bdbe7719-93af-4780-a10f-eec65d7788ba   \n",
       "61  USER#48131a75-52df-4125-b54c-dd728e7bb29d   \n",
       "62  USER#88c40614-e126-462a-ad07-2159e694d26e   \n",
       "63  USER#814afd31-3aa4-4b2c-b776-4fa5f2e4ecaa   \n",
       "64  USER#10d8360c-a9cc-4f5f-9cba-d248fb94258b   \n",
       "65  USER#abe15c84-bb9a-4158-8409-62a0c0e71bc2   \n",
       "66  USER#121e6a51-1d73-482a-89eb-5fb107646cfb   \n",
       "69  USER#cf52709c-f6c5-4f2b-97c2-908a4695f30c   \n",
       "71  USER#be9701c1-14c0-463d-bb7f-27653885cb66   \n",
       "\n",
       "                                           id firstName   lastName  \\\n",
       "54  USER#ea8aeb94-9107-47bd-b05d-4b21a2d7d7e6      Issy    Cameron   \n",
       "55  USER#9bbb4527-1a69-419b-bb70-b899ca8c5dd3     Harry     Wright   \n",
       "56  USER#5acbe066-e19c-4524-8187-6764d6c563dd       Jon      Dwyer   \n",
       "57  USER#beb7a024-8996-42c1-9217-43c34e8797e5   Patrick      Brown   \n",
       "58  USER#9a31206f-67f7-4bc7-a5c4-3495a497bd63     Sonia  Choudhury   \n",
       "59  USER#24b7b068-fc30-47b7-a3e8-031107246f24   Permjit   Ghatorre   \n",
       "60  USER#bdbe7719-93af-4780-a10f-eec65d7788ba     Mamta     Sharma   \n",
       "61  USER#48131a75-52df-4125-b54c-dd728e7bb29d    Andrew      Ajube   \n",
       "62  USER#88c40614-e126-462a-ad07-2159e694d26e    Minhye        Lee   \n",
       "63  USER#814afd31-3aa4-4b2c-b776-4fa5f2e4ecaa     Bruce      Horne   \n",
       "64  USER#10d8360c-a9cc-4f5f-9cba-d248fb94258b    Abdula   Al-Ruman   \n",
       "65  USER#abe15c84-bb9a-4158-8409-62a0c0e71bc2      Alex      Satur   \n",
       "66  USER#121e6a51-1d73-482a-89eb-5fb107646cfb  Iqvinder        Rai   \n",
       "69  USER#cf52709c-f6c5-4f2b-97c2-908a4695f30c   Jacques     Pagels   \n",
       "71  USER#be9701c1-14c0-463d-bb7f-27653885cb66    Jerome     Tosoni   \n",
       "\n",
       "                      name                 and_tile  \n",
       "54            Issy Cameron      AND Wine Enthusiast  \n",
       "55            Harry Wright          AND Dancing Dad  \n",
       "56               Jon Dwyer                AND Maker  \n",
       "57           Patrick Brown         AND Wild Swimmer  \n",
       "58         Sonia Choudhury     AND Adventure Seeker  \n",
       "59  Permjit Singh Ghatorre      AND Accidental Hero  \n",
       "60            Mamta Sharma    AND Travel Enthusiast  \n",
       "61            Andrew Ajube         AND 400m Hurdler  \n",
       "62              Minhye Lee           AND Matchmaker  \n",
       "63             Bruce Horne             AND Hornebre  \n",
       "64         Abdula Al-Ruman    AND Gaming Enthusiast  \n",
       "65              Alex Satur  AND Average Mini Golfer  \n",
       "66            Iqvinder Rai        AND Discus Keeper  \n",
       "69          Jacques Pagels         AND Rock Climber  \n",
       "71           Jerome Tosoni         AND Home Brewer   "
      ]
     },
     "execution_count": 42,
     "metadata": {},
     "output_type": "execute_result"
    }
   ],
   "source": [
    "users[50:65]"
   ]
  },
  {
   "cell_type": "markdown",
   "id": "0ca241ea",
   "metadata": {},
   "source": [
    "Attaching users to BU"
   ]
  },
  {
   "cell_type": "code",
   "execution_count": 47,
   "id": "c4b2650f",
   "metadata": {
    "scrolled": true
   },
   "outputs": [],
   "source": [
    "users_bu = []\n",
    "for i in users['key']:\n",
    "        users_bu.append({'key': i, 'id': 'BUSINESS_UNIT#CLUBTURING', 'name': 'Club Turing'})\n",
    "\n",
    "\n",
    "users_bu = pd.DataFrame(users_bu)\n",
    "users = pd.concat([users, users_bu])"
   ]
  },
  {
   "cell_type": "code",
   "execution_count": 48,
   "id": "f472d265",
   "metadata": {},
   "outputs": [
    {
     "data": {
      "text/html": [
       "<div>\n",
       "<style scoped>\n",
       "    .dataframe tbody tr th:only-of-type {\n",
       "        vertical-align: middle;\n",
       "    }\n",
       "\n",
       "    .dataframe tbody tr th {\n",
       "        vertical-align: top;\n",
       "    }\n",
       "\n",
       "    .dataframe thead th {\n",
       "        text-align: right;\n",
       "    }\n",
       "</style>\n",
       "<table border=\"1\" class=\"dataframe\">\n",
       "  <thead>\n",
       "    <tr style=\"text-align: right;\">\n",
       "      <th></th>\n",
       "      <th>key</th>\n",
       "      <th>id</th>\n",
       "      <th>firstName</th>\n",
       "      <th>lastName</th>\n",
       "      <th>name</th>\n",
       "      <th>and_tile</th>\n",
       "    </tr>\n",
       "  </thead>\n",
       "  <tbody>\n",
       "    <tr>\n",
       "      <th>44</th>\n",
       "      <td>USER#f97bf21d-22af-421a-9beb-5859c7c1a4ab</td>\n",
       "      <td>USER#f97bf21d-22af-421a-9beb-5859c7c1a4ab</td>\n",
       "      <td>Ashraf</td>\n",
       "      <td>Nazar</td>\n",
       "      <td>Ashraf Nazar</td>\n",
       "      <td>AND Curious Questioner</td>\n",
       "    </tr>\n",
       "    <tr>\n",
       "      <th>41</th>\n",
       "      <td>USER#f97bf21d-22af-421a-9beb-5859c7c1a4ab</td>\n",
       "      <td>BUSINESS_UNIT#CLUBTURING</td>\n",
       "      <td>NaN</td>\n",
       "      <td>NaN</td>\n",
       "      <td>Club Turing</td>\n",
       "      <td>NaN</td>\n",
       "    </tr>\n",
       "  </tbody>\n",
       "</table>\n",
       "</div>"
      ],
      "text/plain": [
       "                                          key  \\\n",
       "44  USER#f97bf21d-22af-421a-9beb-5859c7c1a4ab   \n",
       "41  USER#f97bf21d-22af-421a-9beb-5859c7c1a4ab   \n",
       "\n",
       "                                           id firstName lastName  \\\n",
       "44  USER#f97bf21d-22af-421a-9beb-5859c7c1a4ab    Ashraf    Nazar   \n",
       "41                   BUSINESS_UNIT#CLUBTURING       NaN      NaN   \n",
       "\n",
       "            name                and_tile  \n",
       "44  Ashraf Nazar  AND Curious Questioner  \n",
       "41   Club Turing                     NaN  "
      ]
     },
     "execution_count": 48,
     "metadata": {},
     "output_type": "execute_result"
    }
   ],
   "source": [
    "users[users['key'] == users[users['firstName'] == 'Ashraf']['key'].values[0]]"
   ]
  },
  {
   "cell_type": "markdown",
   "id": "fc5390e9",
   "metadata": {},
   "source": [
    "### key_skills\n",
    "\n",
    "### core_focus"
   ]
  },
  {
   "cell_type": "markdown",
   "id": "339b3ae0",
   "metadata": {},
   "source": [
    "### tech_stack\n",
    "\n",
    "### industries\n",
    "\n",
    "### key_clients"
   ]
  },
  {
   "cell_type": "markdown",
   "id": "58eb1f51",
   "metadata": {},
   "source": [
    "### Experiences\n",
    "\n",
    "Org.\n",
    "\n",
    "Role\n",
    "\n",
    "Description"
   ]
  },
  {
   "cell_type": "markdown",
   "id": "aa3fcab9",
   "metadata": {},
   "source": []
  },
  {
   "cell_type": "markdown",
   "id": "d4b428ac",
   "metadata": {},
   "source": []
  },
  {
   "cell_type": "markdown",
   "id": "83aab0ce",
   "metadata": {},
   "source": [
    "Loop through each slide making them a single record with only the text they got"
   ]
  },
  {
   "cell_type": "code",
   "execution_count": null,
   "id": "7a35543d",
   "metadata": {},
   "outputs": [],
   "source": []
  },
  {
   "cell_type": "code",
   "execution_count": null,
   "id": "16e418f3",
   "metadata": {},
   "outputs": [],
   "source": []
  },
  {
   "cell_type": "code",
   "execution_count": null,
   "id": "4ef3212d",
   "metadata": {},
   "outputs": [],
   "source": []
  },
  {
   "cell_type": "markdown",
   "id": "62eca357",
   "metadata": {},
   "source": [
    "Apply modeling to each record to identify what is what"
   ]
  },
  {
   "cell_type": "code",
   "execution_count": null,
   "id": "e825958a",
   "metadata": {},
   "outputs": [],
   "source": []
  },
  {
   "cell_type": "code",
   "execution_count": null,
   "id": "b95a2118",
   "metadata": {},
   "outputs": [],
   "source": []
  },
  {
   "cell_type": "code",
   "execution_count": null,
   "id": "4b3f1dd4",
   "metadata": {},
   "outputs": [],
   "source": [
    "with open('./caio_garcia.json', 'r') as f:\n",
    "  data = json.load(f)"
   ]
  },
  {
   "cell_type": "code",
   "execution_count": null,
   "id": "5b389068",
   "metadata": {},
   "outputs": [],
   "source": [
    "df = pd.DataFrame(data['pageElements'])"
   ]
  },
  {
   "cell_type": "code",
   "execution_count": null,
   "id": "620d3967",
   "metadata": {},
   "outputs": [],
   "source": [
    "tmp = []\n",
    "for i in range(len(df['shape'])):\n",
    "    tmp.append(df['shape'][i])\n",
    "# len(tmp)"
   ]
  },
  {
   "cell_type": "code",
   "execution_count": null,
   "id": "da68a7b2",
   "metadata": {
    "scrolled": false
   },
   "outputs": [],
   "source": [
    "for i in range(len(tmp)):\n",
    "    try:\n",
    "        for j in range(len(tmp[i]['text']['textElements'])):\n",
    "            try:\n",
    "                if j ==1:\n",
    "                    print(\"%d: \" % (j) + tmp[i]['text']['textElements'][j]['textRun']['content'])\n",
    "                else:\n",
    "                    print(tmp[i]['text']['textElements'][j]['textRun']['content'])\n",
    "            except:\n",
    "                continue\n",
    "    except:\n",
    "        continue"
   ]
  },
  {
   "cell_type": "code",
   "execution_count": null,
   "id": "9a453c80",
   "metadata": {},
   "outputs": [],
   "source": [
    "# def runner_function(arg):\n",
    "#     arr = []\n",
    "#     for i in range(len(df[arg])):\n",
    "#         arr.append(df[arg][i])\n",
    "    \n",
    "#     for j in range(len(arr)):\n",
    "#         try:\n",
    "            \n",
    "\n",
    "        \n",
    "        \n",
    "        \n",
    "    \n",
    "#     return arr\n",
    "            \n",
    "        \n",
    "        \n",
    "        \n",
    "        \n",
    "        \n",
    "        \n",
    "        \n",
    "        \n",
    "        \n",
    "        \n",
    "        \n",
    "        \n",
    "        \n",
    "        \n",
    "# #         try:\n",
    "# #             for j in range(len(df[arg][i])):\n",
    "# #                 try:\n",
    "# #                     arr.append(df[arg][i]['text']['textElements'][j]['textRun']['content'])\n",
    "# #                 except:\n",
    "# #                     continue\n",
    "# #         except:\n",
    "# #             continue\n",
    "# #     return arr"
   ]
  },
  {
   "cell_type": "code",
   "execution_count": null,
   "id": "95418641",
   "metadata": {},
   "outputs": [],
   "source": [
    "# runner_function('shape')"
   ]
  },
  {
   "cell_type": "code",
   "execution_count": null,
   "id": "b1ed1527",
   "metadata": {},
   "outputs": [],
   "source": [
    "with open('./musab_adam_slide.json', 'r') as f:\n",
    "  data = json.load(f)"
   ]
  },
  {
   "cell_type": "code",
   "execution_count": null,
   "id": "52d4cdb2",
   "metadata": {},
   "outputs": [],
   "source": [
    "df = pd.DataFrame(data['pageElements'])"
   ]
  },
  {
   "cell_type": "code",
   "execution_count": null,
   "id": "46b509c5",
   "metadata": {},
   "outputs": [],
   "source": [
    "tmp = []\n",
    "for i in range(len(df['shape'])):\n",
    "    tmp.append(df['shape'][i])\n",
    "len(tmp)"
   ]
  },
  {
   "cell_type": "code",
   "execution_count": null,
   "id": "baf81278",
   "metadata": {},
   "outputs": [],
   "source": [
    "for i in range(len(tmp)):\n",
    "    try:\n",
    "        for j in range(len(tmp[i]['text']['textElements'])):\n",
    "            try:\n",
    "                if j ==1:\n",
    "                    print(\"%d: \" % (j) + tmp[i]['text']['textElements'][j]['textRun']['content'])\n",
    "                else:\n",
    "                    print(tmp[i]['text']['textElements'][j]['textRun']['content'])\n",
    "            except:\n",
    "                continue\n",
    "    except:\n",
    "        continue"
   ]
  },
  {
   "cell_type": "code",
   "execution_count": null,
   "id": "4bd35b95",
   "metadata": {},
   "outputs": [],
   "source": []
  }
 ],
 "metadata": {
  "celltoolbar": "Slideshow",
  "kernelspec": {
   "display_name": "Python 3 (ipykernel)",
   "language": "python",
   "name": "python3"
  },
  "language_info": {
   "codemirror_mode": {
    "name": "ipython",
    "version": 3
   },
   "file_extension": ".py",
   "mimetype": "text/x-python",
   "name": "python",
   "nbconvert_exporter": "python",
   "pygments_lexer": "ipython3",
   "version": "3.9.13"
  }
 },
 "nbformat": 4,
 "nbformat_minor": 5
}
