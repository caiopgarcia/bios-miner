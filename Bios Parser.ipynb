{
 "cells": [
  {
   "cell_type": "markdown",
   "id": "2244bfea",
   "metadata": {},
   "source": [
    "### Importing libraries"
   ]
  },
  {
   "cell_type": "code",
   "execution_count": 1,
   "id": "a777fb95",
   "metadata": {
    "scrolled": true
   },
   "outputs": [
    {
     "name": "stdout",
     "output_type": "stream",
     "text": [
      "Intel MKL WARNING: Support of Intel(R) Streaming SIMD Extensions 4.2 (Intel(R) SSE4.2) enabled only processors has been deprecated. Intel oneAPI Math Kernel Library 2025.0 will require Intel(R) Advanced Vector Extensions (Intel(R) AVX) instructions.\n",
      "Intel MKL WARNING: Support of Intel(R) Streaming SIMD Extensions 4.2 (Intel(R) SSE4.2) enabled only processors has been deprecated. Intel oneAPI Math Kernel Library 2025.0 will require Intel(R) Advanced Vector Extensions (Intel(R) AVX) instructions.\n"
     ]
    }
   ],
   "source": [
    "import json\n",
    "import pandas as pd\n",
    "from uuid import uuid4\n",
    "import numpy as np"
   ]
  },
  {
   "cell_type": "markdown",
   "id": "d64c6eaa",
   "metadata": {},
   "source": [
    "### Importing Slides JSON"
   ]
  },
  {
   "cell_type": "code",
   "execution_count": 453,
   "id": "b48707d7",
   "metadata": {},
   "outputs": [],
   "source": [
    "# importing slides\n",
    "with open('./slides-13.09.json') as t:\n",
    "    data = json.load(t)"
   ]
  },
  {
   "cell_type": "code",
   "execution_count": 907,
   "id": "84e34850",
   "metadata": {
    "scrolled": false
   },
   "outputs": [
    {
     "name": "stdout",
     "output_type": "stream",
     "text": [
      "SLIDE STRUCTURE\n",
      "{'objectId': 'gdb6001168f_0_1370', 'pageElements': [{'objectId': 'gdb6001168f_0_1371', 'size': {'width': {'magnitude': 3000000, 'unit': 'EMU'}, 'height': {'magnitude': 3000000, 'unit': 'EMU'}}, 'transform': {'scaleX': 0.7121, 'scaleY': 0.1013, 'translateX': 7007625, 'translateY': 1835125, 'unit': 'EMU'}, 'shape': {'shapeType': 'TEXT_BOX', 'text': {'textElements': [{'endIndex': 32, 'paragraphMarker': {'style': {'lineSpacing': 115, 'alignment': 'START', 'indentStart': {'unit': 'PT'}, 'indentEnd': {'unit': 'PT'}, 'spaceAbove': {'unit': 'PT'}, 'spaceBelow': {'unit': 'PT'}, 'indentFirstLine': {'unit': 'PT'}, 'direction': 'LEFT_TO_RIGHT', 'spacingMode': 'NEVER_COLLAPSE'}}}, {'endIndex': 32, 'textRun': {'content': 'Product Analyst AND Adventuress\\n', 'style': {'backgroundColor': {}, 'foregroundColor': {'opaqueColor': {'themeColor': 'LIGHT1'}}, 'bold': False, 'italic': False, 'fontFamily': 'Poppins', 'fontSize': {'magnitude': 9, 'unit': 'PT'}, 'baselineOffset': 'NONE', 'smallCaps': False, 'strikethrough': False, 'underline': False, 'weightedFontFamily': {'fontFamily': 'Poppins', 'weight': 400}}}}]}, 'shapeProperties': {'shapeBackgroundFill': {'propertyState': 'NOT_RENDERED', 'solidFill': {'color': {'rgbColor': {'red': 1, 'green': 1, 'blue': 1}}, 'alpha': 1}}, 'outline': {'outlineFill': {'solidFill': {'color': {'rgbColor': {}}, 'alpha': 1}}, 'weight': {'magnitude': 9525, 'unit': 'EMU'}, 'dashStyle': 'SOLID', 'propertyState': 'NOT_RENDERED'}, 'shadow': {'type': 'OUTER', 'transform': {'scaleX': 1, 'scaleY': 1, 'unit': 'EMU'}, 'alignment': 'BOTTOM_LEFT', 'blurRadius': {'unit': 'EMU'}, 'color': {'rgbColor': {}}, 'alpha': 1, 'rotateWithShape': False, 'propertyState': 'NOT_RENDERED'}, 'contentAlignment': 'MIDDLE', 'autofit': {'autofitType': 'NONE', 'fontScale': 1}}}}, {'objectId': 'gdb6001168f_0_1372', 'size': {'width': {'magnitude': 3000000, 'unit': 'EMU'}, 'height': {'magnitude': 3000000, 'unit': 'EMU'}}, 'transform': {'scaleX': 0.6728, 'scaleY': 0.2132, 'translateX': 7007625, 'translateY': 2548324.98, 'unit': 'EMU'}, 'shape': {'shapeType': 'TEXT_BOX', 'shapeProperties': {'shapeBackgroundFill': {'propertyState': 'NOT_RENDERED', 'solidFill': {'color': {'rgbColor': {'red': 1, 'green': 1, 'blue': 1}}, 'alpha': 1}}, 'outline': {'outlineFill': {'solidFill': {'color': {'rgbColor': {}}, 'alpha': 1}}, 'weight': {'magnitude': 9525, 'unit': 'EMU'}, 'dashStyle': 'SOLID', 'propertyState': 'NOT_RENDERED'}, 'shadow': {'type': 'OUTER', 'transform': {'scaleX': 1, 'scaleY': 1, 'unit': 'EMU'}, 'alignment': 'BOTTOM_LEFT', 'blurRadius': {'unit': 'EMU'}, 'color': {'rgbColor': {}}, 'alpha': 1, 'rotateWithShape': False, 'propertyState': 'NOT_RENDERED'}, 'contentAlignment': 'TOP', 'autofit': {'autofitType': 'NONE', 'fontScale': 1}}}}, {'objectId': 'gdb6001168f_0_1373', 'size': {'width': {'magnitude': 3000000, 'unit': 'EMU'}, 'height': {'magnitude': 3000000, 'unit': 'EMU'}}, 'transform': {'scaleX': 0.6728, 'scaleY': 0.1013, 'translateX': 7007625, 'translateY': 3597225.5025, 'unit': 'EMU'}, 'shape': {'shapeType': 'TEXT_BOX', 'shapeProperties': {'shapeBackgroundFill': {'propertyState': 'NOT_RENDERED', 'solidFill': {'color': {'rgbColor': {'red': 1, 'green': 1, 'blue': 1}}, 'alpha': 1}}, 'outline': {'outlineFill': {'solidFill': {'color': {'rgbColor': {}}, 'alpha': 1}}, 'weight': {'magnitude': 9525, 'unit': 'EMU'}, 'dashStyle': 'SOLID', 'propertyState': 'NOT_RENDERED'}, 'shadow': {'type': 'OUTER', 'transform': {'scaleX': 1, 'scaleY': 1, 'unit': 'EMU'}, 'alignment': 'BOTTOM_LEFT', 'blurRadius': {'unit': 'EMU'}, 'color': {'rgbColor': {}}, 'alpha': 1, 'rotateWithShape': False, 'propertyState': 'NOT_RENDERED'}, 'contentAlignment': 'TOP', 'autofit': {'autofitType': 'NONE', 'fontScale': 1}}}}, {'objectId': 'gdb6001168f_0_1374', 'size': {'width': {'magnitude': 3000000, 'unit': 'EMU'}, 'height': {'magnitude': 3000000, 'unit': 'EMU'}}, 'transform': {'scaleX': 0.6728, 'scaleY': 0.2132, 'translateX': 7007625, 'translateY': 4155775.3975, 'unit': 'EMU'}, 'shape': {'shapeType': 'TEXT_BOX', 'text': {'textElements': [{'endIndex': 149, 'paragraphMarker': {'style': {'lineSpacing': 100, 'alignment': 'START', 'indentStart': {'unit': 'PT'}, 'indentEnd': {'unit': 'PT'}, 'spaceAbove': {'unit': 'PT'}, 'spaceBelow': {'unit': 'PT'}, 'indentFirstLine': {'unit': 'PT'}, 'direction': 'LEFT_TO_RIGHT', 'spacingMode': 'NEVER_COLLAPSE'}}}, {'endIndex': 149, 'textRun': {'content': 'Certified Scrum Product Owner, Agile / Scrum,UX Prototyping,UX User Testing, Product to market strategy, Technical rollouts, Requirement Gathering, \\n', 'style': {'backgroundColor': {}, 'foregroundColor': {'opaqueColor': {'themeColor': 'LIGHT1'}}, 'bold': False, 'italic': False, 'fontFamily': 'Roboto', 'fontSize': {'magnitude': 9, 'unit': 'PT'}, 'baselineOffset': 'NONE', 'smallCaps': False, 'strikethrough': False, 'underline': False, 'weightedFontFamily': {'fontFamily': 'Roboto', 'weight': 400}}}}, {'startIndex': 149, 'endIndex': 162, 'paragraphMarker': {'style': {'lineSpacing': 100, 'alignment': 'START', 'indentStart': {'unit': 'PT'}, 'indentEnd': {'unit': 'PT'}, 'spaceAbove': {'unit': 'PT'}, 'spaceBelow': {'unit': 'PT'}, 'indentFirstLine': {'unit': 'PT'}, 'direction': 'LEFT_TO_RIGHT', 'spacingMode': 'NEVER_COLLAPSE'}}}, {'startIndex': 149, 'endIndex': 162, 'textRun': {'content': 'Scrum Master\\n', 'style': {'backgroundColor': {}, 'foregroundColor': {'opaqueColor': {'themeColor': 'LIGHT1'}}, 'bold': False, 'italic': False, 'fontFamily': 'Roboto', 'fontSize': {'magnitude': 9, 'unit': 'PT'}, 'baselineOffset': 'NONE', 'smallCaps': False, 'strikethrough': False, 'underline': False, 'weightedFontFamily': {'fontFamily': 'Roboto', 'weight': 400}}}}, {'startIndex': 162, 'endIndex': 163, 'paragraphMarker': {'style': {'lineSpacing': 100, 'alignment': 'START', 'indentStart': {'unit': 'PT'}, 'indentEnd': {'unit': 'PT'}, 'spaceAbove': {'unit': 'PT'}, 'spaceBelow': {'unit': 'PT'}, 'indentFirstLine': {'unit': 'PT'}, 'direction': 'LEFT_TO_RIGHT', 'spacingMode': 'NEVER_COLLAPSE'}}}, {'startIndex': 162, 'endIndex': 163, 'textRun': {'content': '\\n', 'style': {'backgroundColor': {}, 'foregroundColor': {'opaqueColor': {'themeColor': 'LIGHT1'}}, 'bold': False, 'italic': False, 'fontFamily': 'Roboto', 'fontSize': {'magnitude': 9, 'unit': 'PT'}, 'baselineOffset': 'NONE', 'smallCaps': False, 'strikethrough': False, 'underline': False, 'weightedFontFamily': {'fontFamily': 'Roboto', 'weight': 400}}}}]}, 'shapeProperties': {'shapeBackgroundFill': {'propertyState': 'NOT_RENDERED', 'solidFill': {'color': {'rgbColor': {'red': 1, 'green': 1, 'blue': 1}}, 'alpha': 1}}, 'outline': {'outlineFill': {'solidFill': {'color': {'rgbColor': {}}, 'alpha': 1}}, 'weight': {'magnitude': 9525, 'unit': 'EMU'}, 'dashStyle': 'SOLID', 'propertyState': 'NOT_RENDERED'}, 'shadow': {'type': 'OUTER', 'transform': {'scaleX': 1, 'scaleY': 1, 'unit': 'EMU'}, 'alignment': 'BOTTOM_LEFT', 'blurRadius': {'unit': 'EMU'}, 'color': {'rgbColor': {}}, 'alpha': 1, 'rotateWithShape': False, 'propertyState': 'NOT_RENDERED'}, 'contentAlignment': 'TOP', 'autofit': {'autofitType': 'NONE', 'fontScale': 1}}}}, {'objectId': 'gdb6001168f_0_1375', 'size': {'width': {'magnitude': 3000000, 'unit': 'EMU'}, 'height': {'magnitude': 3000000, 'unit': 'EMU'}}, 'transform': {'scaleX': 0.6754, 'scaleY': 0.3967, 'translateX': 183725, 'translateY': 3746950, 'unit': 'EMU'}, 'shape': {'shapeType': 'RECTANGLE', 'text': {'textElements': [{'endIndex': 1, 'paragraphMarker': {'style': {'lineSpacing': 100, 'alignment': 'START', 'indentStart': {'magnitude': 36, 'unit': 'PT'}, 'indentEnd': {'unit': 'PT'}, 'spaceAbove': {'unit': 'PT'}, 'spaceBelow': {'unit': 'PT'}, 'indentFirstLine': {'magnitude': 18, 'unit': 'PT'}, 'direction': 'LEFT_TO_RIGHT', 'spacingMode': 'COLLAPSE_LISTS'}, 'bullet': {'listId': 'kix.6pn3zsafg93s', 'glyph': '●', 'bulletStyle': {'foregroundColor': {'opaqueColor': {'rgbColor': {'red': 0.19607843, 'green': 0.19607843, 'blue': 0.19607843}}}, 'bold': False, 'fontFamily': 'Poppins', 'fontSize': {'magnitude': 9, 'unit': 'PT'}, 'weightedFontFamily': {'fontFamily': 'Poppins', 'weight': 400}}}}}, {'endIndex': 1, 'textRun': {'content': '\\n', 'style': {'backgroundColor': {}, 'foregroundColor': {'opaqueColor': {'rgbColor': {'red': 0.19607843, 'green': 0.19607843, 'blue': 0.19607843}}}, 'bold': False, 'italic': False, 'fontFamily': 'Poppins', 'fontSize': {'magnitude': 9, 'unit': 'PT'}, 'baselineOffset': 'NONE', 'smallCaps': False, 'strikethrough': False, 'underline': False, 'weightedFontFamily': {'fontFamily': 'Poppins', 'weight': 400}}}}], 'lists': {'kix.6pn3zsafg93s': {'listId': 'kix.6pn3zsafg93s', 'nestingLevel': {'0': {'bulletStyle': {'backgroundColor': {}, 'foregroundColor': {'opaqueColor': {'rgbColor': {}}}, 'bold': False, 'italic': False, 'fontFamily': 'Arial', 'fontSize': {'magnitude': 14, 'unit': 'PT'}, 'baselineOffset': 'NONE', 'smallCaps': False, 'strikethrough': False, 'underline': False, 'weightedFontFamily': {'fontFamily': 'Arial', 'weight': 400}}}, '1': {'bulletStyle': {'backgroundColor': {}, 'foregroundColor': {'opaqueColor': {'rgbColor': {}}}, 'bold': False, 'italic': False, 'fontFamily': 'Arial', 'fontSize': {'magnitude': 14, 'unit': 'PT'}, 'baselineOffset': 'NONE', 'smallCaps': False, 'strikethrough': False, 'underline': False, 'weightedFontFamily': {'fontFamily': 'Arial', 'weight': 400}}}, '2': {'bulletStyle': {'backgroundColor': {}, 'foregroundColor': {'opaqueColor': {'rgbColor': {}}}, 'bold': False, 'italic': False, 'fontFamily': 'Arial', 'fontSize': {'magnitude': 14, 'unit': 'PT'}, 'baselineOffset': 'NONE', 'smallCaps': False, 'strikethrough': False, 'underline': False, 'weightedFontFamily': {'fontFamily': 'Arial', 'weight': 400}}}, '3': {'bulletStyle': {'backgroundColor': {}, 'foregroundColor': {'opaqueColor': {'rgbColor': {}}}, 'bold': False, 'italic': False, 'fontFamily': 'Arial', 'fontSize': {'magnitude': 14, 'unit': 'PT'}, 'baselineOffset': 'NONE', 'smallCaps': False, 'strikethrough': False, 'underline': False, 'weightedFontFamily': {'fontFamily': 'Arial', 'weight': 400}}}, '4': {'bulletStyle': {'backgroundColor': {}, 'foregroundColor': {'opaqueColor': {'rgbColor': {}}}, 'bold': False, 'italic': False, 'fontFamily': 'Arial', 'fontSize': {'magnitude': 14, 'unit': 'PT'}, 'baselineOffset': 'NONE', 'smallCaps': False, 'strikethrough': False, 'underline': False, 'weightedFontFamily': {'fontFamily': 'Arial', 'weight': 400}}}, '5': {'bulletStyle': {'backgroundColor': {}, 'foregroundColor': {'opaqueColor': {'rgbColor': {}}}, 'bold': False, 'italic': False, 'fontFamily': 'Arial', 'fontSize': {'magnitude': 14, 'unit': 'PT'}, 'baselineOffset': 'NONE', 'smallCaps': False, 'strikethrough': False, 'underline': False, 'weightedFontFamily': {'fontFamily': 'Arial', 'weight': 400}}}, '6': {'bulletStyle': {'backgroundColor': {}, 'foregroundColor': {'opaqueColor': {'rgbColor': {}}}, 'bold': False, 'italic': False, 'fontFamily': 'Arial', 'fontSize': {'magnitude': 14, 'unit': 'PT'}, 'baselineOffset': 'NONE', 'smallCaps': False, 'strikethrough': False, 'underline': False, 'weightedFontFamily': {'fontFamily': 'Arial', 'weight': 400}}}, '7': {'bulletStyle': {'backgroundColor': {}, 'foregroundColor': {'opaqueColor': {'rgbColor': {}}}, 'bold': False, 'italic': False, 'fontFamily': 'Arial', 'fontSize': {'magnitude': 14, 'unit': 'PT'}, 'baselineOffset': 'NONE', 'smallCaps': False, 'strikethrough': False, 'underline': False, 'weightedFontFamily': {'fontFamily': 'Arial', 'weight': 400}}}, '8': {'bulletStyle': {'backgroundColor': {}, 'foregroundColor': {'opaqueColor': {'rgbColor': {}}}, 'bold': False, 'italic': False, 'fontFamily': 'Arial', 'fontSize': {'magnitude': 14, 'unit': 'PT'}, 'baselineOffset': 'NONE', 'smallCaps': False, 'strikethrough': False, 'underline': False, 'weightedFontFamily': {'fontFamily': 'Arial', 'weight': 400}}}}}}}, 'shapeProperties': {'shapeBackgroundFill': {'propertyState': 'NOT_RENDERED', 'solidFill': {'color': {'rgbColor': {'red': 0.93333334, 'green': 0.93333334, 'blue': 0.93333334}}, 'alpha': 1}}, 'outline': {'outlineFill': {'solidFill': {'color': {'rgbColor': {}}, 'alpha': 1}}, 'weight': {'magnitude': 9525, 'unit': 'EMU'}, 'dashStyle': 'DOT', 'propertyState': 'NOT_RENDERED'}, 'shadow': {'type': 'OUTER', 'transform': {'scaleX': 1, 'scaleY': 1, 'unit': 'EMU'}, 'alignment': 'BOTTOM_LEFT', 'blurRadius': {'unit': 'EMU'}, 'color': {'rgbColor': {}}, 'alpha': 1, 'rotateWithShape': False, 'propertyState': 'NOT_RENDERED'}, 'contentAlignment': 'TOP', 'autofit': {'autofitType': 'NONE', 'fontScale': 1}}}}, {'objectId': 'gdb6001168f_0_1376', 'size': {'width': {'magnitude': 3000000, 'unit': 'EMU'}, 'height': {'magnitude': 3000000, 'unit': 'EMU'}}, 'transform': {'scaleX': 0.6754, 'scaleY': 0.3967, 'translateX': 2328450, 'translateY': 3746925, 'unit': 'EMU'}, 'shape': {'shapeType': 'RECTANGLE', 'text': {'textElements': [{'endIndex': 1, 'paragraphMarker': {'style': {'lineSpacing': 100, 'alignment': 'START', 'indentStart': {'magnitude': 36, 'unit': 'PT'}, 'indentEnd': {'unit': 'PT'}, 'spaceAbove': {'unit': 'PT'}, 'spaceBelow': {'unit': 'PT'}, 'indentFirstLine': {'magnitude': 18, 'unit': 'PT'}, 'direction': 'LEFT_TO_RIGHT', 'spacingMode': 'COLLAPSE_LISTS'}, 'bullet': {'listId': 'kix.g17kgad3rptb', 'glyph': '●', 'bulletStyle': {'foregroundColor': {'opaqueColor': {'rgbColor': {'red': 0.19607843, 'green': 0.19607843, 'blue': 0.19607843}}}, 'bold': False, 'fontFamily': 'Roboto', 'fontSize': {'magnitude': 9, 'unit': 'PT'}, 'underline': False, 'weightedFontFamily': {'fontFamily': 'Roboto', 'weight': 400}}}}}, {'endIndex': 1, 'textRun': {'content': '\\n', 'style': {'backgroundColor': {}, 'foregroundColor': {'opaqueColor': {'rgbColor': {'red': 0.19607843, 'green': 0.19607843, 'blue': 0.19607843}}}, 'bold': False, 'italic': False, 'fontFamily': 'Roboto', 'fontSize': {'magnitude': 9, 'unit': 'PT'}, 'baselineOffset': 'NONE', 'smallCaps': False, 'strikethrough': False, 'underline': False, 'weightedFontFamily': {'fontFamily': 'Roboto', 'weight': 400}}}}], 'lists': {'kix.g17kgad3rptb': {'listId': 'kix.g17kgad3rptb', 'nestingLevel': {'0': {'bulletStyle': {'backgroundColor': {}, 'foregroundColor': {'opaqueColor': {'rgbColor': {}}}, 'bold': False, 'italic': False, 'fontFamily': 'Arial', 'fontSize': {'magnitude': 14, 'unit': 'PT'}, 'baselineOffset': 'NONE', 'smallCaps': False, 'strikethrough': False, 'underline': False, 'weightedFontFamily': {'fontFamily': 'Arial', 'weight': 400}}}, '1': {'bulletStyle': {'backgroundColor': {}, 'foregroundColor': {'opaqueColor': {'rgbColor': {}}}, 'bold': False, 'italic': False, 'fontFamily': 'Arial', 'fontSize': {'magnitude': 14, 'unit': 'PT'}, 'baselineOffset': 'NONE', 'smallCaps': False, 'strikethrough': False, 'underline': False, 'weightedFontFamily': {'fontFamily': 'Arial', 'weight': 400}}}, '2': {'bulletStyle': {'backgroundColor': {}, 'foregroundColor': {'opaqueColor': {'rgbColor': {}}}, 'bold': False, 'italic': False, 'fontFamily': 'Arial', 'fontSize': {'magnitude': 14, 'unit': 'PT'}, 'baselineOffset': 'NONE', 'smallCaps': False, 'strikethrough': False, 'underline': False, 'weightedFontFamily': {'fontFamily': 'Arial', 'weight': 400}}}, '3': {'bulletStyle': {'backgroundColor': {}, 'foregroundColor': {'opaqueColor': {'rgbColor': {}}}, 'bold': False, 'italic': False, 'fontFamily': 'Arial', 'fontSize': {'magnitude': 14, 'unit': 'PT'}, 'baselineOffset': 'NONE', 'smallCaps': False, 'strikethrough': False, 'underline': False, 'weightedFontFamily': {'fontFamily': 'Arial', 'weight': 400}}}, '4': {'bulletStyle': {'backgroundColor': {}, 'foregroundColor': {'opaqueColor': {'rgbColor': {}}}, 'bold': False, 'italic': False, 'fontFamily': 'Arial', 'fontSize': {'magnitude': 14, 'unit': 'PT'}, 'baselineOffset': 'NONE', 'smallCaps': False, 'strikethrough': False, 'underline': False, 'weightedFontFamily': {'fontFamily': 'Arial', 'weight': 400}}}, '5': {'bulletStyle': {'backgroundColor': {}, 'foregroundColor': {'opaqueColor': {'rgbColor': {}}}, 'bold': False, 'italic': False, 'fontFamily': 'Arial', 'fontSize': {'magnitude': 14, 'unit': 'PT'}, 'baselineOffset': 'NONE', 'smallCaps': False, 'strikethrough': False, 'underline': False, 'weightedFontFamily': {'fontFamily': 'Arial', 'weight': 400}}}, '6': {'bulletStyle': {'backgroundColor': {}, 'foregroundColor': {'opaqueColor': {'rgbColor': {}}}, 'bold': False, 'italic': False, 'fontFamily': 'Arial', 'fontSize': {'magnitude': 14, 'unit': 'PT'}, 'baselineOffset': 'NONE', 'smallCaps': False, 'strikethrough': False, 'underline': False, 'weightedFontFamily': {'fontFamily': 'Arial', 'weight': 400}}}, '7': {'bulletStyle': {'backgroundColor': {}, 'foregroundColor': {'opaqueColor': {'rgbColor': {}}}, 'bold': False, 'italic': False, 'fontFamily': 'Arial', 'fontSize': {'magnitude': 14, 'unit': 'PT'}, 'baselineOffset': 'NONE', 'smallCaps': False, 'strikethrough': False, 'underline': False, 'weightedFontFamily': {'fontFamily': 'Arial', 'weight': 400}}}, '8': {'bulletStyle': {'backgroundColor': {}, 'foregroundColor': {'opaqueColor': {'rgbColor': {}}}, 'bold': False, 'italic': False, 'fontFamily': 'Arial', 'fontSize': {'magnitude': 14, 'unit': 'PT'}, 'baselineOffset': 'NONE', 'smallCaps': False, 'strikethrough': False, 'underline': False, 'weightedFontFamily': {'fontFamily': 'Arial', 'weight': 400}}}}}}}, 'shapeProperties': {'shapeBackgroundFill': {'propertyState': 'NOT_RENDERED', 'solidFill': {'color': {'rgbColor': {'red': 0.93333334, 'green': 0.93333334, 'blue': 0.93333334}}, 'alpha': 1}}, 'outline': {'outlineFill': {'solidFill': {'color': {'rgbColor': {}}, 'alpha': 1}}, 'weight': {'magnitude': 9525, 'unit': 'EMU'}, 'dashStyle': 'DOT', 'propertyState': 'NOT_RENDERED'}, 'shadow': {'type': 'OUTER', 'transform': {'scaleX': 1, 'scaleY': 1, 'unit': 'EMU'}, 'alignment': 'BOTTOM_LEFT', 'blurRadius': {'unit': 'EMU'}, 'color': {'rgbColor': {}}, 'alpha': 1, 'rotateWithShape': False, 'propertyState': 'NOT_RENDERED'}, 'contentAlignment': 'TOP', 'autofit': {'autofitType': 'NONE', 'fontScale': 1}}}}, {'objectId': 'gdb6001168f_0_1377', 'size': {'width': {'magnitude': 3000000, 'unit': 'EMU'}, 'height': {'magnitude': 3000000, 'unit': 'EMU'}}, 'transform': {'scaleX': 0.6754, 'scaleY': 0.3967, 'translateX': 4468325, 'translateY': 3746950, 'unit': 'EMU'}, 'shape': {'shapeType': 'RECTANGLE', 'text': {'textElements': [{'endIndex': 1, 'paragraphMarker': {'style': {'lineSpacing': 100, 'alignment': 'START', 'indentStart': {'magnitude': 36, 'unit': 'PT'}, 'indentEnd': {'unit': 'PT'}, 'spaceAbove': {'unit': 'PT'}, 'spaceBelow': {'unit': 'PT'}, 'indentFirstLine': {'magnitude': 18, 'unit': 'PT'}, 'direction': 'LEFT_TO_RIGHT', 'spacingMode': 'COLLAPSE_LISTS'}, 'bullet': {'listId': 'kix.g17kgad3rptb', 'glyph': '●', 'bulletStyle': {'foregroundColor': {'opaqueColor': {'rgbColor': {'red': 0.19607843, 'green': 0.19607843, 'blue': 0.19607843}}}, 'bold': False, 'fontFamily': 'Roboto', 'fontSize': {'magnitude': 9, 'unit': 'PT'}, 'underline': False, 'weightedFontFamily': {'fontFamily': 'Roboto', 'weight': 400}}}}}, {'endIndex': 1, 'textRun': {'content': '\\n', 'style': {'backgroundColor': {}, 'foregroundColor': {'opaqueColor': {'rgbColor': {'red': 0.19607843, 'green': 0.19607843, 'blue': 0.19607843}}}, 'bold': False, 'italic': False, 'fontFamily': 'Roboto', 'fontSize': {'magnitude': 9, 'unit': 'PT'}, 'baselineOffset': 'NONE', 'smallCaps': False, 'strikethrough': False, 'underline': False, 'weightedFontFamily': {'fontFamily': 'Roboto', 'weight': 400}}}}, {'startIndex': 1, 'endIndex': 2, 'paragraphMarker': {'style': {'lineSpacing': 100, 'alignment': 'START', 'indentStart': {'magnitude': 36, 'unit': 'PT'}, 'indentEnd': {'unit': 'PT'}, 'spaceAbove': {'unit': 'PT'}, 'spaceBelow': {'unit': 'PT'}, 'indentFirstLine': {'magnitude': 36, 'unit': 'PT'}, 'direction': 'LEFT_TO_RIGHT', 'spacingMode': 'COLLAPSE_LISTS'}}}, {'startIndex': 1, 'endIndex': 2, 'textRun': {'content': '\\n', 'style': {'backgroundColor': {}, 'foregroundColor': {'opaqueColor': {'rgbColor': {'red': 0.19607843, 'green': 0.19607843, 'blue': 0.19607843}}}, 'bold': False, 'italic': False, 'fontFamily': 'Roboto', 'fontSize': {'magnitude': 9, 'unit': 'PT'}, 'baselineOffset': 'NONE', 'smallCaps': False, 'strikethrough': False, 'underline': False, 'weightedFontFamily': {'fontFamily': 'Roboto', 'weight': 400}}}}], 'lists': {'kix.g17kgad3rptb': {'listId': 'kix.g17kgad3rptb', 'nestingLevel': {'0': {'bulletStyle': {'backgroundColor': {}, 'foregroundColor': {'opaqueColor': {'rgbColor': {}}}, 'bold': False, 'italic': False, 'fontFamily': 'Arial', 'fontSize': {'magnitude': 14, 'unit': 'PT'}, 'baselineOffset': 'NONE', 'smallCaps': False, 'strikethrough': False, 'underline': False, 'weightedFontFamily': {'fontFamily': 'Arial', 'weight': 400}}}, '1': {'bulletStyle': {'backgroundColor': {}, 'foregroundColor': {'opaqueColor': {'rgbColor': {}}}, 'bold': False, 'italic': False, 'fontFamily': 'Arial', 'fontSize': {'magnitude': 14, 'unit': 'PT'}, 'baselineOffset': 'NONE', 'smallCaps': False, 'strikethrough': False, 'underline': False, 'weightedFontFamily': {'fontFamily': 'Arial', 'weight': 400}}}, '2': {'bulletStyle': {'backgroundColor': {}, 'foregroundColor': {'opaqueColor': {'rgbColor': {}}}, 'bold': False, 'italic': False, 'fontFamily': 'Arial', 'fontSize': {'magnitude': 14, 'unit': 'PT'}, 'baselineOffset': 'NONE', 'smallCaps': False, 'strikethrough': False, 'underline': False, 'weightedFontFamily': {'fontFamily': 'Arial', 'weight': 400}}}, '3': {'bulletStyle': {'backgroundColor': {}, 'foregroundColor': {'opaqueColor': {'rgbColor': {}}}, 'bold': False, 'italic': False, 'fontFamily': 'Arial', 'fontSize': {'magnitude': 14, 'unit': 'PT'}, 'baselineOffset': 'NONE', 'smallCaps': False, 'strikethrough': False, 'underline': False, 'weightedFontFamily': {'fontFamily': 'Arial', 'weight': 400}}}, '4': {'bulletStyle': {'backgroundColor': {}, 'foregroundColor': {'opaqueColor': {'rgbColor': {}}}, 'bold': False, 'italic': False, 'fontFamily': 'Arial', 'fontSize': {'magnitude': 14, 'unit': 'PT'}, 'baselineOffset': 'NONE', 'smallCaps': False, 'strikethrough': False, 'underline': False, 'weightedFontFamily': {'fontFamily': 'Arial', 'weight': 400}}}, '5': {'bulletStyle': {'backgroundColor': {}, 'foregroundColor': {'opaqueColor': {'rgbColor': {}}}, 'bold': False, 'italic': False, 'fontFamily': 'Arial', 'fontSize': {'magnitude': 14, 'unit': 'PT'}, 'baselineOffset': 'NONE', 'smallCaps': False, 'strikethrough': False, 'underline': False, 'weightedFontFamily': {'fontFamily': 'Arial', 'weight': 400}}}, '6': {'bulletStyle': {'backgroundColor': {}, 'foregroundColor': {'opaqueColor': {'rgbColor': {}}}, 'bold': False, 'italic': False, 'fontFamily': 'Arial', 'fontSize': {'magnitude': 14, 'unit': 'PT'}, 'baselineOffset': 'NONE', 'smallCaps': False, 'strikethrough': False, 'underline': False, 'weightedFontFamily': {'fontFamily': 'Arial', 'weight': 400}}}, '7': {'bulletStyle': {'backgroundColor': {}, 'foregroundColor': {'opaqueColor': {'rgbColor': {}}}, 'bold': False, 'italic': False, 'fontFamily': 'Arial', 'fontSize': {'magnitude': 14, 'unit': 'PT'}, 'baselineOffset': 'NONE', 'smallCaps': False, 'strikethrough': False, 'underline': False, 'weightedFontFamily': {'fontFamily': 'Arial', 'weight': 400}}}, '8': {'bulletStyle': {'backgroundColor': {}, 'foregroundColor': {'opaqueColor': {'rgbColor': {}}}, 'bold': False, 'italic': False, 'fontFamily': 'Arial', 'fontSize': {'magnitude': 14, 'unit': 'PT'}, 'baselineOffset': 'NONE', 'smallCaps': False, 'strikethrough': False, 'underline': False, 'weightedFontFamily': {'fontFamily': 'Arial', 'weight': 400}}}}}}}, 'shapeProperties': {'shapeBackgroundFill': {'propertyState': 'NOT_RENDERED', 'solidFill': {'color': {'rgbColor': {'red': 0.93333334, 'green': 0.93333334, 'blue': 0.93333334}}, 'alpha': 1}}, 'outline': {'outlineFill': {'solidFill': {'color': {'rgbColor': {}}, 'alpha': 1}}, 'weight': {'magnitude': 9525, 'unit': 'EMU'}, 'dashStyle': 'DOT', 'propertyState': 'NOT_RENDERED'}, 'shadow': {'type': 'OUTER', 'transform': {'scaleX': 1, 'scaleY': 1, 'unit': 'EMU'}, 'alignment': 'BOTTOM_LEFT', 'blurRadius': {'unit': 'EMU'}, 'color': {'rgbColor': {}}, 'alpha': 1, 'rotateWithShape': False, 'propertyState': 'NOT_RENDERED'}, 'contentAlignment': 'TOP', 'autofit': {'autofitType': 'NONE', 'fontScale': 1}}}}, {'objectId': 'gdb6001168f_0_1378', 'size': {'width': {'magnitude': 3000000, 'unit': 'EMU'}, 'height': {'magnitude': 3000000, 'unit': 'EMU'}}, 'transform': {'scaleX': 0.6109, 'scaleY': 0.1132, 'translateX': 7003725.055, 'translateY': 1574550, 'unit': 'EMU'}, 'shape': {'shapeType': 'TEXT_BOX', 'text': {'textElements': [{'endIndex': 16, 'paragraphMarker': {'style': {'lineSpacing': 90, 'alignment': 'START', 'indentStart': {'unit': 'PT'}, 'indentEnd': {'unit': 'PT'}, 'spaceAbove': {'unit': 'PT'}, 'spaceBelow': {'unit': 'PT'}, 'indentFirstLine': {'unit': 'PT'}, 'direction': 'LEFT_TO_RIGHT', 'spacingMode': 'NEVER_COLLAPSE'}}}, {'endIndex': 16, 'textRun': {'content': 'Kaika Szybinska\\n', 'style': {'backgroundColor': {}, 'foregroundColor': {'opaqueColor': {'themeColor': 'LIGHT1'}}, 'bold': True, 'italic': False, 'fontFamily': 'Poppins', 'fontSize': {'magnitude': 14, 'unit': 'PT'}, 'baselineOffset': 'NONE', 'smallCaps': False, 'strikethrough': False, 'underline': False, 'weightedFontFamily': {'fontFamily': 'Poppins', 'weight': 700}}}}]}, 'shapeProperties': {'shapeBackgroundFill': {'propertyState': 'NOT_RENDERED', 'solidFill': {'color': {'rgbColor': {'red': 1, 'green': 1, 'blue': 1}}, 'alpha': 1}}, 'outline': {'outlineFill': {'solidFill': {'color': {'rgbColor': {}}, 'alpha': 1}}, 'weight': {'magnitude': 9525, 'unit': 'EMU'}, 'dashStyle': 'SOLID', 'propertyState': 'NOT_RENDERED'}, 'shadow': {'type': 'OUTER', 'transform': {'scaleX': 1, 'scaleY': 1, 'unit': 'EMU'}, 'alignment': 'BOTTOM_LEFT', 'blurRadius': {'unit': 'EMU'}, 'color': {'rgbColor': {}}, 'alpha': 1, 'rotateWithShape': False, 'propertyState': 'NOT_RENDERED'}, 'contentAlignment': 'MIDDLE', 'autofit': {'autofitType': 'NONE', 'fontScale': 1}}}}, {'objectId': 'gdb6001168f_0_1481', 'size': {'width': {'magnitude': 36575, 'unit': 'EMU'}, 'height': {'magnitude': 51200, 'unit': 'EMU'}}, 'transform': {'scaleX': 38.3342, 'scaleY': 27.3203, 'translateX': 7003725, 'translateY': 181674.87, 'unit': 'EMU'}, 'image': {'contentUrl': 'https://lh6.googleusercontent.com/JiBh-8XZu1_JPRPBkxVinR2N7JJUaDNSyUtiRfg8fmR3-xP19d-raqUBxRKpWw8vL9F4IxCgpH2OHkUbreFcf3f7yxJwMgco9PpEIUzr5wGnGfB1x_9eFi3t3ka0wpLqV3emep6f2mWARiJ3E7CBlGKuYcNYb2_SVA=s2048', 'imageProperties': {'cropProperties': {'leftOffset': 0, 'topOffset': 0.14368184, 'bottomOffset': 0.1436106}, 'outline': {'outlineFill': {'solidFill': {'color': {'rgbColor': {'red': 0.19607843, 'green': 0.19607843, 'blue': 0.19607843}}, 'alpha': 1}}, 'weight': {'magnitude': 9525, 'unit': 'EMU'}, 'dashStyle': 'SOLID', 'propertyState': 'NOT_RENDERED'}, 'shadow': {'type': 'OUTER', 'transform': {'scaleX': 1, 'scaleY': 1, 'unit': 'EMU'}, 'alignment': 'BOTTOM_LEFT', 'blurRadius': {'unit': 'EMU'}, 'color': {'rgbColor': {}}, 'alpha': 1, 'rotateWithShape': False, 'propertyState': 'NOT_RENDERED'}}, 'sourceUrl': 'https://lh3.google.com/u/0/d/1_YtMwXLOQE2lHe7yGAdHVgY4_-F5YBNB=w1463-h2048'}}, {'objectId': 'gdb6001168f_0_3205', 'size': {'width': {'magnitude': 3000000, 'unit': 'EMU'}, 'height': {'magnitude': 3000000, 'unit': 'EMU'}}, 'transform': {'scaleX': 0.6754, 'scaleY': 0.8511, 'translateX': 183725, 'translateY': 634625, 'unit': 'EMU'}, 'shape': {'shapeType': 'RECTANGLE', 'text': {'textElements': [{'endIndex': 10, 'paragraphMarker': {'style': {'lineSpacing': 100, 'alignment': 'START', 'indentStart': {'unit': 'PT'}, 'indentEnd': {'unit': 'PT'}, 'spaceAbove': {'unit': 'PT'}, 'spaceBelow': {'unit': 'PT'}, 'indentFirstLine': {'unit': 'PT'}, 'direction': 'LEFT_TO_RIGHT', 'spacingMode': 'COLLAPSE_LISTS'}}}, {'endIndex': 10, 'textRun': {'content': 'Job Title\\n', 'style': {'backgroundColor': {}, 'foregroundColor': {'opaqueColor': {'themeColor': 'DARK1'}}, 'bold': True, 'italic': False, 'fontFamily': 'Poppins', 'fontSize': {'magnitude': 12, 'unit': 'PT'}, 'baselineOffset': 'NONE', 'smallCaps': False, 'strikethrough': False, 'underline': False, 'weightedFontFamily': {'fontFamily': 'Poppins', 'weight': 700}}}}, {'startIndex': 10, 'endIndex': 22, 'paragraphMarker': {'style': {'lineSpacing': 100, 'alignment': 'START', 'indentStart': {'unit': 'PT'}, 'indentEnd': {'unit': 'PT'}, 'spaceAbove': {'unit': 'PT'}, 'spaceBelow': {'unit': 'PT'}, 'indentFirstLine': {'unit': 'PT'}, 'direction': 'LEFT_TO_RIGHT', 'spacingMode': 'COLLAPSE_LISTS'}}}, {'startIndex': 10, 'endIndex': 22, 'textRun': {'content': 'Client Name\\n', 'style': {'backgroundColor': {}, 'foregroundColor': {'opaqueColor': {'themeColor': 'DARK1'}}, 'bold': False, 'italic': False, 'fontFamily': 'Roboto', 'fontSize': {'magnitude': 10, 'unit': 'PT'}, 'baselineOffset': 'NONE', 'smallCaps': False, 'strikethrough': False, 'underline': False, 'weightedFontFamily': {'fontFamily': 'Roboto', 'weight': 400}}}}, {'startIndex': 22, 'endIndex': 23, 'paragraphMarker': {'style': {'lineSpacing': 100, 'alignment': 'START', 'indentStart': {'unit': 'PT'}, 'indentEnd': {'unit': 'PT'}, 'spaceAbove': {'unit': 'PT'}, 'spaceBelow': {'unit': 'PT'}, 'indentFirstLine': {'unit': 'PT'}, 'direction': 'LEFT_TO_RIGHT', 'spacingMode': 'COLLAPSE_LISTS'}}}, {'startIndex': 22, 'endIndex': 23, 'textRun': {'content': '\\n', 'style': {'backgroundColor': {}, 'foregroundColor': {'opaqueColor': {'themeColor': 'DARK1'}}, 'bold': False, 'italic': False, 'fontFamily': 'Roboto', 'fontSize': {'magnitude': 10, 'unit': 'PT'}, 'baselineOffset': 'NONE', 'smallCaps': False, 'strikethrough': False, 'underline': False, 'weightedFontFamily': {'fontFamily': 'Roboto', 'weight': 400}}}}, {'startIndex': 23, 'endIndex': 225, 'paragraphMarker': {'style': {'lineSpacing': 100, 'alignment': 'START', 'indentStart': {'unit': 'PT'}, 'indentEnd': {'unit': 'PT'}, 'spaceAbove': {'unit': 'PT'}, 'spaceBelow': {'unit': 'PT'}, 'indentFirstLine': {'unit': 'PT'}, 'direction': 'LEFT_TO_RIGHT', 'spacingMode': 'COLLAPSE_LISTS'}}}, {'startIndex': 23, 'endIndex': 225, 'textRun': {'content': 'Two short paragraphs, written in third person, that cover the key piece(s) of work you delivered, the issues you were there to resolve, and any key outcomes - these can be written as few bullet points:\\n', 'style': {'backgroundColor': {}, 'foregroundColor': {'opaqueColor': {'themeColor': 'DARK1'}}, 'bold': False, 'italic': False, 'fontFamily': 'Roboto', 'fontSize': {'magnitude': 9, 'unit': 'PT'}, 'baselineOffset': 'NONE', 'smallCaps': False, 'strikethrough': False, 'underline': False, 'weightedFontFamily': {'fontFamily': 'Roboto', 'weight': 400}}}}, {'startIndex': 225, 'endIndex': 226, 'paragraphMarker': {'style': {'lineSpacing': 100, 'alignment': 'START', 'indentStart': {'unit': 'PT'}, 'indentEnd': {'unit': 'PT'}, 'spaceAbove': {'unit': 'PT'}, 'spaceBelow': {'unit': 'PT'}, 'indentFirstLine': {'unit': 'PT'}, 'direction': 'LEFT_TO_RIGHT', 'spacingMode': 'COLLAPSE_LISTS'}}}, {'startIndex': 225, 'endIndex': 226, 'textRun': {'content': '\\n', 'style': {'backgroundColor': {}, 'foregroundColor': {'opaqueColor': {'themeColor': 'DARK1'}}, 'bold': False, 'italic': False, 'fontFamily': 'Roboto', 'fontSize': {'magnitude': 9, 'unit': 'PT'}, 'baselineOffset': 'NONE', 'smallCaps': False, 'strikethrough': False, 'underline': False, 'weightedFontFamily': {'fontFamily': 'Roboto', 'weight': 400}}}}, {'startIndex': 226, 'endIndex': 236, 'paragraphMarker': {'style': {'lineSpacing': 100, 'alignment': 'START', 'indentStart': {'magnitude': 36, 'unit': 'PT'}, 'indentEnd': {'unit': 'PT'}, 'spaceAbove': {'unit': 'PT'}, 'spaceBelow': {'unit': 'PT'}, 'indentFirstLine': {'magnitude': 18, 'unit': 'PT'}, 'direction': 'LEFT_TO_RIGHT', 'spacingMode': 'COLLAPSE_LISTS'}, 'bullet': {'listId': 'kix.fx3mir4v5nnr', 'glyph': '●', 'bulletStyle': {'foregroundColor': {'opaqueColor': {'themeColor': 'DARK1'}}, 'bold': False, 'fontFamily': 'Roboto', 'fontSize': {'magnitude': 9, 'unit': 'PT'}, 'weightedFontFamily': {'fontFamily': 'Roboto', 'weight': 400}}}}}, {'startIndex': 226, 'endIndex': 236, 'textRun': {'content': 'Outcome 1\\n', 'style': {'backgroundColor': {}, 'foregroundColor': {'opaqueColor': {'themeColor': 'DARK1'}}, 'bold': False, 'italic': False, 'fontFamily': 'Roboto', 'fontSize': {'magnitude': 9, 'unit': 'PT'}, 'baselineOffset': 'NONE', 'smallCaps': False, 'strikethrough': False, 'underline': False, 'weightedFontFamily': {'fontFamily': 'Roboto', 'weight': 400}}}}, {'startIndex': 236, 'endIndex': 246, 'paragraphMarker': {'style': {'lineSpacing': 100, 'alignment': 'START', 'indentStart': {'magnitude': 36, 'unit': 'PT'}, 'indentEnd': {'unit': 'PT'}, 'spaceAbove': {'unit': 'PT'}, 'spaceBelow': {'unit': 'PT'}, 'indentFirstLine': {'magnitude': 18, 'unit': 'PT'}, 'direction': 'LEFT_TO_RIGHT', 'spacingMode': 'COLLAPSE_LISTS'}, 'bullet': {'listId': 'kix.fx3mir4v5nnr', 'glyph': '●', 'bulletStyle': {'foregroundColor': {'opaqueColor': {'themeColor': 'DARK1'}}, 'bold': False, 'fontFamily': 'Roboto', 'fontSize': {'magnitude': 9, 'unit': 'PT'}, 'weightedFontFamily': {'fontFamily': 'Roboto', 'weight': 400}}}}}, {'startIndex': 236, 'endIndex': 246, 'textRun': {'content': 'Outcome 2\\n', 'style': {'backgroundColor': {}, 'foregroundColor': {'opaqueColor': {'themeColor': 'DARK1'}}, 'bold': False, 'italic': False, 'fontFamily': 'Roboto', 'fontSize': {'magnitude': 9, 'unit': 'PT'}, 'baselineOffset': 'NONE', 'smallCaps': False, 'strikethrough': False, 'underline': False, 'weightedFontFamily': {'fontFamily': 'Roboto', 'weight': 400}}}}, {'startIndex': 246, 'endIndex': 256, 'paragraphMarker': {'style': {'lineSpacing': 100, 'alignment': 'START', 'indentStart': {'magnitude': 36, 'unit': 'PT'}, 'indentEnd': {'unit': 'PT'}, 'spaceAbove': {'unit': 'PT'}, 'spaceBelow': {'unit': 'PT'}, 'indentFirstLine': {'magnitude': 18, 'unit': 'PT'}, 'direction': 'LEFT_TO_RIGHT', 'spacingMode': 'COLLAPSE_LISTS'}, 'bullet': {'listId': 'kix.fx3mir4v5nnr', 'glyph': '●', 'bulletStyle': {'foregroundColor': {'opaqueColor': {'themeColor': 'DARK1'}}, 'bold': False, 'fontFamily': 'Roboto', 'fontSize': {'magnitude': 9, 'unit': 'PT'}, 'weightedFontFamily': {'fontFamily': 'Roboto', 'weight': 400}}}}}, {'startIndex': 246, 'endIndex': 256, 'textRun': {'content': 'Outcome 3\\n', 'style': {'backgroundColor': {}, 'foregroundColor': {'opaqueColor': {'themeColor': 'DARK1'}}, 'bold': False, 'italic': False, 'fontFamily': 'Roboto', 'fontSize': {'magnitude': 9, 'unit': 'PT'}, 'baselineOffset': 'NONE', 'smallCaps': False, 'strikethrough': False, 'underline': False, 'weightedFontFamily': {'fontFamily': 'Roboto', 'weight': 400}}}}], 'lists': {'kix.fx3mir4v5nnr': {'listId': 'kix.fx3mir4v5nnr', 'nestingLevel': {'0': {'bulletStyle': {'backgroundColor': {}, 'foregroundColor': {'opaqueColor': {'rgbColor': {}}}, 'bold': False, 'italic': False, 'fontFamily': 'Arial', 'fontSize': {'magnitude': 14, 'unit': 'PT'}, 'baselineOffset': 'NONE', 'smallCaps': False, 'strikethrough': False, 'underline': False, 'weightedFontFamily': {'fontFamily': 'Arial', 'weight': 400}}}, '1': {'bulletStyle': {'backgroundColor': {}, 'foregroundColor': {'opaqueColor': {'rgbColor': {}}}, 'bold': False, 'italic': False, 'fontFamily': 'Arial', 'fontSize': {'magnitude': 14, 'unit': 'PT'}, 'baselineOffset': 'NONE', 'smallCaps': False, 'strikethrough': False, 'underline': False, 'weightedFontFamily': {'fontFamily': 'Arial', 'weight': 400}}}, '2': {'bulletStyle': {'backgroundColor': {}, 'foregroundColor': {'opaqueColor': {'rgbColor': {}}}, 'bold': False, 'italic': False, 'fontFamily': 'Arial', 'fontSize': {'magnitude': 14, 'unit': 'PT'}, 'baselineOffset': 'NONE', 'smallCaps': False, 'strikethrough': False, 'underline': False, 'weightedFontFamily': {'fontFamily': 'Arial', 'weight': 400}}}, '3': {'bulletStyle': {'backgroundColor': {}, 'foregroundColor': {'opaqueColor': {'rgbColor': {}}}, 'bold': False, 'italic': False, 'fontFamily': 'Arial', 'fontSize': {'magnitude': 14, 'unit': 'PT'}, 'baselineOffset': 'NONE', 'smallCaps': False, 'strikethrough': False, 'underline': False, 'weightedFontFamily': {'fontFamily': 'Arial', 'weight': 400}}}, '4': {'bulletStyle': {'backgroundColor': {}, 'foregroundColor': {'opaqueColor': {'rgbColor': {}}}, 'bold': False, 'italic': False, 'fontFamily': 'Arial', 'fontSize': {'magnitude': 14, 'unit': 'PT'}, 'baselineOffset': 'NONE', 'smallCaps': False, 'strikethrough': False, 'underline': False, 'weightedFontFamily': {'fontFamily': 'Arial', 'weight': 400}}}, '5': {'bulletStyle': {'backgroundColor': {}, 'foregroundColor': {'opaqueColor': {'rgbColor': {}}}, 'bold': False, 'italic': False, 'fontFamily': 'Arial', 'fontSize': {'magnitude': 14, 'unit': 'PT'}, 'baselineOffset': 'NONE', 'smallCaps': False, 'strikethrough': False, 'underline': False, 'weightedFontFamily': {'fontFamily': 'Arial', 'weight': 400}}}, '6': {'bulletStyle': {'backgroundColor': {}, 'foregroundColor': {'opaqueColor': {'rgbColor': {}}}, 'bold': False, 'italic': False, 'fontFamily': 'Arial', 'fontSize': {'magnitude': 14, 'unit': 'PT'}, 'baselineOffset': 'NONE', 'smallCaps': False, 'strikethrough': False, 'underline': False, 'weightedFontFamily': {'fontFamily': 'Arial', 'weight': 400}}}, '7': {'bulletStyle': {'backgroundColor': {}, 'foregroundColor': {'opaqueColor': {'rgbColor': {}}}, 'bold': False, 'italic': False, 'fontFamily': 'Arial', 'fontSize': {'magnitude': 14, 'unit': 'PT'}, 'baselineOffset': 'NONE', 'smallCaps': False, 'strikethrough': False, 'underline': False, 'weightedFontFamily': {'fontFamily': 'Arial', 'weight': 400}}}, '8': {'bulletStyle': {'backgroundColor': {}, 'foregroundColor': {'opaqueColor': {'rgbColor': {}}}, 'bold': False, 'italic': False, 'fontFamily': 'Arial', 'fontSize': {'magnitude': 14, 'unit': 'PT'}, 'baselineOffset': 'NONE', 'smallCaps': False, 'strikethrough': False, 'underline': False, 'weightedFontFamily': {'fontFamily': 'Arial', 'weight': 400}}}}}}}, 'shapeProperties': {'shapeBackgroundFill': {'propertyState': 'NOT_RENDERED', 'solidFill': {'color': {'rgbColor': {'red': 0.93333334, 'green': 0.93333334, 'blue': 0.93333334}}, 'alpha': 1}}, 'outline': {'outlineFill': {'solidFill': {'color': {'rgbColor': {}}, 'alpha': 1}}, 'weight': {'magnitude': 9525, 'unit': 'EMU'}, 'dashStyle': 'DOT', 'propertyState': 'NOT_RENDERED'}, 'shadow': {'type': 'OUTER', 'transform': {'scaleX': 1, 'scaleY': 1, 'unit': 'EMU'}, 'alignment': 'BOTTOM_LEFT', 'blurRadius': {'unit': 'EMU'}, 'color': {'rgbColor': {}}, 'alpha': 1, 'rotateWithShape': False, 'propertyState': 'NOT_RENDERED'}, 'contentAlignment': 'TOP', 'autofit': {'autofitType': 'NONE', 'fontScale': 1}}}}, {'objectId': 'gdb6001168f_0_3206', 'size': {'width': {'magnitude': 3000000, 'unit': 'EMU'}, 'height': {'magnitude': 3000000, 'unit': 'EMU'}}, 'transform': {'scaleX': 0.6754, 'scaleY': 0.8511, 'translateX': 2328575, 'translateY': 634625, 'unit': 'EMU'}, 'shape': {'shapeType': 'RECTANGLE', 'text': {'textElements': [{'endIndex': 10, 'paragraphMarker': {'style': {'lineSpacing': 100, 'alignment': 'START', 'indentStart': {'unit': 'PT'}, 'indentEnd': {'unit': 'PT'}, 'spaceAbove': {'unit': 'PT'}, 'spaceBelow': {'unit': 'PT'}, 'indentFirstLine': {'unit': 'PT'}, 'direction': 'LEFT_TO_RIGHT', 'spacingMode': 'COLLAPSE_LISTS'}}}, {'endIndex': 10, 'textRun': {'content': 'Job Title\\n', 'style': {'backgroundColor': {}, 'foregroundColor': {'opaqueColor': {'themeColor': 'DARK1'}}, 'bold': True, 'italic': False, 'fontFamily': 'Poppins', 'fontSize': {'magnitude': 12, 'unit': 'PT'}, 'baselineOffset': 'NONE', 'smallCaps': False, 'strikethrough': False, 'underline': False, 'weightedFontFamily': {'fontFamily': 'Poppins', 'weight': 700}}}}, {'startIndex': 10, 'endIndex': 22, 'paragraphMarker': {'style': {'lineSpacing': 100, 'alignment': 'START', 'indentStart': {'unit': 'PT'}, 'indentEnd': {'unit': 'PT'}, 'spaceAbove': {'unit': 'PT'}, 'spaceBelow': {'unit': 'PT'}, 'indentFirstLine': {'unit': 'PT'}, 'direction': 'LEFT_TO_RIGHT', 'spacingMode': 'COLLAPSE_LISTS'}}}, {'startIndex': 10, 'endIndex': 22, 'textRun': {'content': 'Client Name\\n', 'style': {'backgroundColor': {}, 'foregroundColor': {'opaqueColor': {'themeColor': 'DARK1'}}, 'bold': False, 'italic': False, 'fontFamily': 'Roboto', 'fontSize': {'magnitude': 10, 'unit': 'PT'}, 'baselineOffset': 'NONE', 'smallCaps': False, 'strikethrough': False, 'underline': False, 'weightedFontFamily': {'fontFamily': 'Roboto', 'weight': 400}}}}, {'startIndex': 22, 'endIndex': 23, 'paragraphMarker': {'style': {'lineSpacing': 100, 'alignment': 'START', 'indentStart': {'unit': 'PT'}, 'indentEnd': {'unit': 'PT'}, 'spaceAbove': {'unit': 'PT'}, 'spaceBelow': {'unit': 'PT'}, 'indentFirstLine': {'unit': 'PT'}, 'direction': 'LEFT_TO_RIGHT', 'spacingMode': 'COLLAPSE_LISTS'}}}, {'startIndex': 22, 'endIndex': 23, 'textRun': {'content': '\\n', 'style': {'backgroundColor': {}, 'foregroundColor': {'opaqueColor': {'themeColor': 'DARK1'}}, 'bold': False, 'italic': False, 'fontFamily': 'Roboto', 'fontSize': {'magnitude': 10, 'unit': 'PT'}, 'baselineOffset': 'NONE', 'smallCaps': False, 'strikethrough': False, 'underline': False, 'weightedFontFamily': {'fontFamily': 'Roboto', 'weight': 400}}}}, {'startIndex': 23, 'endIndex': 225, 'paragraphMarker': {'style': {'lineSpacing': 100, 'alignment': 'START', 'indentStart': {'unit': 'PT'}, 'indentEnd': {'unit': 'PT'}, 'spaceAbove': {'unit': 'PT'}, 'spaceBelow': {'unit': 'PT'}, 'indentFirstLine': {'unit': 'PT'}, 'direction': 'LEFT_TO_RIGHT', 'spacingMode': 'COLLAPSE_LISTS'}}}, {'startIndex': 23, 'endIndex': 225, 'textRun': {'content': 'Two short paragraphs, written in third person, that cover the key piece(s) of work you delivered, the issues you were there to resolve, and any key outcomes - these can be written as few bullet points:\\n', 'style': {'backgroundColor': {}, 'foregroundColor': {'opaqueColor': {'themeColor': 'DARK1'}}, 'bold': False, 'italic': False, 'fontFamily': 'Roboto', 'fontSize': {'magnitude': 9, 'unit': 'PT'}, 'baselineOffset': 'NONE', 'smallCaps': False, 'strikethrough': False, 'underline': False, 'weightedFontFamily': {'fontFamily': 'Roboto', 'weight': 400}}}}, {'startIndex': 225, 'endIndex': 226, 'paragraphMarker': {'style': {'lineSpacing': 100, 'alignment': 'START', 'indentStart': {'unit': 'PT'}, 'indentEnd': {'unit': 'PT'}, 'spaceAbove': {'unit': 'PT'}, 'spaceBelow': {'unit': 'PT'}, 'indentFirstLine': {'unit': 'PT'}, 'direction': 'LEFT_TO_RIGHT', 'spacingMode': 'COLLAPSE_LISTS'}}}, {'startIndex': 225, 'endIndex': 226, 'textRun': {'content': '\\n', 'style': {'backgroundColor': {}, 'foregroundColor': {'opaqueColor': {'themeColor': 'DARK1'}}, 'bold': False, 'italic': False, 'fontFamily': 'Roboto', 'fontSize': {'magnitude': 9, 'unit': 'PT'}, 'baselineOffset': 'NONE', 'smallCaps': False, 'strikethrough': False, 'underline': False, 'weightedFontFamily': {'fontFamily': 'Roboto', 'weight': 400}}}}, {'startIndex': 226, 'endIndex': 236, 'paragraphMarker': {'style': {'lineSpacing': 100, 'alignment': 'START', 'indentStart': {'magnitude': 36, 'unit': 'PT'}, 'indentEnd': {'unit': 'PT'}, 'spaceAbove': {'unit': 'PT'}, 'spaceBelow': {'unit': 'PT'}, 'indentFirstLine': {'magnitude': 18, 'unit': 'PT'}, 'direction': 'LEFT_TO_RIGHT', 'spacingMode': 'COLLAPSE_LISTS'}, 'bullet': {'listId': 'kix.5nbnjqw0945', 'glyph': '●', 'bulletStyle': {'foregroundColor': {'opaqueColor': {'themeColor': 'DARK1'}}, 'bold': False, 'fontFamily': 'Roboto', 'fontSize': {'magnitude': 9, 'unit': 'PT'}, 'weightedFontFamily': {'fontFamily': 'Roboto', 'weight': 400}}}}}, {'startIndex': 226, 'endIndex': 236, 'textRun': {'content': 'Outcome 1\\n', 'style': {'backgroundColor': {}, 'foregroundColor': {'opaqueColor': {'themeColor': 'DARK1'}}, 'bold': False, 'italic': False, 'fontFamily': 'Roboto', 'fontSize': {'magnitude': 9, 'unit': 'PT'}, 'baselineOffset': 'NONE', 'smallCaps': False, 'strikethrough': False, 'underline': False, 'weightedFontFamily': {'fontFamily': 'Roboto', 'weight': 400}}}}, {'startIndex': 236, 'endIndex': 246, 'paragraphMarker': {'style': {'lineSpacing': 100, 'alignment': 'START', 'indentStart': {'magnitude': 36, 'unit': 'PT'}, 'indentEnd': {'unit': 'PT'}, 'spaceAbove': {'unit': 'PT'}, 'spaceBelow': {'unit': 'PT'}, 'indentFirstLine': {'magnitude': 18, 'unit': 'PT'}, 'direction': 'LEFT_TO_RIGHT', 'spacingMode': 'COLLAPSE_LISTS'}, 'bullet': {'listId': 'kix.5nbnjqw0945', 'glyph': '●', 'bulletStyle': {'foregroundColor': {'opaqueColor': {'themeColor': 'DARK1'}}, 'bold': False, 'fontFamily': 'Roboto', 'fontSize': {'magnitude': 9, 'unit': 'PT'}, 'weightedFontFamily': {'fontFamily': 'Roboto', 'weight': 400}}}}}, {'startIndex': 236, 'endIndex': 246, 'textRun': {'content': 'Outcome 2\\n', 'style': {'backgroundColor': {}, 'foregroundColor': {'opaqueColor': {'themeColor': 'DARK1'}}, 'bold': False, 'italic': False, 'fontFamily': 'Roboto', 'fontSize': {'magnitude': 9, 'unit': 'PT'}, 'baselineOffset': 'NONE', 'smallCaps': False, 'strikethrough': False, 'underline': False, 'weightedFontFamily': {'fontFamily': 'Roboto', 'weight': 400}}}}, {'startIndex': 246, 'endIndex': 256, 'paragraphMarker': {'style': {'lineSpacing': 100, 'alignment': 'START', 'indentStart': {'magnitude': 36, 'unit': 'PT'}, 'indentEnd': {'unit': 'PT'}, 'spaceAbove': {'unit': 'PT'}, 'spaceBelow': {'unit': 'PT'}, 'indentFirstLine': {'magnitude': 18, 'unit': 'PT'}, 'direction': 'LEFT_TO_RIGHT', 'spacingMode': 'COLLAPSE_LISTS'}, 'bullet': {'listId': 'kix.5nbnjqw0945', 'glyph': '●', 'bulletStyle': {'foregroundColor': {'opaqueColor': {'themeColor': 'DARK1'}}, 'bold': False, 'fontFamily': 'Roboto', 'fontSize': {'magnitude': 9, 'unit': 'PT'}, 'weightedFontFamily': {'fontFamily': 'Roboto', 'weight': 400}}}}}, {'startIndex': 246, 'endIndex': 256, 'textRun': {'content': 'Outcome 3\\n', 'style': {'backgroundColor': {}, 'foregroundColor': {'opaqueColor': {'themeColor': 'DARK1'}}, 'bold': False, 'italic': False, 'fontFamily': 'Roboto', 'fontSize': {'magnitude': 9, 'unit': 'PT'}, 'baselineOffset': 'NONE', 'smallCaps': False, 'strikethrough': False, 'underline': False, 'weightedFontFamily': {'fontFamily': 'Roboto', 'weight': 400}}}}], 'lists': {'kix.5nbnjqw0945': {'listId': 'kix.5nbnjqw0945', 'nestingLevel': {'0': {'bulletStyle': {'backgroundColor': {}, 'foregroundColor': {'opaqueColor': {'rgbColor': {}}}, 'bold': False, 'italic': False, 'fontFamily': 'Arial', 'fontSize': {'magnitude': 14, 'unit': 'PT'}, 'baselineOffset': 'NONE', 'smallCaps': False, 'strikethrough': False, 'underline': False, 'weightedFontFamily': {'fontFamily': 'Arial', 'weight': 400}}}, '1': {'bulletStyle': {'backgroundColor': {}, 'foregroundColor': {'opaqueColor': {'rgbColor': {}}}, 'bold': False, 'italic': False, 'fontFamily': 'Arial', 'fontSize': {'magnitude': 14, 'unit': 'PT'}, 'baselineOffset': 'NONE', 'smallCaps': False, 'strikethrough': False, 'underline': False, 'weightedFontFamily': {'fontFamily': 'Arial', 'weight': 400}}}, '2': {'bulletStyle': {'backgroundColor': {}, 'foregroundColor': {'opaqueColor': {'rgbColor': {}}}, 'bold': False, 'italic': False, 'fontFamily': 'Arial', 'fontSize': {'magnitude': 14, 'unit': 'PT'}, 'baselineOffset': 'NONE', 'smallCaps': False, 'strikethrough': False, 'underline': False, 'weightedFontFamily': {'fontFamily': 'Arial', 'weight': 400}}}, '3': {'bulletStyle': {'backgroundColor': {}, 'foregroundColor': {'opaqueColor': {'rgbColor': {}}}, 'bold': False, 'italic': False, 'fontFamily': 'Arial', 'fontSize': {'magnitude': 14, 'unit': 'PT'}, 'baselineOffset': 'NONE', 'smallCaps': False, 'strikethrough': False, 'underline': False, 'weightedFontFamily': {'fontFamily': 'Arial', 'weight': 400}}}, '4': {'bulletStyle': {'backgroundColor': {}, 'foregroundColor': {'opaqueColor': {'rgbColor': {}}}, 'bold': False, 'italic': False, 'fontFamily': 'Arial', 'fontSize': {'magnitude': 14, 'unit': 'PT'}, 'baselineOffset': 'NONE', 'smallCaps': False, 'strikethrough': False, 'underline': False, 'weightedFontFamily': {'fontFamily': 'Arial', 'weight': 400}}}, '5': {'bulletStyle': {'backgroundColor': {}, 'foregroundColor': {'opaqueColor': {'rgbColor': {}}}, 'bold': False, 'italic': False, 'fontFamily': 'Arial', 'fontSize': {'magnitude': 14, 'unit': 'PT'}, 'baselineOffset': 'NONE', 'smallCaps': False, 'strikethrough': False, 'underline': False, 'weightedFontFamily': {'fontFamily': 'Arial', 'weight': 400}}}, '6': {'bulletStyle': {'backgroundColor': {}, 'foregroundColor': {'opaqueColor': {'rgbColor': {}}}, 'bold': False, 'italic': False, 'fontFamily': 'Arial', 'fontSize': {'magnitude': 14, 'unit': 'PT'}, 'baselineOffset': 'NONE', 'smallCaps': False, 'strikethrough': False, 'underline': False, 'weightedFontFamily': {'fontFamily': 'Arial', 'weight': 400}}}, '7': {'bulletStyle': {'backgroundColor': {}, 'foregroundColor': {'opaqueColor': {'rgbColor': {}}}, 'bold': False, 'italic': False, 'fontFamily': 'Arial', 'fontSize': {'magnitude': 14, 'unit': 'PT'}, 'baselineOffset': 'NONE', 'smallCaps': False, 'strikethrough': False, 'underline': False, 'weightedFontFamily': {'fontFamily': 'Arial', 'weight': 400}}}, '8': {'bulletStyle': {'backgroundColor': {}, 'foregroundColor': {'opaqueColor': {'rgbColor': {}}}, 'bold': False, 'italic': False, 'fontFamily': 'Arial', 'fontSize': {'magnitude': 14, 'unit': 'PT'}, 'baselineOffset': 'NONE', 'smallCaps': False, 'strikethrough': False, 'underline': False, 'weightedFontFamily': {'fontFamily': 'Arial', 'weight': 400}}}}}}}, 'shapeProperties': {'shapeBackgroundFill': {'propertyState': 'NOT_RENDERED', 'solidFill': {'color': {'rgbColor': {'red': 0.93333334, 'green': 0.93333334, 'blue': 0.93333334}}, 'alpha': 1}}, 'outline': {'outlineFill': {'solidFill': {'color': {'rgbColor': {}}, 'alpha': 1}}, 'weight': {'magnitude': 9525, 'unit': 'EMU'}, 'dashStyle': 'DOT', 'propertyState': 'NOT_RENDERED'}, 'shadow': {'type': 'OUTER', 'transform': {'scaleX': 1, 'scaleY': 1, 'unit': 'EMU'}, 'alignment': 'BOTTOM_LEFT', 'blurRadius': {'unit': 'EMU'}, 'color': {'rgbColor': {}}, 'alpha': 1, 'rotateWithShape': False, 'propertyState': 'NOT_RENDERED'}, 'contentAlignment': 'TOP', 'autofit': {'autofitType': 'NONE', 'fontScale': 1}}}}, {'objectId': 'gdb6001168f_0_3207', 'size': {'width': {'magnitude': 3000000, 'unit': 'EMU'}, 'height': {'magnitude': 3000000, 'unit': 'EMU'}}, 'transform': {'scaleX': 0.6754, 'scaleY': 0.8511, 'translateX': 4473425, 'translateY': 634625, 'unit': 'EMU'}, 'shape': {'shapeType': 'RECTANGLE', 'text': {'textElements': [{'endIndex': 10, 'paragraphMarker': {'style': {'lineSpacing': 100, 'alignment': 'START', 'indentStart': {'unit': 'PT'}, 'indentEnd': {'unit': 'PT'}, 'spaceAbove': {'unit': 'PT'}, 'spaceBelow': {'unit': 'PT'}, 'indentFirstLine': {'unit': 'PT'}, 'direction': 'LEFT_TO_RIGHT', 'spacingMode': 'COLLAPSE_LISTS'}}}, {'endIndex': 10, 'textRun': {'content': 'Job Title\\n', 'style': {'backgroundColor': {}, 'foregroundColor': {'opaqueColor': {'themeColor': 'DARK1'}}, 'bold': True, 'italic': False, 'fontFamily': 'Poppins', 'fontSize': {'magnitude': 12, 'unit': 'PT'}, 'baselineOffset': 'NONE', 'smallCaps': False, 'strikethrough': False, 'underline': False, 'weightedFontFamily': {'fontFamily': 'Poppins', 'weight': 700}}}}, {'startIndex': 10, 'endIndex': 22, 'paragraphMarker': {'style': {'lineSpacing': 100, 'alignment': 'START', 'indentStart': {'unit': 'PT'}, 'indentEnd': {'unit': 'PT'}, 'spaceAbove': {'unit': 'PT'}, 'spaceBelow': {'unit': 'PT'}, 'indentFirstLine': {'unit': 'PT'}, 'direction': 'LEFT_TO_RIGHT', 'spacingMode': 'COLLAPSE_LISTS'}}}, {'startIndex': 10, 'endIndex': 22, 'textRun': {'content': 'Client Name\\n', 'style': {'backgroundColor': {}, 'foregroundColor': {'opaqueColor': {'themeColor': 'DARK1'}}, 'bold': False, 'italic': False, 'fontFamily': 'Roboto', 'fontSize': {'magnitude': 10, 'unit': 'PT'}, 'baselineOffset': 'NONE', 'smallCaps': False, 'strikethrough': False, 'underline': False, 'weightedFontFamily': {'fontFamily': 'Roboto', 'weight': 400}}}}, {'startIndex': 22, 'endIndex': 23, 'paragraphMarker': {'style': {'lineSpacing': 100, 'alignment': 'START', 'indentStart': {'unit': 'PT'}, 'indentEnd': {'unit': 'PT'}, 'spaceAbove': {'unit': 'PT'}, 'spaceBelow': {'unit': 'PT'}, 'indentFirstLine': {'unit': 'PT'}, 'direction': 'LEFT_TO_RIGHT', 'spacingMode': 'COLLAPSE_LISTS'}}}, {'startIndex': 22, 'endIndex': 23, 'textRun': {'content': '\\n', 'style': {'backgroundColor': {}, 'foregroundColor': {'opaqueColor': {'themeColor': 'DARK1'}}, 'bold': False, 'italic': False, 'fontFamily': 'Roboto', 'fontSize': {'magnitude': 10, 'unit': 'PT'}, 'baselineOffset': 'NONE', 'smallCaps': False, 'strikethrough': False, 'underline': False, 'weightedFontFamily': {'fontFamily': 'Roboto', 'weight': 400}}}}, {'startIndex': 23, 'endIndex': 225, 'paragraphMarker': {'style': {'lineSpacing': 100, 'alignment': 'START', 'indentStart': {'unit': 'PT'}, 'indentEnd': {'unit': 'PT'}, 'spaceAbove': {'unit': 'PT'}, 'spaceBelow': {'unit': 'PT'}, 'indentFirstLine': {'unit': 'PT'}, 'direction': 'LEFT_TO_RIGHT', 'spacingMode': 'COLLAPSE_LISTS'}}}, {'startIndex': 23, 'endIndex': 225, 'textRun': {'content': 'Two short paragraphs, written in third person, that cover the key piece(s) of work you delivered, the issues you were there to resolve, and any key outcomes - these can be written as few bullet points:\\n', 'style': {'backgroundColor': {}, 'foregroundColor': {'opaqueColor': {'themeColor': 'DARK1'}}, 'bold': False, 'italic': False, 'fontFamily': 'Roboto', 'fontSize': {'magnitude': 9, 'unit': 'PT'}, 'baselineOffset': 'NONE', 'smallCaps': False, 'strikethrough': False, 'underline': False, 'weightedFontFamily': {'fontFamily': 'Roboto', 'weight': 400}}}}, {'startIndex': 225, 'endIndex': 226, 'paragraphMarker': {'style': {'lineSpacing': 100, 'alignment': 'START', 'indentStart': {'unit': 'PT'}, 'indentEnd': {'unit': 'PT'}, 'spaceAbove': {'unit': 'PT'}, 'spaceBelow': {'unit': 'PT'}, 'indentFirstLine': {'unit': 'PT'}, 'direction': 'LEFT_TO_RIGHT', 'spacingMode': 'COLLAPSE_LISTS'}}}, {'startIndex': 225, 'endIndex': 226, 'textRun': {'content': '\\n', 'style': {'backgroundColor': {}, 'foregroundColor': {'opaqueColor': {'themeColor': 'DARK1'}}, 'bold': False, 'italic': False, 'fontFamily': 'Roboto', 'fontSize': {'magnitude': 9, 'unit': 'PT'}, 'baselineOffset': 'NONE', 'smallCaps': False, 'strikethrough': False, 'underline': False, 'weightedFontFamily': {'fontFamily': 'Roboto', 'weight': 400}}}}, {'startIndex': 226, 'endIndex': 236, 'paragraphMarker': {'style': {'lineSpacing': 100, 'alignment': 'START', 'indentStart': {'magnitude': 36, 'unit': 'PT'}, 'indentEnd': {'unit': 'PT'}, 'spaceAbove': {'unit': 'PT'}, 'spaceBelow': {'unit': 'PT'}, 'indentFirstLine': {'magnitude': 18, 'unit': 'PT'}, 'direction': 'LEFT_TO_RIGHT', 'spacingMode': 'COLLAPSE_LISTS'}, 'bullet': {'listId': 'kix.p1an0ml1840x', 'glyph': '●', 'bulletStyle': {'foregroundColor': {'opaqueColor': {'themeColor': 'DARK1'}}, 'bold': False, 'fontFamily': 'Roboto', 'fontSize': {'magnitude': 9, 'unit': 'PT'}, 'weightedFontFamily': {'fontFamily': 'Roboto', 'weight': 400}}}}}, {'startIndex': 226, 'endIndex': 236, 'textRun': {'content': 'Outcome 1\\n', 'style': {'backgroundColor': {}, 'foregroundColor': {'opaqueColor': {'themeColor': 'DARK1'}}, 'bold': False, 'italic': False, 'fontFamily': 'Roboto', 'fontSize': {'magnitude': 9, 'unit': 'PT'}, 'baselineOffset': 'NONE', 'smallCaps': False, 'strikethrough': False, 'underline': False, 'weightedFontFamily': {'fontFamily': 'Roboto', 'weight': 400}}}}, {'startIndex': 236, 'endIndex': 246, 'paragraphMarker': {'style': {'lineSpacing': 100, 'alignment': 'START', 'indentStart': {'magnitude': 36, 'unit': 'PT'}, 'indentEnd': {'unit': 'PT'}, 'spaceAbove': {'unit': 'PT'}, 'spaceBelow': {'unit': 'PT'}, 'indentFirstLine': {'magnitude': 18, 'unit': 'PT'}, 'direction': 'LEFT_TO_RIGHT', 'spacingMode': 'COLLAPSE_LISTS'}, 'bullet': {'listId': 'kix.p1an0ml1840x', 'glyph': '●', 'bulletStyle': {'foregroundColor': {'opaqueColor': {'themeColor': 'DARK1'}}, 'bold': False, 'fontFamily': 'Roboto', 'fontSize': {'magnitude': 9, 'unit': 'PT'}, 'weightedFontFamily': {'fontFamily': 'Roboto', 'weight': 400}}}}}, {'startIndex': 236, 'endIndex': 246, 'textRun': {'content': 'Outcome 2\\n', 'style': {'backgroundColor': {}, 'foregroundColor': {'opaqueColor': {'themeColor': 'DARK1'}}, 'bold': False, 'italic': False, 'fontFamily': 'Roboto', 'fontSize': {'magnitude': 9, 'unit': 'PT'}, 'baselineOffset': 'NONE', 'smallCaps': False, 'strikethrough': False, 'underline': False, 'weightedFontFamily': {'fontFamily': 'Roboto', 'weight': 400}}}}, {'startIndex': 246, 'endIndex': 256, 'paragraphMarker': {'style': {'lineSpacing': 100, 'alignment': 'START', 'indentStart': {'magnitude': 36, 'unit': 'PT'}, 'indentEnd': {'unit': 'PT'}, 'spaceAbove': {'unit': 'PT'}, 'spaceBelow': {'unit': 'PT'}, 'indentFirstLine': {'magnitude': 18, 'unit': 'PT'}, 'direction': 'LEFT_TO_RIGHT', 'spacingMode': 'COLLAPSE_LISTS'}, 'bullet': {'listId': 'kix.p1an0ml1840x', 'glyph': '●', 'bulletStyle': {'foregroundColor': {'opaqueColor': {'themeColor': 'DARK1'}}, 'bold': False, 'fontFamily': 'Roboto', 'fontSize': {'magnitude': 9, 'unit': 'PT'}, 'weightedFontFamily': {'fontFamily': 'Roboto', 'weight': 400}}}}}, {'startIndex': 246, 'endIndex': 256, 'textRun': {'content': 'Outcome 3\\n', 'style': {'backgroundColor': {}, 'foregroundColor': {'opaqueColor': {'themeColor': 'DARK1'}}, 'bold': False, 'italic': False, 'fontFamily': 'Roboto', 'fontSize': {'magnitude': 9, 'unit': 'PT'}, 'baselineOffset': 'NONE', 'smallCaps': False, 'strikethrough': False, 'underline': False, 'weightedFontFamily': {'fontFamily': 'Roboto', 'weight': 400}}}}], 'lists': {'kix.p1an0ml1840x': {'listId': 'kix.p1an0ml1840x', 'nestingLevel': {'0': {'bulletStyle': {'backgroundColor': {}, 'foregroundColor': {'opaqueColor': {'rgbColor': {}}}, 'bold': False, 'italic': False, 'fontFamily': 'Arial', 'fontSize': {'magnitude': 14, 'unit': 'PT'}, 'baselineOffset': 'NONE', 'smallCaps': False, 'strikethrough': False, 'underline': False, 'weightedFontFamily': {'fontFamily': 'Arial', 'weight': 400}}}, '1': {'bulletStyle': {'backgroundColor': {}, 'foregroundColor': {'opaqueColor': {'rgbColor': {}}}, 'bold': False, 'italic': False, 'fontFamily': 'Arial', 'fontSize': {'magnitude': 14, 'unit': 'PT'}, 'baselineOffset': 'NONE', 'smallCaps': False, 'strikethrough': False, 'underline': False, 'weightedFontFamily': {'fontFamily': 'Arial', 'weight': 400}}}, '2': {'bulletStyle': {'backgroundColor': {}, 'foregroundColor': {'opaqueColor': {'rgbColor': {}}}, 'bold': False, 'italic': False, 'fontFamily': 'Arial', 'fontSize': {'magnitude': 14, 'unit': 'PT'}, 'baselineOffset': 'NONE', 'smallCaps': False, 'strikethrough': False, 'underline': False, 'weightedFontFamily': {'fontFamily': 'Arial', 'weight': 400}}}, '3': {'bulletStyle': {'backgroundColor': {}, 'foregroundColor': {'opaqueColor': {'rgbColor': {}}}, 'bold': False, 'italic': False, 'fontFamily': 'Arial', 'fontSize': {'magnitude': 14, 'unit': 'PT'}, 'baselineOffset': 'NONE', 'smallCaps': False, 'strikethrough': False, 'underline': False, 'weightedFontFamily': {'fontFamily': 'Arial', 'weight': 400}}}, '4': {'bulletStyle': {'backgroundColor': {}, 'foregroundColor': {'opaqueColor': {'rgbColor': {}}}, 'bold': False, 'italic': False, 'fontFamily': 'Arial', 'fontSize': {'magnitude': 14, 'unit': 'PT'}, 'baselineOffset': 'NONE', 'smallCaps': False, 'strikethrough': False, 'underline': False, 'weightedFontFamily': {'fontFamily': 'Arial', 'weight': 400}}}, '5': {'bulletStyle': {'backgroundColor': {}, 'foregroundColor': {'opaqueColor': {'rgbColor': {}}}, 'bold': False, 'italic': False, 'fontFamily': 'Arial', 'fontSize': {'magnitude': 14, 'unit': 'PT'}, 'baselineOffset': 'NONE', 'smallCaps': False, 'strikethrough': False, 'underline': False, 'weightedFontFamily': {'fontFamily': 'Arial', 'weight': 400}}}, '6': {'bulletStyle': {'backgroundColor': {}, 'foregroundColor': {'opaqueColor': {'rgbColor': {}}}, 'bold': False, 'italic': False, 'fontFamily': 'Arial', 'fontSize': {'magnitude': 14, 'unit': 'PT'}, 'baselineOffset': 'NONE', 'smallCaps': False, 'strikethrough': False, 'underline': False, 'weightedFontFamily': {'fontFamily': 'Arial', 'weight': 400}}}, '7': {'bulletStyle': {'backgroundColor': {}, 'foregroundColor': {'opaqueColor': {'rgbColor': {}}}, 'bold': False, 'italic': False, 'fontFamily': 'Arial', 'fontSize': {'magnitude': 14, 'unit': 'PT'}, 'baselineOffset': 'NONE', 'smallCaps': False, 'strikethrough': False, 'underline': False, 'weightedFontFamily': {'fontFamily': 'Arial', 'weight': 400}}}, '8': {'bulletStyle': {'backgroundColor': {}, 'foregroundColor': {'opaqueColor': {'rgbColor': {}}}, 'bold': False, 'italic': False, 'fontFamily': 'Arial', 'fontSize': {'magnitude': 14, 'unit': 'PT'}, 'baselineOffset': 'NONE', 'smallCaps': False, 'strikethrough': False, 'underline': False, 'weightedFontFamily': {'fontFamily': 'Arial', 'weight': 400}}}}}}}, 'shapeProperties': {'shapeBackgroundFill': {'propertyState': 'NOT_RENDERED', 'solidFill': {'color': {'rgbColor': {'red': 0.93333334, 'green': 0.93333334, 'blue': 0.93333334}}, 'alpha': 1}}, 'outline': {'outlineFill': {'solidFill': {'color': {'rgbColor': {}}, 'alpha': 1}}, 'weight': {'magnitude': 9525, 'unit': 'EMU'}, 'dashStyle': 'DOT', 'propertyState': 'NOT_RENDERED'}, 'shadow': {'type': 'OUTER', 'transform': {'scaleX': 1, 'scaleY': 1, 'unit': 'EMU'}, 'alignment': 'BOTTOM_LEFT', 'blurRadius': {'unit': 'EMU'}, 'color': {'rgbColor': {}}, 'alpha': 1, 'rotateWithShape': False, 'propertyState': 'NOT_RENDERED'}, 'contentAlignment': 'TOP', 'autofit': {'autofitType': 'NONE', 'fontScale': 1}}}}], 'slideProperties': {'layoutObjectId': 'gb6f1cad775_0_558', 'masterObjectId': 'gb6f1cad775_0_539', 'notesPage': {'objectId': 'gdb6001168f_0_1370:notes', 'pageType': 'NOTES', 'pageElements': [{'objectId': 'gdb6001168f_0_1380', 'size': {'width': {'magnitude': 3000000, 'unit': 'EMU'}, 'height': {'magnitude': 3000000, 'unit': 'EMU'}}, 'transform': {'scaleX': 2.032, 'scaleY': 1.143, 'translateX': 381300, 'translateY': 685800, 'unit': 'EMU'}, 'shape': {'shapeProperties': {'outline': {'propertyState': 'INHERIT'}}, 'placeholder': {'type': 'SLIDE_IMAGE', 'parentObjectId': 'n:slide'}}}, {'objectId': 'gdb6001168f_0_1381', 'size': {'width': {'magnitude': 3000000, 'unit': 'EMU'}, 'height': {'magnitude': 3000000, 'unit': 'EMU'}}, 'transform': {'scaleX': 1.8288, 'scaleY': 1.3716, 'translateX': 685800, 'translateY': 4343400, 'unit': 'EMU'}, 'shape': {'shapeType': 'TEXT_BOX', 'shapeProperties': {'shapeBackgroundFill': {'propertyState': 'INHERIT'}, 'outline': {'propertyState': 'INHERIT'}, 'shadow': {'propertyState': 'INHERIT'}, 'autofit': {'fontScale': 1}}, 'placeholder': {'type': 'BODY', 'index': 1, 'parentObjectId': 'n:text'}}}], 'pageProperties': {'pageBackgroundFill': {'propertyState': 'INHERIT'}}, 'notesProperties': {'speakerNotesObjectId': 'gdb6001168f_0_1381'}}, 'isSkipped': True}, 'pageProperties': {'pageBackgroundFill': {'propertyState': 'INHERIT'}}}\n",
      "None\n",
      "\n",
      "========================================================\n",
      "PAGE ELEMENTS\n",
      "{'objectId': 'gdb6001168f_0_1371', 'size': {'width': {'magnitude': 3000000, 'unit': 'EMU'}, 'height': {'magnitude': 3000000, 'unit': 'EMU'}}, 'transform': {'scaleX': 0.7121, 'scaleY': 0.1013, 'translateX': 7007625, 'translateY': 1835125, 'unit': 'EMU'}, 'shape': {'shapeType': 'TEXT_BOX', 'text': {'textElements': [{'endIndex': 32, 'paragraphMarker': {'style': {'lineSpacing': 115, 'alignment': 'START', 'indentStart': {'unit': 'PT'}, 'indentEnd': {'unit': 'PT'}, 'spaceAbove': {'unit': 'PT'}, 'spaceBelow': {'unit': 'PT'}, 'indentFirstLine': {'unit': 'PT'}, 'direction': 'LEFT_TO_RIGHT', 'spacingMode': 'NEVER_COLLAPSE'}}}, {'endIndex': 32, 'textRun': {'content': 'Product Analyst AND Adventuress\\n', 'style': {'backgroundColor': {}, 'foregroundColor': {'opaqueColor': {'themeColor': 'LIGHT1'}}, 'bold': False, 'italic': False, 'fontFamily': 'Poppins', 'fontSize': {'magnitude': 9, 'unit': 'PT'}, 'baselineOffset': 'NONE', 'smallCaps': False, 'strikethrough': False, 'underline': False, 'weightedFontFamily': {'fontFamily': 'Poppins', 'weight': 400}}}}]}, 'shapeProperties': {'shapeBackgroundFill': {'propertyState': 'NOT_RENDERED', 'solidFill': {'color': {'rgbColor': {'red': 1, 'green': 1, 'blue': 1}}, 'alpha': 1}}, 'outline': {'outlineFill': {'solidFill': {'color': {'rgbColor': {}}, 'alpha': 1}}, 'weight': {'magnitude': 9525, 'unit': 'EMU'}, 'dashStyle': 'SOLID', 'propertyState': 'NOT_RENDERED'}, 'shadow': {'type': 'OUTER', 'transform': {'scaleX': 1, 'scaleY': 1, 'unit': 'EMU'}, 'alignment': 'BOTTOM_LEFT', 'blurRadius': {'unit': 'EMU'}, 'color': {'rgbColor': {}}, 'alpha': 1, 'rotateWithShape': False, 'propertyState': 'NOT_RENDERED'}, 'contentAlignment': 'MIDDLE', 'autofit': {'autofitType': 'NONE', 'fontScale': 1}}}}\n",
      "\n",
      "========================================================\n",
      "TEXT CONTENT\n",
      "Product Analyst AND Adventuress\n",
      "\n",
      "None\n"
     ]
    }
   ],
   "source": [
    "print('SLIDE STRUCTURE')\n",
    "print(print(data['slides'][10]))\n",
    "print()\n",
    "print(\"========================================================\")\n",
    "print('PAGE ELEMENTS')\n",
    "print(data['slides'][10]['pageElements'][0])\n",
    "print()\n",
    "print(\"========================================================\")\n",
    "print('TEXT CONTENT')\n",
    "print(print(data['slides'][10]['pageElements'][0]['shape']['text']['textElements'][1]['textRun']['content']))"
   ]
  },
  {
   "cell_type": "markdown",
   "id": "ee44e39f",
   "metadata": {},
   "source": [
    "### Processing slides"
   ]
  },
  {
   "cell_type": "code",
   "execution_count": 454,
   "id": "f29eb8ad",
   "metadata": {},
   "outputs": [],
   "source": [
    "#extract slides out of presentation\n",
    "def slides_parser(raw_presentation):\n",
    "    slides = pd.DataFrame(raw_presentation)\n",
    "    return slides"
   ]
  },
  {
   "cell_type": "code",
   "execution_count": 455,
   "id": "5914087b",
   "metadata": {},
   "outputs": [
    {
     "name": "stdout",
     "output_type": "stream",
     "text": [
      "No. of objects: \u001b[1m404\n"
     ]
    }
   ],
   "source": [
    "temp_slides = slides_parser(data['slides'])\n",
    "ids = []\n",
    "for ind, i in enumerate(temp_slides['slideProperties']):\n",
    "    try:\n",
    "        if i['isSkipped'] == True:\n",
    "            ids.append(ind)\n",
    "    except:\n",
    "        continue\n",
    "\n",
    "slides = temp_slides.drop(ids)\n",
    "print(\"No. of objects: \" + \"\\033[1m\"+str(slides.size))"
   ]
  },
  {
   "cell_type": "code",
   "execution_count": 456,
   "id": "0535b8f3",
   "metadata": {},
   "outputs": [],
   "source": [
    "bio_objects = {}"
   ]
  },
  {
   "cell_type": "markdown",
   "id": "8dd27bac",
   "metadata": {},
   "source": [
    "### Extracting Text Elements"
   ]
  },
  {
   "cell_type": "code",
   "execution_count": 457,
   "id": "cc05bb58",
   "metadata": {},
   "outputs": [],
   "source": [
    "#extract text elements out slides\n",
    "def text_element_parser(text_elements, page_element_no, slide_no):\n",
    "    bio_objects[str(slide_no)][str(page_element_no)] = []\n",
    "    for i in text_elements:\n",
    "        try:\n",
    "            bio_objects[str(slide_no)][str(page_element_no)].append(str(i['textRun']['content']))\n",
    "        except:\n",
    "            continue\n",
    "\n",
    "def page_elements_parser(slide_page_elements, slide_no):\n",
    "    bio_objects[str(slide_no)] = {}\n",
    "    for idx, i in enumerate(slide_page_elements):\n",
    "        try:\n",
    "            text_element_parser(i['shape']['text']['textElements'], idx, slide_no)\n",
    "        except:\n",
    "            continue"
   ]
  },
  {
   "cell_type": "code",
   "execution_count": 458,
   "id": "779f27e1",
   "metadata": {},
   "outputs": [
    {
     "name": "stdout",
     "output_type": "stream",
     "text": [
      "\u001b[1m101 slides\n"
     ]
    }
   ],
   "source": [
    "def slides_parser(slides):    \n",
    "    for ind in slides.index:\n",
    "        try:\n",
    "            page_elements_parser(slides['pageElements'][ind], ind)\n",
    "        except:\n",
    "            continue\n",
    "slides_parser(slides)\n",
    "print(\"\\033[1m\"+ str(len(bio_objects))+ \" slides\")"
   ]
  },
  {
   "cell_type": "markdown",
   "id": "d8950ac3",
   "metadata": {},
   "source": [
    "### Removing non-Bio Slides"
   ]
  },
  {
   "cell_type": "code",
   "execution_count": 459,
   "id": "aef3b8e5",
   "metadata": {},
   "outputs": [
    {
     "name": "stdout",
     "output_type": "stream",
     "text": [
      "\u001b[1m90 slides\n"
     ]
    }
   ],
   "source": [
    "#remove non-Bio slides\n",
    "def remove_non_bio_slides():\n",
    "    for i in bio_objects.copy().keys():\n",
    "        if len(bio_objects[i]) < 5 or i == '2':\n",
    "            del bio_objects[i]\n",
    "remove_non_bio_slides()\n",
    "print(\"\\033[1m\"+ str(len(bio_objects))+ \" slides\")"
   ]
  },
  {
   "cell_type": "code",
   "execution_count": 942,
   "id": "f3dc6500",
   "metadata": {},
   "outputs": [
    {
     "name": "stdout",
     "output_type": "stream",
     "text": [
      "0:\n",
      "['Product Developer AND Viking\\n']\n",
      "\n",
      "1:\n",
      "['Tony is a passionate DevOps Engineer, dedicated to continuous learning with a keen interest in infrastructure, cloud and developer experience.\\n']\n",
      "\n",
      "2:\n",
      "['Infrastructure, automation, pipelines\\n']\n",
      "\n",
      "3:\n",
      "['Node JS, AWS,Terraform, Ansible, Kubernetes, Serverless, Agile, Stakeholder Management\\n']\n",
      "\n",
      "4:\n",
      "['Openr\\n', 'Azzurri Group\\n', 'Belron\\n', 'Capital One\\n', 'Costa\\n', 'Konsentus\\n']\n",
      "\n",
      "5:\n",
      "['Hospitality\\n', 'Banking\\n', 'Fintech\\n', '\\n']\n",
      "\n",
      "6:\n",
      "['AWS\\n', 'Terraform\\n', 'Kubernetes\\n', 'Ansible\\n', 'Serverless\\n', 'Javascript\\n', '\\n', '\\n']\n",
      "\n",
      "7:\n",
      "['Tony Young \\n']\n",
      "\n",
      "9:\n",
      "['Infrastructure & Backend Developer\\n', 'Azzurri Group\\n', 'A dynamic multi user application for ordering and payment in the casual dining sector, Tony helped by architecting the full application and creating all infrastructure in AWS using  Terraform as well as building out all the Node microservices.\\n', '\\n', 'Created multiple Node microservices\\n', 'Built the full application with Terraform as IaC\\n', 'Implemented Logzio for logging and monitoring\\n', '\\n']\n",
      "\n",
      "10:\n",
      "['DevOps Engineer\\n', 'Belron\\n', '\\n', 'Tony was tasked with building the infrastructure for a POC to consume historical data from Belron’s global business units and consolidate that data into one secure application \\n', '\\n', 'Built out certificate based authentication across the full application from client to server \\n', 'Created full infrastructure across multiple environments \\n', 'Created CI/CD pipelines using a suite of AWS resources\\n', '\\n', '\\n']\n",
      "\n",
      "11:\n",
      "['Devops Engineer\\n', 'Opener\\n', 'A cutting edge hospitality integration platform, Tony worked as part of the DevOps team building both platform and tooling infrastructure.\\n', '\\n', 'Provisioned AWS resources through Terraform and Kubernetes for multi tenancy and high availability\\n', 'Automated build processes and pipelines.\\n', 'Deployed tools to improve developer experience \\n', '\\n', '\\n']\n",
      "\n"
     ]
    }
   ],
   "source": [
    "for i in bio_objects['11']:\n",
    "    print(i+ \":\")\n",
    "    print(bio_objects['11'][i])\n",
    "    print()"
   ]
  },
  {
   "cell_type": "markdown",
   "id": "f3a0d9ff",
   "metadata": {},
   "source": [
    "## Classification"
   ]
  },
  {
   "cell_type": "markdown",
   "id": "b795291a",
   "metadata": {},
   "source": [
    "### Names identifier"
   ]
  },
  {
   "cell_type": "code",
   "execution_count": 673,
   "id": "c1fb4ba7",
   "metadata": {},
   "outputs": [],
   "source": [
    "def name_identifier(bio_element):\n",
    "    if len(bio_element) <= 4:\n",
    "        for j in bio_element:\n",
    "            if 'AND' not in j and 'OVERVIEW' not in j and len(j.split(' ')) < 5 and len(j.split('\\n')) < 4 and not j.isspace()\\\n",
    "            and ((len(set(key_clients) & set(j.split('\\n'))) == 0) and (len(set(key_techs) & set(j.split('\\n'))) == 0) and (len(set(key_industries) & set(j.split('\\n'))) == 0))\\\n",
    "            and ((len(set(key_clients) & set(j.split(' '))) == 0) and (len(set(key_techs) & set(j.split(' '))) == 0) and (len(set(key_industries) & set(j.split(' '))) == 0)) :\n",
    "                return j.rstrip()\n",
    "            else:\n",
    "                continue\n",
    "    else:\n",
    "        return False"
   ]
  },
  {
   "cell_type": "code",
   "execution_count": 902,
   "id": "5e1836ad",
   "metadata": {},
   "outputs": [
    {
     "name": "stdout",
     "output_type": "stream",
     "text": [
      "None\n",
      "None\n",
      "None\n",
      "None\n",
      "False\n",
      "None\n",
      "False\n",
      "Tony Young\n",
      "False\n",
      "False\n",
      "False\n"
     ]
    }
   ],
   "source": [
    "for i in bio_objects['11']:\n",
    "    print(name_identifier(bio_objects['11'][i]))"
   ]
  },
  {
   "cell_type": "markdown",
   "id": "9d335c72",
   "metadata": {},
   "source": [
    "### AND Titles identifier"
   ]
  },
  {
   "cell_type": "code",
   "execution_count": 903,
   "id": "c97e4027",
   "metadata": {},
   "outputs": [],
   "source": [
    "def and_title_identifier(bio_element):\n",
    "    if len(bio_element) <= 4:\n",
    "        for j in bio_element:\n",
    "#             print(j)\n",
    "            if 'AND' in j and 'AND Digital' not in j and len(j.split(' ')) <= 15 and not j.isspace():\n",
    "                return j[j.find('AND'):].replace('\\n','')\n",
    "            else:\n",
    "                continue\n",
    "    else:\n",
    "        return False"
   ]
  },
  {
   "cell_type": "code",
   "execution_count": 905,
   "id": "09070d6f",
   "metadata": {},
   "outputs": [
    {
     "name": "stdout",
     "output_type": "stream",
     "text": [
      "AND Viking\n",
      "None\n",
      "None\n",
      "None\n",
      "False\n",
      "None\n",
      "False\n",
      "None\n",
      "False\n",
      "False\n",
      "False\n"
     ]
    }
   ],
   "source": [
    "slide_no = '11'\n",
    "for i in bio_objects[slide_no]:\n",
    "    print(and_title_identifier(bio_objects[slide_no][i]))"
   ]
  },
  {
   "cell_type": "markdown",
   "id": "dfb3a25a",
   "metadata": {},
   "source": [
    "### Experiences Identifier"
   ]
  },
  {
   "cell_type": "code",
   "execution_count": 728,
   "id": "51a902de",
   "metadata": {},
   "outputs": [],
   "source": [
    "def experience_normalizer(experience):\n",
    "    experience_object = {\"role\": \"\", \"organisation\":\"\", \"description\":\"\"}\n",
    "    experience = [xp for xp in experience if xp != '\\n']\n",
    "    for ind, i in enumerate(experience):\n",
    "        if i == '\\n' or i == '':\n",
    "            continue\n",
    "        else:\n",
    "            if ind == 0:\n",
    "                experience_object[\"role\"] = i.rstrip()\n",
    "            elif ind == 1:\n",
    "                experience_object[\"organisation\"] = i.rstrip()\n",
    "            else:\n",
    "                experience_object[\"description\"] += i.rstrip() + \" \"\n",
    "    return experience_object\n",
    "\n",
    "def experiences_identifier(bio_element):\n",
    "    if len(\"\".join(bio_element).replace(\"\\n\",\"\")) >= 215 and 'OVERVIEW' not in \"\".join(bio_element).replace(\"\\n\",\"\"):\n",
    "        return experience_normalizer(bio_element)\n",
    "    else:\n",
    "        return False\n",
    "#     experiences = []\n",
    "#     for ind, i in enumerate(bio_element):\n",
    "#         try:\n",
    "#             if len(\"\".join(i).replace(\"\\n\",\"\")) >= 175:\n",
    "#                 exp_list = []\n",
    "#                 for j in i:\n",
    "#                     if j.strip() == '':\n",
    "#                         continue\n",
    "#                     else:\n",
    "#                         exp_list.append(j.strip())\n",
    "#                 experiences.append(experience_normalizer(exp_list))\n",
    "#             else:\n",
    "#                 continue\n",
    "#         except:\n",
    "#             continue\n",
    "#     return experiences"
   ]
  },
  {
   "cell_type": "code",
   "execution_count": 906,
   "id": "75392ae6",
   "metadata": {},
   "outputs": [
    {
     "name": "stdout",
     "output_type": "stream",
     "text": [
      "\n",
      "False\n",
      "False\n",
      "False\n",
      "False\n",
      "False\n",
      "False\n",
      "False\n",
      "False\n",
      "{'role': 'Infrastructure & Backend Developer', 'organisation': 'Azzurri Group', 'description': 'A dynamic multi user application for ordering and payment in the casual dining sector, Tony helped by architecting the full application and creating all infrastructure in AWS using  Terraform as well as building out all the Node microservices. Created multiple Node microservices Built the full application with Terraform as IaC Implemented Logzio for logging and monitoring '}\n",
      "{'role': 'DevOps Engineer', 'organisation': 'Belron', 'description': 'Tony was tasked with building the infrastructure for a POC to consume historical data from Belron’s global business units and consolidate that data into one secure application Built out certificate based authentication across the full application from client to server Created full infrastructure across multiple environments Created CI/CD pipelines using a suite of AWS resources '}\n",
      "{'role': 'Devops Engineer', 'organisation': 'Opener', 'description': 'A cutting edge hospitality integration platform, Tony worked as part of the DevOps team building both platform and tooling infrastructure. Provisioned AWS resources through Terraform and Kubernetes for multi tenancy and high availability Automated build processes and pipelines. Deployed tools to improve developer experience '}\n"
     ]
    }
   ],
   "source": [
    "# print(bio_objects['61'])\n",
    "print()\n",
    "for i in bio_objects['11']:\n",
    "    print(experiences_identifier(bio_objects['11'][i]))"
   ]
  },
  {
   "cell_type": "markdown",
   "id": "1cd19dbf",
   "metadata": {},
   "source": [
    "### Core_focus"
   ]
  },
  {
   "cell_type": "markdown",
   "id": "e0d3404e",
   "metadata": {},
   "source": [
    "### Key_Skills"
   ]
  },
  {
   "cell_type": "code",
   "execution_count": null,
   "id": "d758db84",
   "metadata": {},
   "outputs": [],
   "source": []
  },
  {
   "cell_type": "code",
   "execution_count": null,
   "id": "e5903a83",
   "metadata": {},
   "outputs": [],
   "source": []
  },
  {
   "cell_type": "markdown",
   "id": "d217aaec",
   "metadata": {},
   "source": [
    "### ML Classifier"
   ]
  },
  {
   "cell_type": "code",
   "execution_count": 252,
   "id": "5fdc4eb1",
   "metadata": {},
   "outputs": [],
   "source": [
    "train_data = {}\n",
    "bio_objects_copy = bio_objects.copy()"
   ]
  },
  {
   "cell_type": "code",
   "execution_count": 253,
   "id": "a19e2fbb",
   "metadata": {},
   "outputs": [],
   "source": [
    "#slide 4\n",
    "train_data['role_and_title'] = bio_objects_copy['4']['0']\n",
    "train_data['overview'] = bio_objects_copy['4']['1']\n",
    "train_data['key_skills'] = bio_objects_copy['4']['2']\n",
    "train_data['core_focus'] = bio_objects_copy['4']['3']\n",
    "train_data['clients'] = bio_objects_copy['4']['4']\n",
    "train_data['industries'] = bio_objects_copy['4']['5']\n",
    "train_data['tech_stack'] = bio_objects_copy['4']['6']\n",
    "train_data['name'] = bio_objects_copy['4']['7']\n",
    "train_data['experiences'] = [bio_objects_copy['4']['9']]\n",
    "train_data['experiences'].append(bio_objects_copy['4']['10'])\n",
    "train_data['experiences'].append(bio_objects_copy['4']['11'])\n",
    "\n",
    "#slide 11\n",
    "train_data['role_and_title'].append(bio_objects_copy['11']['0'])\n",
    "train_data['overview'].append(bio_objects_copy['11']['1'])\n",
    "train_data['core_focus'].append(bio_objects_copy['11']['2'])\n",
    "train_data['key_skills'].append(bio_objects_copy['11']['3'])\n",
    "train_data['clients'].append(bio_objects_copy['11']['4'])\n",
    "train_data['industries'].append(bio_objects_copy['11']['5'])\n",
    "train_data['tech_stack'].append(bio_objects_copy['11']['6'])\n",
    "train_data['name'].append(bio_objects_copy['11']['7'])\n",
    "train_data['experiences'].append([bio_objects_copy['11']['9']])\n",
    "train_data['experiences'].append(bio_objects_copy['11']['10'])\n",
    "train_data['experiences'].append(bio_objects_copy['11']['11'])\n",
    "\n",
    "#slide 16\n",
    "train_data['role_and_title'].append(bio_objects_copy['16']['0'])\n",
    "train_data['overview'].append(bio_objects_copy['16']['1'])\n",
    "train_data['core_focus'].append(bio_objects_copy['16']['2'])\n",
    "train_data['key_skills'].append(bio_objects_copy['16']['3'])\n",
    "train_data['clients'].append(bio_objects_copy['16']['4'])\n",
    "train_data['industries'].append(bio_objects_copy['16']['5'])\n",
    "train_data['tech_stack'].append(bio_objects_copy['16']['6'])\n",
    "train_data['name'].append(bio_objects_copy['16']['7'])\n",
    "train_data['experiences'].append([bio_objects_copy['16']['8']])\n",
    "train_data['experiences'].append(bio_objects_copy['16']['9'])\n",
    "train_data['experiences'].append(bio_objects_copy['16']['10'])\n",
    "\n",
    "#slide 28\n",
    "train_data['role_and_title'].append(bio_objects_copy['28']['8'])\n",
    "train_data['overview'].append(bio_objects_copy['28']['4'])\n",
    "train_data['key_skills'].append(bio_objects_copy['28']['6'])\n",
    "train_data['core_focus'].append(bio_objects_copy['28']['5'])\n",
    "train_data['clients'].append(bio_objects_copy['28']['12'])\n",
    "train_data['industries'].append(bio_objects_copy['28']['11'])\n",
    "train_data['tech_stack'].append(bio_objects_copy['28']['7'])\n",
    "train_data['name'].append(bio_objects_copy['28']['3'])\n",
    "train_data['experiences'].append([bio_objects_copy['28']['0']])\n",
    "train_data['experiences'].append(bio_objects_copy['28']['1'])\n",
    "train_data['experiences'].append(bio_objects_copy['28']['2'])\n",
    "\n",
    "#slide 29\n",
    "train_data['role_and_title'].append(bio_objects_copy['29']['9'])\n",
    "train_data['overview'].append(bio_objects_copy['29']['7'])\n",
    "train_data['key_skills'].append(bio_objects_copy['29']['10'])\n",
    "train_data['core_focus'].append(bio_objects_copy['29']['11'])\n",
    "train_data['clients'].append(bio_objects_copy['29']['0'])\n",
    "train_data['industries'].append(bio_objects_copy['29']['1'])\n",
    "train_data['tech_stack'].append(bio_objects_copy['29']['2'])\n",
    "train_data['name'].append(bio_objects_copy['29']['8'])\n",
    "train_data['experiences'].append([bio_objects_copy['29']['4']])\n",
    "train_data['experiences'].append(bio_objects_copy['29']['5'])\n",
    "train_data['experiences'].append(bio_objects_copy['29']['13'])\n",
    "\n",
    "#slide 33\n",
    "train_data['role_and_title'].append(bio_objects_copy['33']['10'])\n",
    "train_data['overview'].append(bio_objects_copy['33']['6'])\n",
    "train_data['key_skills'].append(bio_objects_copy['33']['8'])\n",
    "train_data['core_focus'].append(bio_objects_copy['33']['7'])\n",
    "train_data['clients'].append(bio_objects_copy['33']['5'])\n",
    "train_data['industries'].append(bio_objects_copy['33']['4'])\n",
    "train_data['tech_stack'].append(bio_objects_copy['33']['3'])\n",
    "train_data['name'].append(bio_objects_copy['33']['11'])\n",
    "train_data['experiences'].append([bio_objects_copy['33']['0']])\n",
    "train_data['experiences'].append(bio_objects_copy['33']['1'])\n",
    "train_data['experiences'].append(bio_objects_copy['33']['2'])\n",
    "\n",
    "#slide 40\n",
    "train_data['role_and_title'].append(bio_objects_copy['40']['0'])\n",
    "train_data['overview'].append(bio_objects_copy['40']['1'])\n",
    "train_data['key_skills'].append(bio_objects_copy['40']['3'])\n",
    "train_data['core_focus'].append(bio_objects_copy['40']['2'])\n",
    "train_data['clients'].append(bio_objects_copy['40']['4'])\n",
    "train_data['industries'].append(bio_objects_copy['40']['5'])\n",
    "train_data['tech_stack'].append(bio_objects_copy['40']['6'])\n",
    "train_data['name'].append(bio_objects_copy['40']['7'])\n",
    "train_data['experiences'].append([bio_objects_copy['40']['9']])\n",
    "train_data['experiences'].append(bio_objects_copy['40']['10'])\n",
    "train_data['experiences'].append(bio_objects_copy['40']['11'])\n",
    "\n",
    "#slide 65\n",
    "train_data['role_and_title'].append(bio_objects_copy['65']['0'])\n",
    "train_data['overview'].append(bio_objects_copy['65']['1'])\n",
    "train_data['key_skills'].append(bio_objects_copy['65']['3'])\n",
    "train_data['core_focus'].append(bio_objects_copy['65']['2'])\n",
    "train_data['clients'].append(bio_objects_copy['65']['4'])\n",
    "train_data['industries'].append(bio_objects_copy['65']['5'])\n",
    "train_data['tech_stack'].append(bio_objects_copy['65']['6'])\n",
    "train_data['name'].append(bio_objects_copy['65']['7'])\n",
    "train_data['experiences'].append([bio_objects_copy['65']['9']])\n",
    "train_data['experiences'].append(bio_objects_copy['65']['10'])\n",
    "train_data['experiences'].append(bio_objects_copy['65']['11'])\n",
    "\n",
    "#slide 66\n",
    "train_data['role_and_title'].append(bio_objects_copy['66']['10'])\n",
    "train_data['overview'].append(bio_objects_copy['66']['11'])\n",
    "train_data['key_skills'].append(bio_objects_copy['66']['13'])\n",
    "train_data['core_focus'].append(bio_objects_copy['66']['12'])\n",
    "train_data['clients'].append(bio_objects_copy['66']['6'])\n",
    "train_data['industries'].append(bio_objects_copy['66']['7'])\n",
    "train_data['tech_stack'].append(bio_objects_copy['66']['8'])\n",
    "train_data['name'].append(bio_objects_copy['66']['9'])\n",
    "train_data['experiences'].append([bio_objects_copy['66']['3']])\n",
    "train_data['experiences'].append(bio_objects_copy['66']['4'])\n",
    "train_data['experiences'].append(bio_objects_copy['66']['5'])\n",
    "\n",
    "#slide 72\n",
    "train_data['role_and_title'].append(bio_objects_copy['72']['0'])\n",
    "train_data['overview'].append(bio_objects_copy['72']['1'])\n",
    "train_data['key_skills'].append(bio_objects_copy['72']['3'])\n",
    "train_data['core_focus'].append(bio_objects_copy['72']['2'])\n",
    "train_data['clients'].append(bio_objects_copy['72']['4'])\n",
    "train_data['industries'].append(bio_objects_copy['72']['5'])\n",
    "train_data['tech_stack'].append(bio_objects_copy['72']['6'])\n",
    "train_data['name'].append(bio_objects_copy['72']['7'])\n",
    "train_data['experiences'].append([bio_objects_copy['72']['9']])\n",
    "train_data['experiences'].append(bio_objects_copy['72']['10'])\n",
    "train_data['experiences'].append(bio_objects_copy['72']['11'])\n",
    "train_data['experiences'].append(bio_objects_copy['72']['12'])\n",
    "\n",
    "#slide 84\n",
    "train_data['role_and_title'].append(bio_objects_copy['84']['3'])\n",
    "train_data['overview'].append(bio_objects_copy['84']['4'])\n",
    "train_data['key_skills'].append(bio_objects_copy['84']['6'])\n",
    "train_data['core_focus'].append(bio_objects_copy['84']['5'])\n",
    "train_data['clients'].append(bio_objects_copy['84']['7'])\n",
    "train_data['industries'].append(bio_objects_copy['84']['8'])\n",
    "train_data['tech_stack'].append(bio_objects_copy['84']['9'])\n",
    "train_data['name'].append(bio_objects_copy['84']['10'])\n",
    "train_data['experiences'].append([bio_objects_copy['84']['0']])\n",
    "train_data['experiences'].append(bio_objects_copy['84']['1'])\n",
    "train_data['experiences'].append(bio_objects_copy['84']['2'])\n",
    "\n",
    "#slide 90\n",
    "train_data['role_and_title'].append(bio_objects_copy['90']['10'])\n",
    "train_data['overview'].append(bio_objects_copy['90']['11'])\n",
    "train_data['key_skills'].append(bio_objects_copy['90']['13'])\n",
    "train_data['core_focus'].append(bio_objects_copy['90']['12'])\n",
    "train_data['clients'].append(bio_objects_copy['90']['6'])\n",
    "train_data['industries'].append(bio_objects_copy['90']['7'])\n",
    "train_data['tech_stack'].append(bio_objects_copy['90']['8'])\n",
    "train_data['name'].append(bio_objects_copy['90']['9'])\n",
    "train_data['experiences'].append([bio_objects_copy['90']['3']])\n",
    "train_data['experiences'].append(bio_objects_copy['90']['4'])\n",
    "train_data['experiences'].append(bio_objects_copy['90']['5'])\n",
    "\n",
    "#slide 91\n",
    "train_data['role_and_title'].append(bio_objects_copy['91']['5'])\n",
    "train_data['overview'].append(bio_objects_copy['91']['1'])\n",
    "train_data['key_skills'].append(bio_objects_copy['91']['3'])\n",
    "train_data['core_focus'].append(bio_objects_copy['91']['2'])\n",
    "train_data['clients'].append(bio_objects_copy['91']['6'])\n",
    "train_data['industries'].append(bio_objects_copy['91']['7'])\n",
    "train_data['tech_stack'].append(bio_objects_copy['91']['8'])\n",
    "train_data['name'].append(bio_objects_copy['91']['0'])\n",
    "train_data['experiences'].append([bio_objects_copy['91']['9']])\n",
    "train_data['experiences'].append(bio_objects_copy['91']['10'])\n",
    "train_data['experiences'].append(bio_objects_copy['91']['11'])"
   ]
  },
  {
   "cell_type": "code",
   "execution_count": 943,
   "id": "7bd4decb",
   "metadata": {},
   "outputs": [
    {
     "data": {
      "text/plain": [
       "['scrum @ scale certified practitioner',\n",
       " 'professional scrum master i certified',\n",
       " 'jira',\n",
       " 'aws',\n",
       " 'terraform',\n",
       " 'kubernetes',\n",
       " 'ansible',\n",
       " 'serverless',\n",
       " 'javascript',\n",
       " 'jira',\n",
       " 'azure devops',\n",
       " 'scrum',\n",
       " 'justinmind, invision, figma, miro',\n",
       " 'salesforce',\n",
       " 'power bi',\n",
       " 'figma',\n",
       " 'miro / mural',\n",
       " 'pen & paper',\n",
       " 'post-its',\n",
       " 'javascript',\n",
       " 'react',\n",
       " 'react native',\n",
       " 'typescript',\n",
       " 'node.js',\n",
       " 'tdd, jest',\n",
       " 'figma',\n",
       " 'miro',\n",
       " 'jira',\n",
       " 'trello',\n",
       " 'quantum metrics',\n",
       " 'log rocket',\n",
       " 'node.js, typescript',\n",
       " 'reactjs, gatsbyjs',\n",
       " 'java',\n",
       " 'kafka',\n",
       " 'graphql, rest, api design',\n",
       " 'sql, nosql',\n",
       " 'docker, circleci, jenkins',\n",
       " 'javascript',\n",
       " 'react',\n",
       " 'react native',\n",
       " 'node',\n",
       " 'docker',\n",
       " 'aws',\n",
       " 'contentful',\n",
       " 'gatsbyjs',\n",
       " 'tools',\n",
       " 'figma',\n",
       " 'figjam',\n",
       " 'miro',\n",
       " 'keynote',\n",
       " 'react / redux / thunk',\n",
       " 'vanilla js, typescript',\n",
       " 'jest, enzyme',\n",
       " 'node express',\n",
       " 'scss, jss, less, css',\n",
       " 'graphql',\n",
       " 'exposure to next.js',\n",
       " 'certified contentful cms',\n",
       " 'angular',\n",
       " 'aws',\n",
       " 'nodejs',\n",
       " 'serverless',\n",
       " 'typescript / javascript',\n",
       " 'tech stack',\n",
       " 'javascript',\n",
       " 'node.js',\n",
       " 'docker',\n",
       " 'kubernetes',\n",
       " 'aws',\n",
       " 'apache druid',\n",
       " 'kafka',\n",
       " 'html',\n",
       " 'css/scss',\n",
       " 'javascript',\n",
       " 'react/next & redux',\n",
       " 'nodejs',\n",
       " 'adobe xd',\n",
       " 'figma',\n",
       " 'delivery',\n",
       " 'product',\n",
       " 'product delivery',\n",
       " 'agile/scrum',\n",
       " 'aws',\n",
       " 'tech',\n",
       " 'competitor analysis',\n",
       " 'analysis',\n",
       " 'scrum',\n",
       " 'agile',\n",
       " 'figma',\n",
       " 'full',\n",
       " 'full-stack',\n",
       " 'jira',\n",
       " 'jira',\n",
       " 'front',\n",
       " 'front-end',\n",
       " 'front-end',\n",
       " 'frontend',\n",
       " 'back',\n",
       " 'back-end',\n",
       " 'back-end',\n",
       " 'backend',\n",
       " 'engineer',\n",
       " 'product',\n",
       " 'engineer',\n",
       " 'end',\n",
       " 'node.js',\n",
       " 'postgres',\n",
       " 'infrastructure',\n",
       " 'experience',\n",
       " 'strategic',\n",
       " 'ux',\n",
       " 'ui',\n",
       " 'design',\n",
       " 'figma',\n",
       " 'finance',\n",
       " 'user',\n",
       " 'cms',\n",
       " 'marketing',\n",
       " 'mobile',\n",
       " 'e-commerce',\n",
       " 'e-commerce',\n",
       " 'e-commerce',\n",
       " 'business',\n",
       " 'address',\n",
       " 'language',\n",
       " 'sql',\n",
       " 'devops',\n",
       " 'customer',\n",
       " 'nodejs',\n",
       " 'industry',\n",
       " 'loyalty',\n",
       " 'key',\n",
       " 'b2b',\n",
       " 'brand',\n",
       " 'crm',\n",
       " 'typescript',\n",
       " 'kafka',\n",
       " 'tester',\n",
       " 'ecommerce',\n",
       " '| coaching',\n",
       " 'devops/sd/product',\n",
       " 'software',\n",
       " 'web',\n",
       " 'infrastructure,',\n",
       " 'na',\n",
       " 'automated',\n",
       " 'machine',\n",
       " 'node.js',\n",
       " 'postgres',\n",
       " 'card',\n",
       " 'systems',\n",
       " 'hi-fi',\n",
       " 'design',\n",
       " 'design',\n",
       " 'associate',\n",
       " 'product analysis & delivery',\n",
       " 'digital',\n",
       " 'ideas',\n",
       " 'products',\n",
       " 'product developer and sudoku solver',\n",
       " 'aws',\n",
       " 'terraform',\n",
       " 'kubernetes',\n",
       " 'ansible',\n",
       " 'serverless',\n",
       " 'javascript',\n",
       " 'jira',\n",
       " 'azure devops',\n",
       " 'scrum',\n",
       " 'justinmind, invision, figma, miro',\n",
       " 'salesforce',\n",
       " 'power bi',\n",
       " 'figma',\n",
       " 'miro / mural',\n",
       " 'pen & paper',\n",
       " 'post-its',\n",
       " 'javascript',\n",
       " 'react',\n",
       " 'react native',\n",
       " 'typescript',\n",
       " 'node.js',\n",
       " 'tdd, jest',\n",
       " 'figma',\n",
       " 'miro',\n",
       " 'jira',\n",
       " 'trello',\n",
       " 'quantum metrics',\n",
       " 'log rocket',\n",
       " 'node.js, typescript',\n",
       " 'reactjs, gatsbyjs',\n",
       " 'java',\n",
       " 'kafka',\n",
       " 'graphql, rest, api design',\n",
       " 'sql, nosql',\n",
       " 'docker, circleci, jenkins',\n",
       " 'javascript',\n",
       " 'react',\n",
       " 'react native',\n",
       " 'node',\n",
       " 'docker',\n",
       " 'aws',\n",
       " 'contentful',\n",
       " 'gatsbyjs',\n",
       " 'tools',\n",
       " 'figma',\n",
       " 'figjam',\n",
       " 'miro',\n",
       " 'keynote',\n",
       " 'react / redux / thunk',\n",
       " 'vanilla js, typescript',\n",
       " 'jest, enzyme',\n",
       " 'node express',\n",
       " 'scss, jss, less, css',\n",
       " 'graphql',\n",
       " 'exposure to next.js',\n",
       " 'certified contentful cms',\n",
       " 'angular',\n",
       " 'aws',\n",
       " 'nodejs',\n",
       " 'serverless',\n",
       " 'typescript / javascript',\n",
       " 'tech stack',\n",
       " 'javascript',\n",
       " 'node.js',\n",
       " 'docker',\n",
       " 'kubernetes',\n",
       " 'aws',\n",
       " 'apache druid',\n",
       " 'kafka',\n",
       " 'html',\n",
       " 'css/scss',\n",
       " 'javascript',\n",
       " 'react/next & redux',\n",
       " 'nodejs',\n",
       " 'adobe xd',\n",
       " 'figma']"
      ]
     },
     "execution_count": 943,
     "metadata": {},
     "output_type": "execute_result"
    }
   ],
   "source": [
    "train_data['tech_stack']"
   ]
  },
  {
   "cell_type": "code",
   "execution_count": 472,
   "id": "e6f81f64",
   "metadata": {},
   "outputs": [],
   "source": [
    "key_clients = ['Squad', 'Whitbread', 'London\\n', 'Lloyds of London','Department', 'Azzurri\\n', 'Azzurri', 'Azzurri Group', 'Azzurri Group\\n', 'Loyds', 'Walters\\n', 'Openr\\n', 'Openr', 'OpenR', ' Oxford','Oxford','Aviva', 'Group', 'Home Office', 'Citi', 'S&P', 'AXA', 'TUI', 'Mopro', 'FWD', 'FinTech/InsurTech', 'e-Commerce', 'Ineos', 'Invesco', 'TFL', 'Taylor', 'Royal', 'Shawbrook', 'ByBits', 'Berry', 'Mporium', 'Lego', 'Nanopore', 'WorldRemit', 'WorldRemit', 'Lenio', 'Splink', 'HSSMI', 'Ironfly', 'Ford', 'Vida', 'MHHS', 'Jet', 'Cancer', 'Bharat', 'Idea', 'Audi', '\u000b\n",
    "Oxford Nanopore', 'Zenith', '\u000b\n",
    "Zenith', 'British', 'United', 'IAG', 'Wine', 'Dining', 'Solotel', 'Say', 'MOD', 'Bayswater', 'BNP', 'Honda', 'Rakuten', 'Automobile', 'RSA', 'BAE', 'Robert Walters  \\n', 'Walters', 'Robert', 'Titan', 'Digital']\n",
    "\n",
    "key_techs = ['Delivery', 'Product','Product Delivery','Agile/Scrum','AWS', 'Tech', 'Competitor Analysis', 'Analysis', 'Scrum', 'Agile', 'Figma', 'Full', 'Full-Stack', 'Jira\\n', 'Jira', 'Front', 'Front-End', 'Front-end', 'Frontend', 'Back', 'Back-end', 'Back-End', 'Backend', 'Engineer', 'Product', 'Engineer', 'End', 'Node.js\\n', 'Postgres\\n','Infrastructure', 'Experience', 'Strategic', 'UX', 'UI', 'Design', 'Figma', 'Finance', 'User', 'CMS', 'Marketing', 'Mobile', 'e-commerce', 'E-Commerce', 'E-commerce', 'Business', 'Address', 'Language', 'SQL', 'DevOps', 'Customer', 'NodeJS', 'INDUSTRY', 'Loyalty', 'KEY', 'B2B', 'Brand', 'CRM', 'Typescript', 'Kafka', 'Tester', 'eCommerce',  ' | Coaching', 'DevOps/SD/Product', 'Software', 'Web', 'Infrastructure,', 'NA', 'Automated', 'Machine', 'Node.js', 'Postgres', 'Card', 'Systems', 'Hi-Fi', 'design', 'Design', 'Associate', 'Product Analysis & Delivery', 'Digital', 'ideas', 'products', ' Product Developer AND Sudoku Solver']\n",
    "\n",
    "key_industries = ['Events\\n', 'Hospitality\\n', 'Hospitality','Music\\n', 'B2C\\n', 'Retail\\n', 'Retail', 'Casual', 'Telecommunications', 'Gambling', 'Gmabling\\n', 'Travel', 'Public', 'UK', 'FinTech', 'Media', 'Insurance', 'Defence', 'Banking', 'Health', 'Education', 'Healthcare', 'Real', 'Professional','Hotels', 'Insurtech', 'Games', 'International', 'Recruitment', 'Fintech', 'Financial', 'Pharmaceutical', 'Charity', 'Railway', 'Energy', 'Manufacturing', 'Oil', 'Aviation', 'Leisure', 'Aerospace', 'Military', 'Advertisement', 'Music']"
   ]
  },
  {
   "cell_type": "code",
   "execution_count": 291,
   "id": "69f81af1",
   "metadata": {},
   "outputs": [],
   "source": [
    "# train_data['clients'].append(key_clients)\n",
    "# train_data['tech_stack'].append(key_techs)\n",
    "# train_data['industries'].append(key_industries)"
   ]
  },
  {
   "cell_type": "code",
   "execution_count": 254,
   "id": "8425470a",
   "metadata": {},
   "outputs": [
    {
     "data": {
      "text/plain": [
       "{'role_and_title': [],\n",
       " 'overview': [],\n",
       " 'key_skills': [],\n",
       " 'core_focus': [],\n",
       " 'clients': [],\n",
       " 'industries': [],\n",
       " 'tech_stack': [],\n",
       " 'name': [],\n",
       " 'experiences': []}"
      ]
     },
     "execution_count": 254,
     "metadata": {},
     "output_type": "execute_result"
    }
   ],
   "source": [
    "categories = ['role_and_title',\n",
    " 'overview',\n",
    " 'key_skills',\n",
    " 'core_focus',\n",
    " 'clients',\n",
    " 'industries',\n",
    " 'tech_stack',\n",
    " 'name',\n",
    " 'experiences']\n",
    "\n",
    "train_data_copy = {}\n",
    "\n",
    "for i in categories:\n",
    "    train_data_copy[i] = []\n",
    "\n",
    "train_data_copy"
   ]
  },
  {
   "cell_type": "code",
   "execution_count": 255,
   "id": "1c5682c9",
   "metadata": {},
   "outputs": [],
   "source": [
    "def list_cleaner(key):\n",
    "    for i in train_data[key]:\n",
    "        if type(i) == list:\n",
    "            try:\n",
    "                for n in i:\n",
    "                    if type(n) == list:\n",
    "                        for j in n:\n",
    "                            if len(j) > 1 and not (j.strip() == ''):\n",
    "                                train_data_copy[key].append(j.strip().lower())                            \n",
    "                    elif len(n) > 1 and not (n.strip() == ''):\n",
    "                        train_data_copy[key].append(n.strip().lower())\n",
    "            except:\n",
    "                continue\n",
    "        else:\n",
    "            if len(i) > 1 and not (i.strip() == ''):\n",
    "                train_data_copy[key].append(i.strip().lower())\n",
    "#     return train_data_copy[key]"
   ]
  },
  {
   "cell_type": "code",
   "execution_count": 256,
   "id": "05e95d51",
   "metadata": {},
   "outputs": [],
   "source": [
    "for i in categories:\n",
    "    list_cleaner(i)"
   ]
  },
  {
   "cell_type": "code",
   "execution_count": 257,
   "id": "7db43574",
   "metadata": {},
   "outputs": [],
   "source": [
    "train_data = train_data_copy"
   ]
  },
  {
   "cell_type": "markdown",
   "id": "0949a779",
   "metadata": {},
   "source": [
    "### Learning algorithms"
   ]
  },
  {
   "cell_type": "code",
   "execution_count": 258,
   "id": "7fb50239",
   "metadata": {},
   "outputs": [],
   "source": [
    "import numpy as np\n",
    "from sklearn.model_selection import train_test_split\n",
    "from sklearn.feature_extraction.text import TfidfVectorizer\n",
    "from sklearn.naive_bayes import MultinomialNB\n",
    "from sklearn.metrics import accuracy_score, classification_report"
   ]
  },
  {
   "cell_type": "markdown",
   "id": "c5a7d3af",
   "metadata": {},
   "source": [
    "#### Combine text data and labels"
   ]
  },
  {
   "cell_type": "code",
   "execution_count": 259,
   "id": "e21e6ee6",
   "metadata": {},
   "outputs": [],
   "source": [
    "del train_data['experiences']\n",
    "del train_data['name']\n",
    "del train_data['core_focus']\n",
    "del train_data['role_and_title']\n",
    "del train_data['key_skills']\n",
    "# del train_data['overview']"
   ]
  },
  {
   "cell_type": "code",
   "execution_count": 946,
   "id": "f5a5098c",
   "metadata": {},
   "outputs": [
    {
     "name": "stdout",
     "output_type": "stream",
     "text": [
      "['-', 'overview', 'sajidah joined and digital in 2022 bringing in over 1 years experience as a front-end developer.', 'tony is a passionate devops engineer, dedicated to continuous learning with a keen interest in infrastructure, cloud and developer experience.', 'anshu is a product owner having 10+ years it industry experience with variety of domains and clients', 'jessica joined and digital in 2021, after graduating from an ma in design innovation management and interning in various design roles.', 'julia joined and digital in 2022 as a product developer with strong skills in frontend and', 'an interest in backend technologies.', 'raihan joined and digital in may 2022, bringing with him 2 years product management experience.', 'experienced full-stack developer', 'with 8 years of experience', 'spanning', 'back-end,', 'front-end and devops', 'aviraj joined and digital after graduating with compsci yii and has since been put in pivotal roles on various projects and clients', 'overview']\n",
      "\n",
      "['overview', 'overview', 'overview', 'overview', 'overview', 'overview', 'overview', 'overview', 'overview', 'overview', 'overview', 'overview', 'overview', 'overview', 'overview', 'overview']\n"
     ]
    }
   ],
   "source": [
    "X = []\n",
    "y = []\n",
    "\n",
    "for category, texts in train_data.items():\n",
    "    X.extend(texts)\n",
    "    y.extend([category] * len(texts))\n",
    "\n",
    "print(X[20:36])\n",
    "print()\n",
    "print(y[20:36])"
   ]
  },
  {
   "cell_type": "markdown",
   "id": "3674567b",
   "metadata": {},
   "source": [
    "### Split data into training and testing sets"
   ]
  },
  {
   "cell_type": "code",
   "execution_count": 261,
   "id": "edb949f0",
   "metadata": {},
   "outputs": [],
   "source": [
    "X_train, X_test, y_train, y_test = train_test_split(X,\n",
    "                                                    y,\n",
    "                                                    test_size=0.1,\n",
    "                                                    random_state=42)"
   ]
  },
  {
   "cell_type": "markdown",
   "id": "1d5efada",
   "metadata": {},
   "source": [
    "### Vectorize text using TF-IDF"
   ]
  },
  {
   "cell_type": "code",
   "execution_count": 262,
   "id": "406f4b62",
   "metadata": {},
   "outputs": [],
   "source": [
    "vectorizer = TfidfVectorizer()\n",
    "X_train_tfidf = vectorizer.fit_transform(X_train)\n",
    "X_test_tfidf = vectorizer.transform(X_test)"
   ]
  },
  {
   "cell_type": "code",
   "execution_count": 263,
   "id": "a0ebbf47",
   "metadata": {},
   "outputs": [
    {
     "name": "stdout",
     "output_type": "stream",
     "text": [
      "  (0, 181)\t0.5834546404357493\n",
      "  (0, 287)\t0.5834546404357493\n",
      "  (0, 393)\t0.5649436831295497\n",
      "  (1, 88)\t1.0\n",
      "  (2, 200)\t0.6764043818115826\n",
      "  (2, 353)\t0.7365304557627546\n",
      "  (3, 405)\t1.0\n",
      "  (4, 319)\t1.0\n",
      "  (5, 149)\t1.0\n"
     ]
    }
   ],
   "source": [
    "print(X_train_tfidf[20:26])"
   ]
  },
  {
   "cell_type": "markdown",
   "id": "c2bb33fa",
   "metadata": {},
   "source": [
    "### Training a Multinomial Naive Bayes classifier"
   ]
  },
  {
   "cell_type": "code",
   "execution_count": 264,
   "id": "31688eaa",
   "metadata": {},
   "outputs": [
    {
     "data": {
      "text/html": [
       "<style>#sk-container-id-5 {color: black;background-color: white;}#sk-container-id-5 pre{padding: 0;}#sk-container-id-5 div.sk-toggleable {background-color: white;}#sk-container-id-5 label.sk-toggleable__label {cursor: pointer;display: block;width: 100%;margin-bottom: 0;padding: 0.3em;box-sizing: border-box;text-align: center;}#sk-container-id-5 label.sk-toggleable__label-arrow:before {content: \"▸\";float: left;margin-right: 0.25em;color: #696969;}#sk-container-id-5 label.sk-toggleable__label-arrow:hover:before {color: black;}#sk-container-id-5 div.sk-estimator:hover label.sk-toggleable__label-arrow:before {color: black;}#sk-container-id-5 div.sk-toggleable__content {max-height: 0;max-width: 0;overflow: hidden;text-align: left;background-color: #f0f8ff;}#sk-container-id-5 div.sk-toggleable__content pre {margin: 0.2em;color: black;border-radius: 0.25em;background-color: #f0f8ff;}#sk-container-id-5 input.sk-toggleable__control:checked~div.sk-toggleable__content {max-height: 200px;max-width: 100%;overflow: auto;}#sk-container-id-5 input.sk-toggleable__control:checked~label.sk-toggleable__label-arrow:before {content: \"▾\";}#sk-container-id-5 div.sk-estimator input.sk-toggleable__control:checked~label.sk-toggleable__label {background-color: #d4ebff;}#sk-container-id-5 div.sk-label input.sk-toggleable__control:checked~label.sk-toggleable__label {background-color: #d4ebff;}#sk-container-id-5 input.sk-hidden--visually {border: 0;clip: rect(1px 1px 1px 1px);clip: rect(1px, 1px, 1px, 1px);height: 1px;margin: -1px;overflow: hidden;padding: 0;position: absolute;width: 1px;}#sk-container-id-5 div.sk-estimator {font-family: monospace;background-color: #f0f8ff;border: 1px dotted black;border-radius: 0.25em;box-sizing: border-box;margin-bottom: 0.5em;}#sk-container-id-5 div.sk-estimator:hover {background-color: #d4ebff;}#sk-container-id-5 div.sk-parallel-item::after {content: \"\";width: 100%;border-bottom: 1px solid gray;flex-grow: 1;}#sk-container-id-5 div.sk-label:hover label.sk-toggleable__label {background-color: #d4ebff;}#sk-container-id-5 div.sk-serial::before {content: \"\";position: absolute;border-left: 1px solid gray;box-sizing: border-box;top: 0;bottom: 0;left: 50%;z-index: 0;}#sk-container-id-5 div.sk-serial {display: flex;flex-direction: column;align-items: center;background-color: white;padding-right: 0.2em;padding-left: 0.2em;position: relative;}#sk-container-id-5 div.sk-item {position: relative;z-index: 1;}#sk-container-id-5 div.sk-parallel {display: flex;align-items: stretch;justify-content: center;background-color: white;position: relative;}#sk-container-id-5 div.sk-item::before, #sk-container-id-5 div.sk-parallel-item::before {content: \"\";position: absolute;border-left: 1px solid gray;box-sizing: border-box;top: 0;bottom: 0;left: 50%;z-index: -1;}#sk-container-id-5 div.sk-parallel-item {display: flex;flex-direction: column;z-index: 1;position: relative;background-color: white;}#sk-container-id-5 div.sk-parallel-item:first-child::after {align-self: flex-end;width: 50%;}#sk-container-id-5 div.sk-parallel-item:last-child::after {align-self: flex-start;width: 50%;}#sk-container-id-5 div.sk-parallel-item:only-child::after {width: 0;}#sk-container-id-5 div.sk-dashed-wrapped {border: 1px dashed gray;margin: 0 0.4em 0.5em 0.4em;box-sizing: border-box;padding-bottom: 0.4em;background-color: white;}#sk-container-id-5 div.sk-label label {font-family: monospace;font-weight: bold;display: inline-block;line-height: 1.2em;}#sk-container-id-5 div.sk-label-container {text-align: center;}#sk-container-id-5 div.sk-container {/* jupyter's `normalize.less` sets `[hidden] { display: none; }` but bootstrap.min.css set `[hidden] { display: none !important; }` so we also need the `!important` here to be able to override the default hidden behavior on the sphinx rendered scikit-learn.org. See: https://github.com/scikit-learn/scikit-learn/issues/21755 */display: inline-block !important;position: relative;}#sk-container-id-5 div.sk-text-repr-fallback {display: none;}</style><div id=\"sk-container-id-5\" class=\"sk-top-container\"><div class=\"sk-text-repr-fallback\"><pre>MultinomialNB()</pre><b>In a Jupyter environment, please rerun this cell to show the HTML representation or trust the notebook. <br />On GitHub, the HTML representation is unable to render, please try loading this page with nbviewer.org.</b></div><div class=\"sk-container\" hidden><div class=\"sk-item\"><div class=\"sk-estimator sk-toggleable\"><input class=\"sk-toggleable__control sk-hidden--visually\" id=\"sk-estimator-id-5\" type=\"checkbox\" checked><label for=\"sk-estimator-id-5\" class=\"sk-toggleable__label sk-toggleable__label-arrow\">MultinomialNB</label><div class=\"sk-toggleable__content\"><pre>MultinomialNB()</pre></div></div></div></div></div>"
      ],
      "text/plain": [
       "MultinomialNB()"
      ]
     },
     "execution_count": 264,
     "metadata": {},
     "output_type": "execute_result"
    }
   ],
   "source": [
    "classifier = MultinomialNB()\n",
    "classifier.fit(X_train_tfidf, y_train)"
   ]
  },
  {
   "cell_type": "markdown",
   "id": "d8eb48fa",
   "metadata": {},
   "source": [
    "### Make predictions & Model Evaluation"
   ]
  },
  {
   "cell_type": "code",
   "execution_count": 265,
   "id": "7498d69d",
   "metadata": {},
   "outputs": [],
   "source": [
    "y_pred = classifier.predict(X_test_tfidf)"
   ]
  },
  {
   "cell_type": "code",
   "execution_count": 266,
   "id": "44e8e71f",
   "metadata": {},
   "outputs": [
    {
     "name": "stdout",
     "output_type": "stream",
     "text": [
      "Accuracy: 0.77\n",
      "Classification Report:\n",
      "              precision    recall  f1-score   support\n",
      "\n",
      "     clients       0.89      0.80      0.84        20\n",
      "  industries       0.78      0.70      0.74        20\n",
      "    overview       1.00      0.60      0.75         5\n",
      "  tech_stack       0.64      0.84      0.73        19\n",
      "\n",
      "    accuracy                           0.77        64\n",
      "   macro avg       0.83      0.74      0.76        64\n",
      "weighted avg       0.79      0.77      0.77        64\n",
      "\n"
     ]
    }
   ],
   "source": [
    "accuracy = accuracy_score(y_test, y_pred)\n",
    "report = classification_report(y_test, y_pred)\n",
    "\n",
    "print(f'Accuracy: {accuracy:.2f}')\n",
    "print('Classification Report:')\n",
    "print(report)"
   ]
  },
  {
   "cell_type": "code",
   "execution_count": 965,
   "id": "9f978f43",
   "metadata": {},
   "outputs": [],
   "source": [
    "sample_data = ['Hospitality']\n",
    "    \n",
    "sample_data_prediction = classifier.predict(vectorizer.transform(sample_data))"
   ]
  },
  {
   "cell_type": "code",
   "execution_count": 966,
   "id": "433fa42b",
   "metadata": {},
   "outputs": [
    {
     "name": "stdout",
     "output_type": "stream",
     "text": [
      "Text: Hospitality\n",
      "Predicted Label: industries\n",
      "\n"
     ]
    }
   ],
   "source": [
    "for text, predicted_label in zip([sample_data], sample_data_prediction):\n",
    "    print(\"Text: \" + str(text[0]))\n",
    "    print(\"Predicted Label: \" +str(predicted_label))\n",
    "    print()"
   ]
  },
  {
   "cell_type": "code",
   "execution_count": 597,
   "id": "d4ca57a3",
   "metadata": {},
   "outputs": [],
   "source": [
    "def sub_sections_classifier(elements):\n",
    "    '''\n",
    "Main function for predicting slides elements\n",
    "    '''\n",
    "    vectorized_elements = []\n",
    "    for elem in elements:\n",
    "        vectorized_elements.append(elem.lower().rstrip())\n",
    "    vectorized_elements = vectorizer.transform(elements)\n",
    "    return classifier.predict(vectorized_elements)"
   ]
  },
  {
   "cell_type": "code",
   "execution_count": 596,
   "id": "5860554d",
   "metadata": {},
   "outputs": [],
   "source": [
    "def sub_sections_evaluater(sub_section):\n",
    "    '''\n",
    "Function to evaluate what is the category of a slide subsection\n",
    "    '''\n",
    "    labels = sub_sections_classifier(sub_section)\n",
    "    return np.unique(labels)[0]\n",
    "    "
   ]
  },
  {
   "cell_type": "code",
   "execution_count": 760,
   "id": "42a72ea4",
   "metadata": {},
   "outputs": [],
   "source": [
    "def overview_evaluater(element):\n",
    "    words = [elem.split(' ') for elem in element]\n",
    "    if len(words) < 2:\n",
    "        words = [x for x in words.copy()[0]]\n",
    "    if len(words) > 8:\n",
    "        overview_bag_of_words = ['joined','yrs','years','experience','experienced', 'passionate', 'background', 'OVERVIEW\\n']\n",
    "        return True in [word in overview_bag_of_words for word in words]\n",
    "    else:\n",
    "        return False"
   ]
  },
  {
   "cell_type": "code",
   "execution_count": 767,
   "id": "a49e8f67",
   "metadata": {},
   "outputs": [
    {
     "name": "stdout",
     "output_type": "stream",
     "text": [
      "False\n",
      "\n",
      "overview\n",
      "\n",
      "{'overview': 'Caio joined AND Digital in 2022 as a Product Developer with strong skills in Backend (NodeJS) and commercial experience with  database and BI technologies.'}\n"
     ]
    }
   ],
   "source": [
    "# print(bio_objects['61'])\n",
    "# print(overview_evaluater(bio_objects['18']['1']))\n",
    "print(overview_evaluater(bio_objects['61']['7']))\n",
    "print()\n",
    "print(sub_sections_evaluater(bio_objects['61']['7']))\n",
    "print()\n",
    "print(element_evaluater(bio_objects['61']['7']))\n",
    "# for i in bio_objects['66']:\n",
    "#     print(bio_objects['66'][i])\n",
    "#     print(element_evaluater(bio_objects['66'][i]))\n",
    "#     print()\n",
    "# print(\"\".join(bio_objects['66']['11']).rstrip())"
   ]
  },
  {
   "cell_type": "code",
   "execution_count": 742,
   "id": "b86ef91c",
   "metadata": {},
   "outputs": [],
   "source": [
    "def element_evaluater(element):\n",
    "    if name_identifier(element) not in [False, None, '-', '']:\n",
    "        return {\"name\": name_identifier(element)}\n",
    "    elif and_title_identifier(element) not in [False, None, '-', '']:\n",
    "        return {\"and_title\": and_title_identifier(element)}\n",
    "    elif sub_sections_evaluater(element) == 'overview' or overview_evaluater(element):\n",
    "        if 'OVERVIEW\\n' in element or 'OVERVIEW' in element:\n",
    "            try:\n",
    "                element.remove('OVERVIEW')\n",
    "                element.remove('OVERVIEW\\n')\n",
    "                element.remove('\\n')\n",
    "            except:\n",
    "                return {\"overview\": \"\".join(element).rstrip()}                    \n",
    "            return {\"overview\": \"\".join(element).rstrip()}\n",
    "        else:\n",
    "            return {\"overview\": \"\".join(element).rstrip()}\n",
    "    elif experiences_identifier(element) not in [False, None, '-', '']:\n",
    "        return {\"experience\": experiences_identifier(element)}\n",
    "    else:\n",
    "            return"
   ]
  },
  {
   "cell_type": "markdown",
   "id": "1beb6030",
   "metadata": {},
   "source": [
    "## Data Processor"
   ]
  },
  {
   "cell_type": "code",
   "execution_count": 743,
   "id": "69923717",
   "metadata": {},
   "outputs": [],
   "source": [
    "bio_objects = {}\n",
    "slides_parser(slides)\n",
    "remove_non_bio_slides()"
   ]
  },
  {
   "cell_type": "code",
   "execution_count": 776,
   "id": "d94bb407",
   "metadata": {},
   "outputs": [],
   "source": [
    "def slides_processor(slides):\n",
    "    processed_slides = []\n",
    "    for slide in slides:\n",
    "        temp_id = str(uuid4())\n",
    "        name = ''\n",
    "        and_title = ''\n",
    "        experiences = []\n",
    "        overview = ''\n",
    "\n",
    "        for element in slides[slide]:\n",
    "            classified_element =  element_evaluater(slides[slide][element])\n",
    "            if classified_element == None:\n",
    "                continue\n",
    "            elif 'name' in classified_element.keys() and name == '':\n",
    "                name = classified_element['name']\n",
    "            elif 'and_title' in classified_element.keys() and and_title == '':\n",
    "                and_title = classified_element['and_title']\n",
    "            elif 'overview' in classified_element.keys() and overview == '':\n",
    "                overview = classified_element['overview']\n",
    "            elif 'experience' in classified_element.keys():\n",
    "                experiences.append(classified_element['experience'])            \n",
    "            else:\n",
    "                continue          \n",
    "        \n",
    "        processed_slides.append({\n",
    "            \"slide_no\": str(slide),\n",
    "            \"key\": 'BIO#'+ str(uuid4()),\n",
    "            \"name\": name,\n",
    "            \"firstName\": name.split(' ')[0],\n",
    "            \"lastName\": name.split(' ')[-1],\n",
    "            \"andTitle\": and_title,\n",
    "            \"experiences\": experiences,\n",
    "            \"overview\": overview\n",
    "        })\n",
    "    return processed_slides\n",
    "    "
   ]
  },
  {
   "cell_type": "code",
   "execution_count": null,
   "id": "5261bbbb",
   "metadata": {},
   "outputs": [],
   "source": []
  },
  {
   "cell_type": "code",
   "execution_count": null,
   "id": "8e8dfb1b",
   "metadata": {},
   "outputs": [],
   "source": []
  },
  {
   "cell_type": "code",
   "execution_count": 974,
   "id": "248ce999",
   "metadata": {},
   "outputs": [
    {
     "name": "stdout",
     "output_type": "stream",
     "text": [
      "['AWS Certified developer with professional experience with serverless computing. Worked in Travel and Tourism industry']\n"
     ]
    }
   ],
   "source": [
    "df = pd.DataFrame(slides_processor(bio_objects))\n",
    "# df.iloc[25:55]\n",
    "# df.head(25)\n",
    "# df.tail(25)\n",
    "# print(list(df[df['firstName'] == 'Musab']['overview']))\n",
    "# df[df['overview'] == '']"
   ]
  },
  {
   "cell_type": "code",
   "execution_count": 938,
   "id": "c225e29f",
   "metadata": {},
   "outputs": [
    {
     "data": {
      "text/html": [
       "<div>\n",
       "<style scoped>\n",
       "    .dataframe tbody tr th:only-of-type {\n",
       "        vertical-align: middle;\n",
       "    }\n",
       "\n",
       "    .dataframe tbody tr th {\n",
       "        vertical-align: top;\n",
       "    }\n",
       "\n",
       "    .dataframe thead th {\n",
       "        text-align: right;\n",
       "    }\n",
       "</style>\n",
       "<table border=\"1\" class=\"dataframe\">\n",
       "  <thead>\n",
       "    <tr style=\"text-align: right;\">\n",
       "      <th></th>\n",
       "      <th>slide_no</th>\n",
       "      <th>key</th>\n",
       "      <th>name</th>\n",
       "      <th>firstName</th>\n",
       "      <th>lastName</th>\n",
       "      <th>andTitle</th>\n",
       "      <th>experiences</th>\n",
       "      <th>overview</th>\n",
       "    </tr>\n",
       "  </thead>\n",
       "  <tbody>\n",
       "    <tr>\n",
       "      <th>0</th>\n",
       "      <td>4</td>\n",
       "      <td>BIO#c09e0905-483d-4831-934a-072671da1ee7</td>\n",
       "      <td>Alex Minssieux</td>\n",
       "      <td>Alex</td>\n",
       "      <td>Minssieux</td>\n",
       "      <td>AND Board Game Geek</td>\n",
       "      <td>[{'role': 'Agile Coach and Scrum Master', 'org...</td>\n",
       "      <td>Technical delivery lead and Agile coach with o...</td>\n",
       "    </tr>\n",
       "    <tr>\n",
       "      <th>1</th>\n",
       "      <td>5</td>\n",
       "      <td>BIO#980f6744-18df-42b7-9257-be1c5a80ebc0</td>\n",
       "      <td>Alex Minssieux</td>\n",
       "      <td>Alex</td>\n",
       "      <td>Minssieux</td>\n",
       "      <td>AND Board Game Geek</td>\n",
       "      <td>[{'role': 'Agile Coach and Scrum Master', 'org...</td>\n",
       "      <td>Technical delivery lead and Agile coach with o...</td>\n",
       "    </tr>\n",
       "    <tr>\n",
       "      <th>2</th>\n",
       "      <td>6</td>\n",
       "      <td>BIO#9858b224-c07a-43c7-835d-98da69733140</td>\n",
       "      <td>Ayodele Alakija</td>\n",
       "      <td>Ayodele</td>\n",
       "      <td>Alakija</td>\n",
       "      <td>AND Adventure Animal</td>\n",
       "      <td>[{'role': 'Frontend Developer', 'organisation'...</td>\n",
       "      <td>Ayodele joined AND Digital as a frontend devel...</td>\n",
       "    </tr>\n",
       "    <tr>\n",
       "      <th>3</th>\n",
       "      <td>7</td>\n",
       "      <td>BIO#d127fbfc-4ffc-4e12-9080-c0a6e54bacbd</td>\n",
       "      <td>Barney Loosemore</td>\n",
       "      <td>Barney</td>\n",
       "      <td>Loosemore</td>\n",
       "      <td>AND Avid Climber</td>\n",
       "      <td>[{'role': 'Software Developer', 'organisation'...</td>\n",
       "      <td>Barney joined AND Digital in 2022 bringing in ...</td>\n",
       "    </tr>\n",
       "    <tr>\n",
       "      <th>4</th>\n",
       "      <td>8</td>\n",
       "      <td>BIO#5bd999d2-f276-4b94-9656-aa53a103f805</td>\n",
       "      <td>Hailey Pun</td>\n",
       "      <td>Hailey</td>\n",
       "      <td>Pun</td>\n",
       "      <td>AND Film Aficionado</td>\n",
       "      <td>[{'role': 'Frontend Team Lead', 'organisation'...</td>\n",
       "      <td>With over 3 years of development experience, H...</td>\n",
       "    </tr>\n",
       "    <tr>\n",
       "      <th>5</th>\n",
       "      <td>9</td>\n",
       "      <td>BIO#9094be11-cb59-442b-a2b9-5c5b4fd2548a</td>\n",
       "      <td>Peter Holdsworth</td>\n",
       "      <td>Peter</td>\n",
       "      <td>Holdsworth</td>\n",
       "      <td>AND Maths Geek</td>\n",
       "      <td>[{'role': 'Senior Product Developer', 'organis...</td>\n",
       "      <td>Peter is a senior product developer with over ...</td>\n",
       "    </tr>\n",
       "    <tr>\n",
       "      <th>6</th>\n",
       "      <td>11</td>\n",
       "      <td>BIO#df623465-4d93-4431-8bab-37eccc0f56f9</td>\n",
       "      <td>Tony Young</td>\n",
       "      <td>Tony</td>\n",
       "      <td>Young</td>\n",
       "      <td>AND Viking</td>\n",
       "      <td>[{'role': 'Infrastructure &amp; Backend Developer'...</td>\n",
       "      <td>Tony is a passionate DevOps Engineer, dedicate...</td>\n",
       "    </tr>\n",
       "    <tr>\n",
       "      <th>7</th>\n",
       "      <td>13</td>\n",
       "      <td>BIO#673ac1b4-9dd8-40e8-836a-4b29bfd24a71</td>\n",
       "      <td>Jakob Ritt</td>\n",
       "      <td>Jakob</td>\n",
       "      <td>Ritt</td>\n",
       "      <td>AND Doodler</td>\n",
       "      <td>[{'role': 'Experience Designer', 'organisation...</td>\n",
       "      <td>-\\nOVERVIEW\\n\\nSystematic design thinker and c...</td>\n",
       "    </tr>\n",
       "    <tr>\n",
       "      <th>8</th>\n",
       "      <td>14</td>\n",
       "      <td>BIO#b4c387f0-7f15-460e-8029-30f0077be336</td>\n",
       "      <td>Christine Efedua</td>\n",
       "      <td>Christine</td>\n",
       "      <td>Efedua</td>\n",
       "      <td></td>\n",
       "      <td>[{'role': 'AWS Cloud Practitioner', 'organisat...</td>\n",
       "      <td>Christine joined AND in 2021 as an Associate C...</td>\n",
       "    </tr>\n",
       "    <tr>\n",
       "      <th>9</th>\n",
       "      <td>15</td>\n",
       "      <td>BIO#9ebf17e0-fbb7-44bd-943b-430f8d938b02</td>\n",
       "      <td>Jamie Greenwood</td>\n",
       "      <td>Jamie</td>\n",
       "      <td>Greenwood</td>\n",
       "      <td>AND Golf Nut</td>\n",
       "      <td>[{'role': 'Senior UI Designer', 'organisation'...</td>\n",
       "      <td>6+ years experience as a Digital Designer with...</td>\n",
       "    </tr>\n",
       "    <tr>\n",
       "      <th>10</th>\n",
       "      <td>16</td>\n",
       "      <td>BIO#8b71ae95-eb70-4fe8-a953-d36ed4f6f80a</td>\n",
       "      <td>Anshu Parihar</td>\n",
       "      <td>Anshu</td>\n",
       "      <td>Parihar</td>\n",
       "      <td>AND Fitness Enthusiast</td>\n",
       "      <td>[{'role': 'Product Analyst', 'organisation': '...</td>\n",
       "      <td>Anshu is a product owner having 10+ years IT i...</td>\n",
       "    </tr>\n",
       "    <tr>\n",
       "      <th>11</th>\n",
       "      <td>17</td>\n",
       "      <td>BIO#8da9c8dd-3cca-4f85-aed2-be7d1639e949</td>\n",
       "      <td>Vipin Thankachan</td>\n",
       "      <td>Vipin</td>\n",
       "      <td>Thankachan</td>\n",
       "      <td>AND Car Fanatic</td>\n",
       "      <td>[{'role': 'Co-Founder &amp; Product Manager', 'org...</td>\n",
       "      <td>Product Manager\\nAzentio Software \\n\\nVipin wa...</td>\n",
       "    </tr>\n",
       "    <tr>\n",
       "      <th>12</th>\n",
       "      <td>18</td>\n",
       "      <td>BIO#fe8f4674-27cf-4f69-9d7e-22f12227ca6b</td>\n",
       "      <td>Musab Adam</td>\n",
       "      <td>Musab</td>\n",
       "      <td>Adam</td>\n",
       "      <td>AND Baklava Maker</td>\n",
       "      <td>[{'role': 'Developer', 'organisation': 'TUI (w...</td>\n",
       "      <td>AWS Certified developer with professional expe...</td>\n",
       "    </tr>\n",
       "    <tr>\n",
       "      <th>13</th>\n",
       "      <td>19</td>\n",
       "      <td>BIO#f8a8b6d5-a397-476d-8709-58902805ffc2</td>\n",
       "      <td>Alisha Bourne</td>\n",
       "      <td>Alisha</td>\n",
       "      <td>Bourne</td>\n",
       "      <td>AND Travel Enthusiast</td>\n",
       "      <td>[{'role': 'Junior Product Designer', 'organisa...</td>\n",
       "      <td>Alisha joined AND Digital in 2022 and has over...</td>\n",
       "    </tr>\n",
       "    <tr>\n",
       "      <th>14</th>\n",
       "      <td>20</td>\n",
       "      <td>BIO#740b76df-e774-47b6-97ac-ea08fc7b3124</td>\n",
       "      <td>Nitish Sharma</td>\n",
       "      <td>Nitish</td>\n",
       "      <td>Sharma</td>\n",
       "      <td>AND Gamer</td>\n",
       "      <td>[{'role': 'Product Manager', 'organisation': '...</td>\n",
       "      <td>Head of Product \\nGreen Man Gaming\\n\\nNitish m...</td>\n",
       "    </tr>\n",
       "    <tr>\n",
       "      <th>15</th>\n",
       "      <td>22</td>\n",
       "      <td>BIO#dd428de4-4740-4d9e-b9cb-fb0e3bbf38c6</td>\n",
       "      <td>Andrina Ballantyne</td>\n",
       "      <td>Andrina</td>\n",
       "      <td>Ballantyne</td>\n",
       "      <td>AND</td>\n",
       "      <td>[{'role': 'Product &amp; Data Proposition', 'organ...</td>\n",
       "      <td>Experienced in Proposition, strategy and leade...</td>\n",
       "    </tr>\n",
       "    <tr>\n",
       "      <th>16</th>\n",
       "      <td>23</td>\n",
       "      <td>BIO#8c254abb-d67d-4cbc-9490-e62b26dc7d7d</td>\n",
       "      <td>Ildiko Eva Toth</td>\n",
       "      <td>Ildiko</td>\n",
       "      <td>Toth</td>\n",
       "      <td>AND Problem Solver</td>\n",
       "      <td>[{'role': 'Full stack developer', 'organisatio...</td>\n",
       "      <td>Ildiko is a skilled full-stack developer, usin...</td>\n",
       "    </tr>\n",
       "    <tr>\n",
       "      <th>17</th>\n",
       "      <td>24</td>\n",
       "      <td>BIO#4c9dba98-b2da-490f-a249-bc84aa32f926</td>\n",
       "      <td>Kai Roper-Blackman</td>\n",
       "      <td>Kai</td>\n",
       "      <td>Roper-Blackman</td>\n",
       "      <td>AND Rugby Player</td>\n",
       "      <td>[{'role': 'Full stack developer', 'organisatio...</td>\n",
       "      <td>Kai is a highly motivated full stack developer...</td>\n",
       "    </tr>\n",
       "    <tr>\n",
       "      <th>18</th>\n",
       "      <td>25</td>\n",
       "      <td>BIO#7b128b34-059b-426e-a6c0-b8d709c34ec7</td>\n",
       "      <td>Ryan Wiseman</td>\n",
       "      <td>Ryan</td>\n",
       "      <td>Wiseman</td>\n",
       "      <td>AND Chief Sneaker Officer</td>\n",
       "      <td>[{'role': 'Experience Design Lead', 'organisat...</td>\n",
       "      <td>Ryan joined AND Digital in 2021, and has over ...</td>\n",
       "    </tr>\n",
       "    <tr>\n",
       "      <th>19</th>\n",
       "      <td>26</td>\n",
       "      <td>BIO#4cb0c499-75d2-4745-96d1-9e2f352cbb0d</td>\n",
       "      <td>Dan Moe</td>\n",
       "      <td>Dan</td>\n",
       "      <td>Moe</td>\n",
       "      <td>AND String Plucker</td>\n",
       "      <td>[{'role': 'Software Engineer', 'organisation':...</td>\n",
       "      <td>Dan joined AND Digital in 2021, bringing with ...</td>\n",
       "    </tr>\n",
       "    <tr>\n",
       "      <th>20</th>\n",
       "      <td>27</td>\n",
       "      <td>BIO#f01377fc-3b6c-47b7-8cb0-c70987b3178e</td>\n",
       "      <td>Dan Moe</td>\n",
       "      <td>Dan</td>\n",
       "      <td>Moe</td>\n",
       "      <td>AND String Plucker</td>\n",
       "      <td>[{'role': 'Software Engineer', 'organisation':...</td>\n",
       "      <td>Dan joined AND Digital in 2021, bringing with ...</td>\n",
       "    </tr>\n",
       "    <tr>\n",
       "      <th>21</th>\n",
       "      <td>28</td>\n",
       "      <td>BIO#50a8300a-edde-45d4-9070-ebe6b64e24f0</td>\n",
       "      <td>Jessica Bird</td>\n",
       "      <td>Jessica</td>\n",
       "      <td>Bird</td>\n",
       "      <td>AND Couch Detective</td>\n",
       "      <td>[{'role': 'UX Designer', 'organisation': 'Robe...</td>\n",
       "      <td>MSc Design Innovation Management\\nLoughborough...</td>\n",
       "    </tr>\n",
       "    <tr>\n",
       "      <th>22</th>\n",
       "      <td>29</td>\n",
       "      <td>BIO#c8ce794e-24cc-4acc-b89f-80e078c6c54a</td>\n",
       "      <td>Julia Stepanova</td>\n",
       "      <td>Julia</td>\n",
       "      <td>Stepanova</td>\n",
       "      <td>AND Sudoku Solver</td>\n",
       "      <td>[{'role': 'Software Developer', 'organisation'...</td>\n",
       "      <td>Julia joined AND Digital in 2022 as a Product ...</td>\n",
       "    </tr>\n",
       "    <tr>\n",
       "      <th>23</th>\n",
       "      <td>30</td>\n",
       "      <td>BIO#b6d0f7f1-2bdc-4b15-8712-39a3bebd0d17</td>\n",
       "      <td>Ollie Cole</td>\n",
       "      <td>Ollie</td>\n",
       "      <td>Cole</td>\n",
       "      <td>AND Dog Whisperer</td>\n",
       "      <td>[{'role': 'Senior Software Engineer', 'organis...</td>\n",
       "      <td>Ollie joined AND Digital in January 2022, brin...</td>\n",
       "    </tr>\n",
       "    <tr>\n",
       "      <th>24</th>\n",
       "      <td>32</td>\n",
       "      <td>BIO#dc3a8c54-79ac-421c-9d1f-e164ac1b64c2</td>\n",
       "      <td>Rafael G. Traverso</td>\n",
       "      <td>Rafael</td>\n",
       "      <td>Traverso</td>\n",
       "      <td>AND Problem Solver</td>\n",
       "      <td>[{'role': 'Mobile Developer', 'organisation': ...</td>\n",
       "      <td>Rafael joined AND Digital in 2021, bringing wi...</td>\n",
       "    </tr>\n",
       "    <tr>\n",
       "      <th>25</th>\n",
       "      <td>33</td>\n",
       "      <td>BIO#cb495827-0aa9-45af-b852-48d4b643904f</td>\n",
       "      <td>Raihan Ahmed</td>\n",
       "      <td>Raihan</td>\n",
       "      <td>Ahmed</td>\n",
       "      <td>AND Cricket Aficionado</td>\n",
       "      <td>[{'role': 'Associate Product Manager', 'organi...</td>\n",
       "      <td>Raihan joined AND Digital in May 2022, bringin...</td>\n",
       "    </tr>\n",
       "    <tr>\n",
       "      <th>26</th>\n",
       "      <td>34</td>\n",
       "      <td>BIO#a3efd1d5-f9cb-455d-aadd-af1e48b8609b</td>\n",
       "      <td>Suellen Moorhead</td>\n",
       "      <td>Suellen</td>\n",
       "      <td>Moorhead</td>\n",
       "      <td>AND Foodie</td>\n",
       "      <td>[{'role': 'Implementation Consultant', 'organi...</td>\n",
       "      <td>Suellen joined AND Digital September 2022, bri...</td>\n",
       "    </tr>\n",
       "    <tr>\n",
       "      <th>27</th>\n",
       "      <td>35</td>\n",
       "      <td>BIO#334d05a1-3ef8-40dc-8773-d10b5b8197aa</td>\n",
       "      <td>Tawfiq Hamid</td>\n",
       "      <td>Tawfiq</td>\n",
       "      <td>Hamid</td>\n",
       "      <td>AND Spirituality Writer</td>\n",
       "      <td>[{'role': 'Technical Product Manager', 'organi...</td>\n",
       "      <td>A former senior full-stack developer with a Co...</td>\n",
       "    </tr>\n",
       "    <tr>\n",
       "      <th>28</th>\n",
       "      <td>36</td>\n",
       "      <td>BIO#8d978dcf-87d7-415b-8eb0-f57fe6a63756</td>\n",
       "      <td>Tawfiq Hamid</td>\n",
       "      <td>Tawfiq</td>\n",
       "      <td>Hamid</td>\n",
       "      <td>AND Spirituality Writer</td>\n",
       "      <td>[{'role': 'Product Owner', 'organisation': 'Op...</td>\n",
       "      <td>Tawfiq is an experienced Product Owner, naviga...</td>\n",
       "    </tr>\n",
       "    <tr>\n",
       "      <th>29</th>\n",
       "      <td>37</td>\n",
       "      <td>BIO#6c746b52-60e8-4bc6-a420-936a52661c74</td>\n",
       "      <td>Anastasia Hadden</td>\n",
       "      <td>Anastasia</td>\n",
       "      <td>Hadden</td>\n",
       "      <td>AND Après ski aficionado</td>\n",
       "      <td>[{'role': 'Product Manager', 'organisation': '...</td>\n",
       "      <td>Product Manager\\nCircle DNA\\n\\nAnastasia was P...</td>\n",
       "    </tr>\n",
       "  </tbody>\n",
       "</table>\n",
       "</div>"
      ],
      "text/plain": [
       "   slide_no                                       key                name  \\\n",
       "0         4  BIO#c09e0905-483d-4831-934a-072671da1ee7      Alex Minssieux   \n",
       "1         5  BIO#980f6744-18df-42b7-9257-be1c5a80ebc0      Alex Minssieux   \n",
       "2         6  BIO#9858b224-c07a-43c7-835d-98da69733140     Ayodele Alakija   \n",
       "3         7  BIO#d127fbfc-4ffc-4e12-9080-c0a6e54bacbd    Barney Loosemore   \n",
       "4         8  BIO#5bd999d2-f276-4b94-9656-aa53a103f805          Hailey Pun   \n",
       "5         9  BIO#9094be11-cb59-442b-a2b9-5c5b4fd2548a    Peter Holdsworth   \n",
       "6        11  BIO#df623465-4d93-4431-8bab-37eccc0f56f9          Tony Young   \n",
       "7        13  BIO#673ac1b4-9dd8-40e8-836a-4b29bfd24a71          Jakob Ritt   \n",
       "8        14  BIO#b4c387f0-7f15-460e-8029-30f0077be336    Christine Efedua   \n",
       "9        15  BIO#9ebf17e0-fbb7-44bd-943b-430f8d938b02     Jamie Greenwood   \n",
       "10       16  BIO#8b71ae95-eb70-4fe8-a953-d36ed4f6f80a       Anshu Parihar   \n",
       "11       17  BIO#8da9c8dd-3cca-4f85-aed2-be7d1639e949    Vipin Thankachan   \n",
       "12       18  BIO#fe8f4674-27cf-4f69-9d7e-22f12227ca6b          Musab Adam   \n",
       "13       19  BIO#f8a8b6d5-a397-476d-8709-58902805ffc2       Alisha Bourne   \n",
       "14       20  BIO#740b76df-e774-47b6-97ac-ea08fc7b3124       Nitish Sharma   \n",
       "15       22  BIO#dd428de4-4740-4d9e-b9cb-fb0e3bbf38c6  Andrina Ballantyne   \n",
       "16       23  BIO#8c254abb-d67d-4cbc-9490-e62b26dc7d7d     Ildiko Eva Toth   \n",
       "17       24  BIO#4c9dba98-b2da-490f-a249-bc84aa32f926  Kai Roper-Blackman   \n",
       "18       25  BIO#7b128b34-059b-426e-a6c0-b8d709c34ec7        Ryan Wiseman   \n",
       "19       26  BIO#4cb0c499-75d2-4745-96d1-9e2f352cbb0d             Dan Moe   \n",
       "20       27  BIO#f01377fc-3b6c-47b7-8cb0-c70987b3178e             Dan Moe   \n",
       "21       28  BIO#50a8300a-edde-45d4-9070-ebe6b64e24f0        Jessica Bird   \n",
       "22       29  BIO#c8ce794e-24cc-4acc-b89f-80e078c6c54a     Julia Stepanova   \n",
       "23       30  BIO#b6d0f7f1-2bdc-4b15-8712-39a3bebd0d17          Ollie Cole   \n",
       "24       32  BIO#dc3a8c54-79ac-421c-9d1f-e164ac1b64c2  Rafael G. Traverso   \n",
       "25       33  BIO#cb495827-0aa9-45af-b852-48d4b643904f        Raihan Ahmed   \n",
       "26       34  BIO#a3efd1d5-f9cb-455d-aadd-af1e48b8609b    Suellen Moorhead   \n",
       "27       35  BIO#334d05a1-3ef8-40dc-8773-d10b5b8197aa        Tawfiq Hamid   \n",
       "28       36  BIO#8d978dcf-87d7-415b-8eb0-f57fe6a63756        Tawfiq Hamid   \n",
       "29       37  BIO#6c746b52-60e8-4bc6-a420-936a52661c74    Anastasia Hadden   \n",
       "\n",
       "    firstName        lastName                   andTitle  \\\n",
       "0        Alex       Minssieux        AND Board Game Geek   \n",
       "1        Alex       Minssieux        AND Board Game Geek   \n",
       "2     Ayodele         Alakija       AND Adventure Animal   \n",
       "3      Barney       Loosemore           AND Avid Climber   \n",
       "4      Hailey             Pun        AND Film Aficionado   \n",
       "5       Peter      Holdsworth             AND Maths Geek   \n",
       "6        Tony           Young                 AND Viking   \n",
       "7       Jakob            Ritt                AND Doodler   \n",
       "8   Christine          Efedua                              \n",
       "9       Jamie       Greenwood               AND Golf Nut   \n",
       "10      Anshu         Parihar    AND Fitness Enthusiast    \n",
       "11      Vipin      Thankachan            AND Car Fanatic   \n",
       "12      Musab            Adam          AND Baklava Maker   \n",
       "13     Alisha          Bourne      AND Travel Enthusiast   \n",
       "14     Nitish          Sharma                  AND Gamer   \n",
       "15    Andrina      Ballantyne                        AND   \n",
       "16     Ildiko            Toth         AND Problem Solver   \n",
       "17        Kai  Roper-Blackman           AND Rugby Player   \n",
       "18       Ryan         Wiseman  AND Chief Sneaker Officer   \n",
       "19        Dan             Moe         AND String Plucker   \n",
       "20        Dan             Moe         AND String Plucker   \n",
       "21    Jessica            Bird        AND Couch Detective   \n",
       "22      Julia       Stepanova          AND Sudoku Solver   \n",
       "23      Ollie            Cole          AND Dog Whisperer   \n",
       "24     Rafael        Traverso         AND Problem Solver   \n",
       "25     Raihan           Ahmed     AND Cricket Aficionado   \n",
       "26    Suellen        Moorhead                 AND Foodie   \n",
       "27     Tawfiq           Hamid    AND Spirituality Writer   \n",
       "28     Tawfiq           Hamid    AND Spirituality Writer   \n",
       "29  Anastasia          Hadden   AND Après ski aficionado   \n",
       "\n",
       "                                          experiences  \\\n",
       "0   [{'role': 'Agile Coach and Scrum Master', 'org...   \n",
       "1   [{'role': 'Agile Coach and Scrum Master', 'org...   \n",
       "2   [{'role': 'Frontend Developer', 'organisation'...   \n",
       "3   [{'role': 'Software Developer', 'organisation'...   \n",
       "4   [{'role': 'Frontend Team Lead', 'organisation'...   \n",
       "5   [{'role': 'Senior Product Developer', 'organis...   \n",
       "6   [{'role': 'Infrastructure & Backend Developer'...   \n",
       "7   [{'role': 'Experience Designer', 'organisation...   \n",
       "8   [{'role': 'AWS Cloud Practitioner', 'organisat...   \n",
       "9   [{'role': 'Senior UI Designer', 'organisation'...   \n",
       "10  [{'role': 'Product Analyst', 'organisation': '...   \n",
       "11  [{'role': 'Co-Founder & Product Manager', 'org...   \n",
       "12  [{'role': 'Developer', 'organisation': 'TUI (w...   \n",
       "13  [{'role': 'Junior Product Designer', 'organisa...   \n",
       "14  [{'role': 'Product Manager', 'organisation': '...   \n",
       "15  [{'role': 'Product & Data Proposition', 'organ...   \n",
       "16  [{'role': 'Full stack developer', 'organisatio...   \n",
       "17  [{'role': 'Full stack developer', 'organisatio...   \n",
       "18  [{'role': 'Experience Design Lead', 'organisat...   \n",
       "19  [{'role': 'Software Engineer', 'organisation':...   \n",
       "20  [{'role': 'Software Engineer', 'organisation':...   \n",
       "21  [{'role': 'UX Designer', 'organisation': 'Robe...   \n",
       "22  [{'role': 'Software Developer', 'organisation'...   \n",
       "23  [{'role': 'Senior Software Engineer', 'organis...   \n",
       "24  [{'role': 'Mobile Developer', 'organisation': ...   \n",
       "25  [{'role': 'Associate Product Manager', 'organi...   \n",
       "26  [{'role': 'Implementation Consultant', 'organi...   \n",
       "27  [{'role': 'Technical Product Manager', 'organi...   \n",
       "28  [{'role': 'Product Owner', 'organisation': 'Op...   \n",
       "29  [{'role': 'Product Manager', 'organisation': '...   \n",
       "\n",
       "                                             overview  \n",
       "0   Technical delivery lead and Agile coach with o...  \n",
       "1   Technical delivery lead and Agile coach with o...  \n",
       "2   Ayodele joined AND Digital as a frontend devel...  \n",
       "3   Barney joined AND Digital in 2022 bringing in ...  \n",
       "4   With over 3 years of development experience, H...  \n",
       "5   Peter is a senior product developer with over ...  \n",
       "6   Tony is a passionate DevOps Engineer, dedicate...  \n",
       "7   -\\nOVERVIEW\\n\\nSystematic design thinker and c...  \n",
       "8   Christine joined AND in 2021 as an Associate C...  \n",
       "9   6+ years experience as a Digital Designer with...  \n",
       "10  Anshu is a product owner having 10+ years IT i...  \n",
       "11  Product Manager\\nAzentio Software \\n\\nVipin wa...  \n",
       "12  AWS Certified developer with professional expe...  \n",
       "13  Alisha joined AND Digital in 2022 and has over...  \n",
       "14  Head of Product \\nGreen Man Gaming\\n\\nNitish m...  \n",
       "15  Experienced in Proposition, strategy and leade...  \n",
       "16  Ildiko is a skilled full-stack developer, usin...  \n",
       "17  Kai is a highly motivated full stack developer...  \n",
       "18  Ryan joined AND Digital in 2021, and has over ...  \n",
       "19  Dan joined AND Digital in 2021, bringing with ...  \n",
       "20  Dan joined AND Digital in 2021, bringing with ...  \n",
       "21  MSc Design Innovation Management\\nLoughborough...  \n",
       "22  Julia joined AND Digital in 2022 as a Product ...  \n",
       "23  Ollie joined AND Digital in January 2022, brin...  \n",
       "24  Rafael joined AND Digital in 2021, bringing wi...  \n",
       "25  Raihan joined AND Digital in May 2022, bringin...  \n",
       "26  Suellen joined AND Digital September 2022, bri...  \n",
       "27  A former senior full-stack developer with a Co...  \n",
       "28  Tawfiq is an experienced Product Owner, naviga...  \n",
       "29  Product Manager\\nCircle DNA\\n\\nAnastasia was P...  "
      ]
     },
     "execution_count": 938,
     "metadata": {},
     "output_type": "execute_result"
    }
   ],
   "source": [
    "# df.iloc[37:51,2:]\n",
    "df.head(30)"
   ]
  },
  {
   "cell_type": "code",
   "execution_count": 986,
   "id": "f13afa28",
   "metadata": {},
   "outputs": [],
   "source": [
    "df.to_csv('./bios.csv')"
   ]
  },
  {
   "cell_type": "code",
   "execution_count": 975,
   "id": "dad1f478",
   "metadata": {},
   "outputs": [
    {
     "name": "stdout",
     "output_type": "stream",
     "text": [
      "[{'role': 'Front End Developer', 'organisation': 'Premier Inn (Whitbread plc)', 'description': 'Ashraf has been involved in the Business Booker team, helping create a greenfield project, collaborating in cross teams. He has helped introduce best practices and been involved in integrating CI/CD pipelines, retrieving the quality scores of web pages. Moreover, he has integrated E2E testing for the journey of the application. '}, {'role': 'Full Stack Developer', 'organisation': 'Luna (Internal project)', 'description': 'Ashraf has worked on a complex internal project and developed features which were specific to user roles and company data , including utilising both AWS lambdas and database migrations. Additionally, Ashraf helped increase the type safety of the codebase, thus allowing errors to be spotted earlier. He also helped onboard new members to the team and assisted more junior members of the team in completing tickets. '}, {'role': 'Front End Developer', 'organisation': 'Openr (Azzurri Group)', 'description': 'Ashraf has built user interfaces and features which has solved the needs of restaurant chains. He has further helped developed a greenfield application for stakeholders to update the availabilities of their products, using best and modern front-end web practices. He has also helped increase the code end-to-end coverage of the applications, leading to them being more reliable and robust. '}]\n"
     ]
    }
   ],
   "source": [
    "for i in list(df[df['firstName'] == 'Ashraf']['experiences']):\n",
    "    print(i)\n",
    "#     for j in i:\n",
    "#         print(j['organisation'])"
   ]
  },
  {
   "cell_type": "code",
   "execution_count": 63,
   "id": "6049a431",
   "metadata": {},
   "outputs": [],
   "source": [
    "processed_slides = []\n",
    "            \n",
    "for i in bio_objects.keys():\n",
    "    temp_id = str(uuid4())\n",
    "    name = name_identifier(bio_objects[i]).rstrip().split('\\n')[0].split(' ')\n",
    "    full_name = name_identifier(bio_objects[i]).rstrip()\n",
    "    and_title = and_title_identifier(bio_objects[i])\n",
    "    experiences = experiences_identifier(bio_objects[i])\n",
    "    tech_stacks = []\n",
    "    industries = []\n",
    "    clients = []\n",
    "    \n",
    "    for elements in bio_objects[i]:\n",
    "        if sub_sections_evaluater(bio_objects[i][elements]) == 'tech_stack':\n",
    "            tech_stacks = bio_objects[i][elements]\n",
    "        elif sub_sections_evaluater(bio_objects[i][elements]) == 'industries':\n",
    "            industries = [x.rstrip() for x in bio_objects[i][elements]]\n",
    "        elif sub_sections_evaluater(bio_objects[i][elements]) == 'clients':\n",
    "            clients = bio_objects[i][elements]\n",
    "    processed_slides.append({\\\n",
    "                  'key': 'USER#'+ temp_id,\n",
    "                  'id': 'BIO#' + temp_id,\n",
    "                  'full_name': full_name,\n",
    "                  'firstName': name[0],\n",
    "                  \"lastName\": name[-1],\n",
    "                  'and_tile': and_title,\n",
    "                  'experiences': experiences,\n",
    "                  'tech_stack': tech_stacks,\n",
    "                  'industries': industries,\n",
    "                  'clients': clients                            \n",
    "                 })"
   ]
  },
  {
   "cell_type": "code",
   "execution_count": 940,
   "id": "57c535d1",
   "metadata": {},
   "outputs": [
    {
     "name": "stdout",
     "output_type": "stream",
     "text": [
      "[[{'role': 'Front End Developer', 'organisation': 'Premier Inn (Whitbread plc)', 'description': 'Ashraf has been involved in the Business Booker team, helping create a greenfield project, collaborating in cross teams. He has helped introduce best practices and been involved in integrating CI/CD pipelines, retrieving the quality scores of web pages. Moreover, he has integrated E2E testing for the journey of the application. '}, {'role': 'Full Stack Developer', 'organisation': 'Luna (Internal project)', 'description': 'Ashraf has worked on a complex internal project and developed features which were specific to user roles and company data , including utilising both AWS lambdas and database migrations. Additionally, Ashraf helped increase the type safety of the codebase, thus allowing errors to be spotted earlier. He also helped onboard new members to the team and assisted more junior members of the team in completing tickets. '}, {'role': 'Front End Developer', 'organisation': 'Openr (Azzurri Group)', 'description': 'Ashraf has built user interfaces and features which has solved the needs of restaurant chains. He has further helped developed a greenfield application for stakeholders to update the availabilities of their products, using best and modern front-end web practices. He has also helped increase the code end-to-end coverage of the applications, leading to them being more reliable and robust. '}]]\n"
     ]
    }
   ],
   "source": [
    "### processed_slides = pd.DataFrame(processed_slides)\n",
    "print([x for x in processed_slides[processed_slides['firstName'] == 'Ashraf']['experiences']])"
   ]
  },
  {
   "cell_type": "code",
   "execution_count": 78,
   "id": "9d0b91d6",
   "metadata": {},
   "outputs": [
    {
     "name": "stdout",
     "output_type": "stream",
     "text": [
      "[['Academic Publishing', 'B2B and B2C', 'Financial Services', 'Food and Drink', 'Hospitality', 'Real Estate', 'Retail', 'Travel'], ['Academic Publishing', 'B2B and B2C', 'Financial Services', 'Food and Drink', 'Hospitality', 'Real Estate', 'Retail', 'Travel'], ['Hospitality', 'E-Commerce', 'Retail', 'Public Sector', '']]\n"
     ]
    }
   ],
   "source": [
    "print([i for i in processed_slides[0:3]['industries']])"
   ]
  },
  {
   "cell_type": "code",
   "execution_count": null,
   "id": "3322a7a3",
   "metadata": {},
   "outputs": [],
   "source": [
    "users = processed_slides.drop_duplicates(subset=['full_name']).iloc[:,0:3]\n",
    "users.drop(columns=['id']).head(20)"
   ]
  },
  {
   "cell_type": "code",
   "execution_count": null,
   "id": "6b0bfa51",
   "metadata": {},
   "outputs": [],
   "source": [
    "processed_slides = pd.DataFrame(processed_slides)\n",
    "n_i = 80\n",
    "print(list(processed_slides[n_i:n_i+1]['experiences'])[0][2])\n",
    "print()\n",
    "print(list(processed_slides[n_i:n_i+1]['name'])[0])"
   ]
  },
  {
   "cell_type": "code",
   "execution_count": null,
   "id": "c816ea02",
   "metadata": {},
   "outputs": [],
   "source": [
    "char_count = []\n",
    "for index, row in processed_slides.iterrows():\n",
    "    for i in row['experiences']:\n",
    "        if len(i['description']) > 0:\n",
    "#         print(i['description'])\n",
    "#         print()\n",
    "            char_count.append(len(i['description']))\n",
    "        else:\n",
    "            continue\n",
    "print(np.max(char_count))\n",
    "print(np.average(char_count))\n",
    "# print()\n",
    "# print(char_count)"
   ]
  },
  {
   "cell_type": "code",
   "execution_count": null,
   "id": "69558407",
   "metadata": {},
   "outputs": [],
   "source": [
    "bio_objects['61']['7']"
   ]
  },
  {
   "cell_type": "code",
   "execution_count": 851,
   "id": "89e31256",
   "metadata": {},
   "outputs": [],
   "source": [
    "my_json = [\n",
    "    {\n",
    "       \"role\": \"Front End Developer\",\n",
    "       \"organisation\": \"Premier Inn (Whitbread plc)\",\n",
    "       \"description\": \"Ashraf has been involved in the Business Booker team, helping create a greenfield project, collaborating in cross teams. He has helped introduce best practices and been involved in integrating CI/CD pipelines, retrieving the quality scores of web pages. Moreover, he has integrated E2E testing for the journey of the application. \"\n",
    "    },\n",
    "    {\n",
    "       \"role\": \"Full Stack Developer\",\n",
    "       \"organisation\": \"Luna (Internal project)\",\n",
    "       \"description\": \"Ashraf has worked on a complex internal project and developed features which were specific to user roles and company data , including utilising both AWS lambdas and database migrations. Additionally, Ashraf helped increase the type safety of the codebase, thus allowing errors to be spotted earlier. He also helped onboard new members to the team and assisted more junior members of the team in completing tickets. \"\n",
    "    },\n",
    "    {\n",
    "       \"role\": \"Front End Developer\",\n",
    "       \"organisation\": \"Openr (Azzurri Group)\",\n",
    "       \"description\": \"Ashraf has built user interfaces and features which has solved the needs of restaurant chains. He has further helped developed a greenfield application for stakeholders to update the availabilities of their products, using best and modern front-end web practices. He has also helped increase the code end-to-end coverage of the applications, leading to them being more reliable and robust. \"\n",
    "    }\n",
    " ]"
   ]
  },
  {
   "cell_type": "code",
   "execution_count": 871,
   "id": "00204843",
   "metadata": {},
   "outputs": [
    {
     "name": "stdout",
     "output_type": "stream",
     "text": [
      "Max. number of characters in Experiences Description is: 308\n",
      "\n",
      "Average number of Experience Description is 374.0\n"
     ]
    }
   ],
   "source": [
    "max_num_of_char = 0\n",
    "num_of_char = []\n",
    "for i in df['experiences']:\n",
    "    for xp in i:\n",
    "        num_of_char.append(len(xp['description']))\n",
    "        if len(xp['role']) > max_num_of_char:\n",
    "            max_num_of_char = len(xp['description'])\n",
    "        else:\n",
    "            continue\n",
    "\n",
    "print('Max. number of characters in Experiences Description is: ' + str(max_num_of_char))\n",
    "print()\n",
    "print('Average number of Experience Description is ' + str(np.round(np.sum(num_of_char)/len(num_of_char),0)))\n",
    "        "
   ]
  },
  {
   "cell_type": "code",
   "execution_count": null,
   "id": "2fc0a0fa",
   "metadata": {},
   "outputs": [],
   "source": []
  }
 ],
 "metadata": {
  "kernelspec": {
   "display_name": "Python 3 (ipykernel)",
   "language": "python",
   "name": "python3"
  },
  "language_info": {
   "codemirror_mode": {
    "name": "ipython",
    "version": 3
   },
   "file_extension": ".py",
   "mimetype": "text/x-python",
   "name": "python",
   "nbconvert_exporter": "python",
   "pygments_lexer": "ipython3",
   "version": "3.9.13"
  }
 },
 "nbformat": 4,
 "nbformat_minor": 5
}
