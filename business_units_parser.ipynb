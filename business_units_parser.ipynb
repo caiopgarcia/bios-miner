{
 "cells": [
  {
   "cell_type": "code",
   "execution_count": 1,
   "id": "0184e74d",
   "metadata": {},
   "outputs": [
    {
     "name": "stdout",
     "output_type": "stream",
     "text": [
      "Intel MKL WARNING: Support of Intel(R) Streaming SIMD Extensions 4.2 (Intel(R) SSE4.2) enabled only processors has been deprecated. Intel oneAPI Math Kernel Library 2025.0 will require Intel(R) Advanced Vector Extensions (Intel(R) AVX) instructions.\n",
      "Intel MKL WARNING: Support of Intel(R) Streaming SIMD Extensions 4.2 (Intel(R) SSE4.2) enabled only processors has been deprecated. Intel oneAPI Math Kernel Library 2025.0 will require Intel(R) Advanced Vector Extensions (Intel(R) AVX) instructions.\n"
     ]
    }
   ],
   "source": [
    "import pandas as pd\n",
    "import json"
   ]
  },
  {
   "cell_type": "code",
   "execution_count": 2,
   "id": "3083a826",
   "metadata": {},
   "outputs": [],
   "source": [
    "with open('./business_units.json', 'r') as f:\n",
    "  data = json.load(f)['data']"
   ]
  },
  {
   "cell_type": "code",
   "execution_count": 3,
   "id": "94343398",
   "metadata": {},
   "outputs": [],
   "source": [
    "df = pd.json_normalize(data)"
   ]
  },
  {
   "cell_type": "code",
   "execution_count": 4,
   "id": "a179c102",
   "metadata": {},
   "outputs": [],
   "source": [
    "df = df[(df.lob != 'BHAG') & (df.lob != 'Company') ]['unit']"
   ]
  },
  {
   "cell_type": "code",
   "execution_count": 11,
   "id": "40fe4f50",
   "metadata": {},
   "outputs": [
    {
     "name": "stdout",
     "output_type": "stream",
     "text": [
      "Cloud Hawking\n",
      "Cloud Hubble\n",
      "Cloud da Vinci\n",
      "Club Ada\n",
      "Club Adams\n",
      "Club Aletta\n",
      "Club Almeida\n",
      "Club Babbage\n",
      "Club Curie\n",
      "Club Dekker\n",
      "Club Gladys\n",
      "Club Grace\n",
      "Club Hamilton\n",
      "Club Jemison\n",
      "Club Kilburn\n",
      "Club Koolhaas\n",
      "Club Murray\n",
      "Club Newton\n",
      "Club Sheffield\n",
      "Club Somerville\n",
      "Club Sparck\n",
      "Club Turing\n",
      "Club Wangari\n",
      "Club Woods\n",
      "Consulting Cannon\n",
      "Consulting Franklin\n",
      "Global Operations\n",
      "Link BU Success\n",
      "Link Client Success\n",
      "Link People & Process Connect\n",
      "Public Sector\n",
      "Tenzing Europe\n",
      "Tenzing London\n",
      "Tenzing S&Y\n",
      "Tenzing USA\n",
      "Tenzing W&NW\n"
     ]
    }
   ],
   "source": [
    "for i in df:\n",
    "    print(i)"
   ]
  },
  {
   "cell_type": "code",
   "execution_count": 10,
   "id": "359b6146",
   "metadata": {},
   "outputs": [
    {
     "name": "stdout",
     "output_type": "stream",
     "text": [
      "BUSINESS_UNIT#CLOUD_HAWKING\n",
      "BUSINESS_UNIT#CLOUD_HUBBLE\n",
      "BUSINESS_UNIT#CLOUD_DA_VINCI\n",
      "BUSINESS_UNIT#CLUB_ADA\n",
      "BUSINESS_UNIT#CLUB_ADAMS\n",
      "BUSINESS_UNIT#CLUB_ALETTA\n",
      "BUSINESS_UNIT#CLUB_ALMEIDA\n",
      "BUSINESS_UNIT#CLUB_BABBAGE\n",
      "BUSINESS_UNIT#CLUB_CURIE\n",
      "BUSINESS_UNIT#CLUB_DEKKER\n",
      "BUSINESS_UNIT#CLUB_GLADYS\n",
      "BUSINESS_UNIT#CLUB_GRACE\n",
      "BUSINESS_UNIT#CLUB_HAMILTON\n",
      "BUSINESS_UNIT#CLUB_JEMISON\n",
      "BUSINESS_UNIT#CLUB_KILBURN\n",
      "BUSINESS_UNIT#CLUB_KOOLHAAS\n",
      "BUSINESS_UNIT#CLUB_MURRAY\n",
      "BUSINESS_UNIT#CLUB_NEWTON\n",
      "BUSINESS_UNIT#CLUB_SHEFFIELD\n",
      "BUSINESS_UNIT#CLUB_SOMERVILLE\n",
      "BUSINESS_UNIT#CLUB_SPARCK\n",
      "BUSINESS_UNIT#CLUB_TURING\n",
      "BUSINESS_UNIT#CLUB_WANGARI\n",
      "BUSINESS_UNIT#CLUB_WOODS\n",
      "BUSINESS_UNIT#CONSULTING_CANNON\n",
      "BUSINESS_UNIT#CONSULTING_FRANKLIN\n",
      "BUSINESS_UNIT#GLOBAL_OPERATIONS\n",
      "BUSINESS_UNIT#LINK_BU_SUCCESS\n",
      "BUSINESS_UNIT#LINK_CLIENT_SUCCESS\n",
      "BUSINESS_UNIT#LINK_PEOPLE_&_PROCESS_CONNECT\n",
      "BUSINESS_UNIT#PUBLIC_SECTOR\n",
      "BUSINESS_UNIT#TENZING_EUROPE\n",
      "BUSINESS_UNIT#TENZING_LONDON\n",
      "BUSINESS_UNIT#TENZING_S&Y\n",
      "BUSINESS_UNIT#TENZING_USA\n",
      "BUSINESS_UNIT#TENZING_W&NW\n"
     ]
    }
   ],
   "source": [
    "for i in df:\n",
    "    print('BUSINESS_UNIT#'+ i.upper().replace(' ','_'))"
   ]
  },
  {
   "cell_type": "code",
   "execution_count": null,
   "id": "b8851163",
   "metadata": {},
   "outputs": [],
   "source": []
  }
 ],
 "metadata": {
  "kernelspec": {
   "display_name": "Python 3 (ipykernel)",
   "language": "python",
   "name": "python3"
  },
  "language_info": {
   "codemirror_mode": {
    "name": "ipython",
    "version": 3
   },
   "file_extension": ".py",
   "mimetype": "text/x-python",
   "name": "python",
   "nbconvert_exporter": "python",
   "pygments_lexer": "ipython3",
   "version": "3.9.13"
  }
 },
 "nbformat": 4,
 "nbformat_minor": 5
}
